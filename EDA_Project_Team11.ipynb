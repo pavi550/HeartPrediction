{
 "cells": [
  {
   "cell_type": "markdown",
   "id": "14bb185a",
   "metadata": {},
   "source": [
    "## Exploratory Data Analysis in Python by Team 11\n",
    "### Team Members\n",
    "1. Janani Srinivasan\n",
    "2. Monisha B R\n",
    "3. Praveenkumar\n",
    "4. Varsha\n",
    "5. Viswanath Viralam Ramamurthy"
   ]
  },
  {
   "cell_type": "markdown",
   "id": "3f5c6342",
   "metadata": {},
   "source": [
    "#### About the Data Set\n",
    "This dataset is designed for heart disease prediction and integrates both traditional medical indicators and an additional QuantumPatternFeature. The dataset includes key clinical attributes such as Age, Gender, Blood Pressure, Cholesterol, and Heart Rate, which are commonly used in cardiovascular risk assessment.\n",
    "\n",
    "The QuantumPatternFeature introduces an additional layer of complexity by capturing intricate, non-linear relationships. This feature enhances the dataset’s potential for advanced predictive modeling, allowing researchers to explore new approaches in both classical and quantum machine learning.\n",
    "\n",
    "With 500 samples, this dataset provides a well-structured foundation for testing various machine learning techniques, feature importance analysis, and model interpretability in medical diagnosis.\n",
    "\n",
    "Source : https://www.kaggle.com/datasets/shantanugarg274/heart-prediction-dataset-quantum\n",
    "\n",
    "P.S : Dataset has been modified to fit some of the needed usecases like removing Duplicates and filling with Nulls / near match values."
   ]
  },
  {
   "cell_type": "markdown",
   "id": "cc5fac7a-a92b-4b01-973f-f175259285a7",
   "metadata": {
    "id": "cc5fac7a-a92b-4b01-973f-f175259285a7"
   },
   "source": [
    "#### Importing Libraries"
   ]
  },
  {
   "cell_type": "code",
   "execution_count": 31,
   "id": "f432a049-bccd-4e99-ab9f-1cb4ba0c71c7",
   "metadata": {},
   "outputs": [],
   "source": [
    "import pandas as pd\n",
    "import numpy as np\n",
    "import matplotlib.pyplot as plt\n",
    "import seaborn as sns"
   ]
  },
  {
   "cell_type": "markdown",
   "id": "fc098d72-d569-4433-8313-57a3fc7ce5d6",
   "metadata": {
    "id": "fc098d72-d569-4433-8313-57a3fc7ce5d6"
   },
   "source": [
    "#### Loading Datasets"
   ]
  },
  {
   "cell_type": "code",
   "execution_count": 32,
   "id": "7639bee6-4dcf-40d6-b1f9-9ef26cac7317",
   "metadata": {
    "id": "7639bee6-4dcf-40d6-b1f9-9ef26cac7317"
   },
   "outputs": [
    {
     "data": {
      "text/html": [
       "<div>\n",
       "<style scoped>\n",
       "    .dataframe tbody tr th:only-of-type {\n",
       "        vertical-align: middle;\n",
       "    }\n",
       "\n",
       "    .dataframe tbody tr th {\n",
       "        vertical-align: top;\n",
       "    }\n",
       "\n",
       "    .dataframe thead th {\n",
       "        text-align: right;\n",
       "    }\n",
       "</style>\n",
       "<table border=\"1\" class=\"dataframe\">\n",
       "  <thead>\n",
       "    <tr style=\"text-align: right;\">\n",
       "      <th></th>\n",
       "      <th>Age</th>\n",
       "      <th>Gender</th>\n",
       "      <th>BloodPressure</th>\n",
       "      <th>Cholesterol</th>\n",
       "      <th>HeartRate</th>\n",
       "      <th>QuantumPatternFeature</th>\n",
       "      <th>HeartDisease</th>\n",
       "    </tr>\n",
       "  </thead>\n",
       "  <tbody>\n",
       "    <tr>\n",
       "      <th>0</th>\n",
       "      <td>68</td>\n",
       "      <td>Male</td>\n",
       "      <td>105.0</td>\n",
       "      <td>191</td>\n",
       "      <td>107</td>\n",
       "      <td>8.362241</td>\n",
       "      <td>Yes</td>\n",
       "    </tr>\n",
       "    <tr>\n",
       "      <th>1</th>\n",
       "      <td>58</td>\n",
       "      <td>Female</td>\n",
       "      <td>97.0</td>\n",
       "      <td>249</td>\n",
       "      <td>89</td>\n",
       "      <td>9.249002</td>\n",
       "      <td>No</td>\n",
       "    </tr>\n",
       "    <tr>\n",
       "      <th>2</th>\n",
       "      <td>44</td>\n",
       "      <td>Female</td>\n",
       "      <td>93.0</td>\n",
       "      <td>190</td>\n",
       "      <td>82</td>\n",
       "      <td>7.942542</td>\n",
       "      <td>Yes</td>\n",
       "    </tr>\n",
       "    <tr>\n",
       "      <th>3</th>\n",
       "      <td>72</td>\n",
       "      <td>Male</td>\n",
       "      <td>93.0</td>\n",
       "      <td>183</td>\n",
       "      <td>101</td>\n",
       "      <td>6.495155</td>\n",
       "      <td>Yes</td>\n",
       "    </tr>\n",
       "    <tr>\n",
       "      <th>4</th>\n",
       "      <td>37</td>\n",
       "      <td>Female</td>\n",
       "      <td>145.0</td>\n",
       "      <td>166</td>\n",
       "      <td>103</td>\n",
       "      <td>7.653900</td>\n",
       "      <td>Yes</td>\n",
       "    </tr>\n",
       "    <tr>\n",
       "      <th>...</th>\n",
       "      <td>...</td>\n",
       "      <td>...</td>\n",
       "      <td>...</td>\n",
       "      <td>...</td>\n",
       "      <td>...</td>\n",
       "      <td>...</td>\n",
       "      <td>...</td>\n",
       "    </tr>\n",
       "    <tr>\n",
       "      <th>501</th>\n",
       "      <td>55</td>\n",
       "      <td>Female</td>\n",
       "      <td>174.0</td>\n",
       "      <td>249</td>\n",
       "      <td>89</td>\n",
       "      <td>10.492950</td>\n",
       "      <td>No</td>\n",
       "    </tr>\n",
       "    <tr>\n",
       "      <th>502</th>\n",
       "      <td>72</td>\n",
       "      <td>Female</td>\n",
       "      <td>135.0</td>\n",
       "      <td>152</td>\n",
       "      <td>91</td>\n",
       "      <td>6.515717</td>\n",
       "      <td>Yes</td>\n",
       "    </tr>\n",
       "    <tr>\n",
       "      <th>503</th>\n",
       "      <td>66</td>\n",
       "      <td>Female</td>\n",
       "      <td>105.0</td>\n",
       "      <td>276</td>\n",
       "      <td>98</td>\n",
       "      <td>9.159122</td>\n",
       "      <td>No</td>\n",
       "    </tr>\n",
       "    <tr>\n",
       "      <th>504</th>\n",
       "      <td>41</td>\n",
       "      <td>Female</td>\n",
       "      <td>164.0</td>\n",
       "      <td>248</td>\n",
       "      <td>114</td>\n",
       "      <td>9.067889</td>\n",
       "      <td>No</td>\n",
       "    </tr>\n",
       "    <tr>\n",
       "      <th>505</th>\n",
       "      <td>59</td>\n",
       "      <td>Female</td>\n",
       "      <td>107.0</td>\n",
       "      <td>157</td>\n",
       "      <td>101</td>\n",
       "      <td>7.337650</td>\n",
       "      <td>Yes</td>\n",
       "    </tr>\n",
       "  </tbody>\n",
       "</table>\n",
       "<p>506 rows × 7 columns</p>\n",
       "</div>"
      ],
      "text/plain": [
       "     Age  Gender  BloodPressure  Cholesterol  HeartRate  \\\n",
       "0     68    Male          105.0          191        107   \n",
       "1     58  Female           97.0          249         89   \n",
       "2     44  Female           93.0          190         82   \n",
       "3     72    Male           93.0          183        101   \n",
       "4     37  Female          145.0          166        103   \n",
       "..   ...     ...            ...          ...        ...   \n",
       "501   55  Female          174.0          249         89   \n",
       "502   72  Female          135.0          152         91   \n",
       "503   66  Female          105.0          276         98   \n",
       "504   41  Female          164.0          248        114   \n",
       "505   59  Female          107.0          157        101   \n",
       "\n",
       "     QuantumPatternFeature HeartDisease  \n",
       "0                 8.362241          Yes  \n",
       "1                 9.249002           No  \n",
       "2                 7.942542          Yes  \n",
       "3                 6.495155          Yes  \n",
       "4                 7.653900          Yes  \n",
       "..                     ...          ...  \n",
       "501              10.492950           No  \n",
       "502               6.515717          Yes  \n",
       "503               9.159122           No  \n",
       "504               9.067889           No  \n",
       "505               7.337650          Yes  \n",
       "\n",
       "[506 rows x 7 columns]"
      ]
     },
     "execution_count": 32,
     "metadata": {},
     "output_type": "execute_result"
    }
   ],
   "source": [
    "df1=pd.read_csv(\"Heart Prediction Quantum Dataset.csv\")\n",
    "df1"
   ]
  },
  {
   "cell_type": "markdown",
   "id": "db931465-1b31-4766-aba0-6c47fd92d267",
   "metadata": {
    "id": "db931465-1b31-4766-aba0-6c47fd92d267"
   },
   "source": [
    "#### Data Shape, Data Types"
   ]
  },
  {
   "cell_type": "code",
   "execution_count": 33,
   "id": "be85cc7b-f5cf-48da-ade5-16df073f8064",
   "metadata": {
    "id": "be85cc7b-f5cf-48da-ade5-16df073f8064",
    "outputId": "d4739c8c-290c-470a-88d5-9f64dfc0b3a7"
   },
   "outputs": [
    {
     "name": "stdout",
     "output_type": "stream",
     "text": [
      "shape of the dataset : \n"
     ]
    },
    {
     "data": {
      "text/plain": [
       "(506, 7)"
      ]
     },
     "execution_count": 33,
     "metadata": {},
     "output_type": "execute_result"
    }
   ],
   "source": [
    "print(\"shape of the dataset : \")\n",
    "df1.shape"
   ]
  },
  {
   "cell_type": "code",
   "execution_count": 34,
   "id": "5bfa206c-7953-4dbc-a87c-2bc2e43f447c",
   "metadata": {
    "id": "5bfa206c-7953-4dbc-a87c-2bc2e43f447c"
   },
   "outputs": [
    {
     "name": "stdout",
     "output_type": "stream",
     "text": [
      "Data types list :\n",
      "Age                        int64\n",
      "Gender                    object\n",
      "BloodPressure            float64\n",
      "Cholesterol                int64\n",
      "HeartRate                  int64\n",
      "QuantumPatternFeature    float64\n",
      "HeartDisease              object\n",
      "dtype: object\n"
     ]
    }
   ],
   "source": [
    "print(\"Data types list :\" )\n",
    "\n",
    "print(df1.dtypes)"
   ]
  },
  {
   "cell_type": "code",
   "execution_count": 35,
   "id": "c9d18c67",
   "metadata": {},
   "outputs": [
    {
     "name": "stdout",
     "output_type": "stream",
     "text": [
      "Info :\n",
      "<class 'pandas.core.frame.DataFrame'>\n",
      "RangeIndex: 506 entries, 0 to 505\n",
      "Data columns (total 7 columns):\n",
      " #   Column                 Non-Null Count  Dtype  \n",
      "---  ------                 --------------  -----  \n",
      " 0   Age                    506 non-null    int64  \n",
      " 1   Gender                 506 non-null    object \n",
      " 2   BloodPressure          505 non-null    float64\n",
      " 3   Cholesterol            506 non-null    int64  \n",
      " 4   HeartRate              506 non-null    int64  \n",
      " 5   QuantumPatternFeature  506 non-null    float64\n",
      " 6   HeartDisease           506 non-null    object \n",
      "dtypes: float64(2), int64(3), object(2)\n",
      "memory usage: 27.8+ KB\n"
     ]
    }
   ],
   "source": [
    "print(\"Info :\")\n",
    "\n",
    "df1.info()"
   ]
  },
  {
   "cell_type": "markdown",
   "id": "67aaf7f8-98a0-40ad-9ffb-aa87dda3b789",
   "metadata": {
    "id": "67aaf7f8-98a0-40ad-9ffb-aa87dda3b789"
   },
   "source": [
    "#### Summary Statistics of the Dataset"
   ]
  },
  {
   "cell_type": "code",
   "execution_count": 36,
   "id": "fa10b253-579f-4243-b845-f2a94a1dab13",
   "metadata": {
    "id": "fa10b253-579f-4243-b845-f2a94a1dab13"
   },
   "outputs": [
    {
     "data": {
      "text/html": [
       "<div>\n",
       "<style scoped>\n",
       "    .dataframe tbody tr th:only-of-type {\n",
       "        vertical-align: middle;\n",
       "    }\n",
       "\n",
       "    .dataframe tbody tr th {\n",
       "        vertical-align: top;\n",
       "    }\n",
       "\n",
       "    .dataframe thead th {\n",
       "        text-align: right;\n",
       "    }\n",
       "</style>\n",
       "<table border=\"1\" class=\"dataframe\">\n",
       "  <thead>\n",
       "    <tr style=\"text-align: right;\">\n",
       "      <th></th>\n",
       "      <th>Age</th>\n",
       "      <th>Gender</th>\n",
       "      <th>BloodPressure</th>\n",
       "      <th>Cholesterol</th>\n",
       "      <th>HeartRate</th>\n",
       "      <th>QuantumPatternFeature</th>\n",
       "      <th>HeartDisease</th>\n",
       "    </tr>\n",
       "  </thead>\n",
       "  <tbody>\n",
       "    <tr>\n",
       "      <th>count</th>\n",
       "      <td>506.000000</td>\n",
       "      <td>506</td>\n",
       "      <td>505.000000</td>\n",
       "      <td>506.000000</td>\n",
       "      <td>506.000000</td>\n",
       "      <td>506.000000</td>\n",
       "      <td>506</td>\n",
       "    </tr>\n",
       "    <tr>\n",
       "      <th>unique</th>\n",
       "      <td>NaN</td>\n",
       "      <td>2</td>\n",
       "      <td>NaN</td>\n",
       "      <td>NaN</td>\n",
       "      <td>NaN</td>\n",
       "      <td>NaN</td>\n",
       "      <td>2</td>\n",
       "    </tr>\n",
       "    <tr>\n",
       "      <th>top</th>\n",
       "      <td>NaN</td>\n",
       "      <td>Female</td>\n",
       "      <td>NaN</td>\n",
       "      <td>NaN</td>\n",
       "      <td>NaN</td>\n",
       "      <td>NaN</td>\n",
       "      <td>Yes</td>\n",
       "    </tr>\n",
       "    <tr>\n",
       "      <th>freq</th>\n",
       "      <td>NaN</td>\n",
       "      <td>270</td>\n",
       "      <td>NaN</td>\n",
       "      <td>NaN</td>\n",
       "      <td>NaN</td>\n",
       "      <td>NaN</td>\n",
       "      <td>303</td>\n",
       "    </tr>\n",
       "    <tr>\n",
       "      <th>mean</th>\n",
       "      <td>54.869565</td>\n",
       "      <td>NaN</td>\n",
       "      <td>132.855446</td>\n",
       "      <td>222.529644</td>\n",
       "      <td>88.701581</td>\n",
       "      <td>8.310510</td>\n",
       "      <td>NaN</td>\n",
       "    </tr>\n",
       "    <tr>\n",
       "      <th>std</th>\n",
       "      <td>14.290854</td>\n",
       "      <td>NaN</td>\n",
       "      <td>26.436749</td>\n",
       "      <td>47.813997</td>\n",
       "      <td>17.703943</td>\n",
       "      <td>0.923753</td>\n",
       "      <td>NaN</td>\n",
       "    </tr>\n",
       "    <tr>\n",
       "      <th>min</th>\n",
       "      <td>30.000000</td>\n",
       "      <td>NaN</td>\n",
       "      <td>90.000000</td>\n",
       "      <td>150.000000</td>\n",
       "      <td>40.000000</td>\n",
       "      <td>6.164692</td>\n",
       "      <td>NaN</td>\n",
       "    </tr>\n",
       "    <tr>\n",
       "      <th>25%</th>\n",
       "      <td>43.000000</td>\n",
       "      <td>NaN</td>\n",
       "      <td>111.000000</td>\n",
       "      <td>183.000000</td>\n",
       "      <td>73.000000</td>\n",
       "      <td>7.658902</td>\n",
       "      <td>NaN</td>\n",
       "    </tr>\n",
       "    <tr>\n",
       "      <th>50%</th>\n",
       "      <td>55.000000</td>\n",
       "      <td>NaN</td>\n",
       "      <td>132.000000</td>\n",
       "      <td>221.000000</td>\n",
       "      <td>89.000000</td>\n",
       "      <td>8.323064</td>\n",
       "      <td>NaN</td>\n",
       "    </tr>\n",
       "    <tr>\n",
       "      <th>75%</th>\n",
       "      <td>66.000000</td>\n",
       "      <td>NaN</td>\n",
       "      <td>155.000000</td>\n",
       "      <td>258.750000</td>\n",
       "      <td>103.750000</td>\n",
       "      <td>8.936850</td>\n",
       "      <td>NaN</td>\n",
       "    </tr>\n",
       "    <tr>\n",
       "      <th>max</th>\n",
       "      <td>79.000000</td>\n",
       "      <td>NaN</td>\n",
       "      <td>179.000000</td>\n",
       "      <td>497.000000</td>\n",
       "      <td>119.000000</td>\n",
       "      <td>10.784886</td>\n",
       "      <td>NaN</td>\n",
       "    </tr>\n",
       "  </tbody>\n",
       "</table>\n",
       "</div>"
      ],
      "text/plain": [
       "               Age  Gender  BloodPressure  Cholesterol   HeartRate  \\\n",
       "count   506.000000     506     505.000000   506.000000  506.000000   \n",
       "unique         NaN       2            NaN          NaN         NaN   \n",
       "top            NaN  Female            NaN          NaN         NaN   \n",
       "freq           NaN     270            NaN          NaN         NaN   \n",
       "mean     54.869565     NaN     132.855446   222.529644   88.701581   \n",
       "std      14.290854     NaN      26.436749    47.813997   17.703943   \n",
       "min      30.000000     NaN      90.000000   150.000000   40.000000   \n",
       "25%      43.000000     NaN     111.000000   183.000000   73.000000   \n",
       "50%      55.000000     NaN     132.000000   221.000000   89.000000   \n",
       "75%      66.000000     NaN     155.000000   258.750000  103.750000   \n",
       "max      79.000000     NaN     179.000000   497.000000  119.000000   \n",
       "\n",
       "        QuantumPatternFeature HeartDisease  \n",
       "count              506.000000          506  \n",
       "unique                    NaN            2  \n",
       "top                       NaN          Yes  \n",
       "freq                      NaN          303  \n",
       "mean                 8.310510          NaN  \n",
       "std                  0.923753          NaN  \n",
       "min                  6.164692          NaN  \n",
       "25%                  7.658902          NaN  \n",
       "50%                  8.323064          NaN  \n",
       "75%                  8.936850          NaN  \n",
       "max                 10.784886          NaN  "
      ]
     },
     "execution_count": 36,
     "metadata": {},
     "output_type": "execute_result"
    }
   ],
   "source": [
    "summary_statistics = df1.describe (include=\"all\")\n",
    "summary_statistics"
   ]
  },
  {
   "cell_type": "markdown",
   "id": "6a6ee77e-96e4-4a82-87b1-770d2341783c",
   "metadata": {
    "id": "6a6ee77e-96e4-4a82-87b1-770d2341783c"
   },
   "source": [
    "#### Checking for Missing Values using 'List Comprehensions'"
   ]
  },
  {
   "cell_type": "code",
   "execution_count": 37,
   "id": "085e1453-74f0-4564-9eeb-cf8a009a2868",
   "metadata": {
    "id": "085e1453-74f0-4564-9eeb-cf8a009a2868",
    "outputId": "f57d6bb0-0ed4-4369-c687-4fd24224a1eb"
   },
   "outputs": [
    {
     "data": {
      "text/plain": [
       "['BloodPressure']"
      ]
     },
     "execution_count": 37,
     "metadata": {},
     "output_type": "execute_result"
    }
   ],
   "source": [
    "missing_columns = [col for col in df1.columns if df1[col].isnull().sum() > 0]\n",
    "\n",
    "missing_columns"
   ]
  },
  {
   "cell_type": "markdown",
   "id": "b10a287e-a420-4e24-9832-db876b174364",
   "metadata": {
    "id": "b10a287e-a420-4e24-9832-db876b174364"
   },
   "source": [
    "#### Filling n/a for Missing Values"
   ]
  },
  {
   "cell_type": "code",
   "execution_count": 38,
   "id": "c6474a3f-6c48-485c-afd4-5f95a920a8f7",
   "metadata": {
    "id": "c6474a3f-6c48-485c-afd4-5f95a920a8f7",
    "outputId": "9d437e8d-7d1e-4a5e-bb0f-86090fcfc1cd"
   },
   "outputs": [
    {
     "data": {
      "text/plain": [
       "(   Age  Gender BloodPressure  Cholesterol  HeartRate  QuantumPatternFeature  \\\n",
       " 0   68    Male         105.0          191        107               8.362241   \n",
       " 1   58  Female          97.0          249         89               9.249002   \n",
       " 2   44  Female          93.0          190         82               7.942542   \n",
       " 3   72    Male          93.0          183        101               6.495155   \n",
       " 4   37  Female         145.0          166        103               7.653900   \n",
       " \n",
       "   HeartDisease  \n",
       " 0          Yes  \n",
       " 1           No  \n",
       " 2          Yes  \n",
       " 3          Yes  \n",
       " 4          Yes  ,\n",
       " BloodPressure    1\n",
       " dtype: int64)"
      ]
     },
     "execution_count": 38,
     "metadata": {},
     "output_type": "execute_result"
    }
   ],
   "source": [
    "df1_filled = df1.fillna(\"N/A\")\n",
    "filled_values = df1.isnull().sum()\n",
    "filled_values = filled_values[filled_values > 0]\n",
    "\n",
    "df1_filled.head(), filled_values"
   ]
  },
  {
   "cell_type": "markdown",
   "id": "b67f2ca1-ed26-4ce8-85f4-52c843f08052",
   "metadata": {
    "id": "b67f2ca1-ed26-4ce8-85f4-52c843f08052"
   },
   "source": [
    "#### Verifying null values replaced with n/a"
   ]
  },
  {
   "cell_type": "code",
   "execution_count": 39,
   "id": "0b9f381b-fdfb-405a-8ad3-ea57304bff58",
   "metadata": {
    "id": "0b9f381b-fdfb-405a-8ad3-ea57304bff58",
    "outputId": "cab074fb-40ed-4a71-a37c-0d9ab91ce90f"
   },
   "outputs": [
    {
     "data": {
      "text/plain": [
       "Age                      0\n",
       "Gender                   0\n",
       "BloodPressure            0\n",
       "Cholesterol              0\n",
       "HeartRate                0\n",
       "QuantumPatternFeature    0\n",
       "HeartDisease             0\n",
       "dtype: int64"
      ]
     },
     "execution_count": 39,
     "metadata": {},
     "output_type": "execute_result"
    }
   ],
   "source": [
    "values_after_change = df1_filled.isnull().sum()\n",
    "values_after_change"
   ]
  },
  {
   "cell_type": "markdown",
   "id": "28b00637-b568-41fe-8775-41cca90fd1ef",
   "metadata": {
    "id": "28b00637-b568-41fe-8775-41cca90fd1ef"
   },
   "source": [
    "#### Find the duplicate rows"
   ]
  },
  {
   "cell_type": "code",
   "execution_count": 40,
   "id": "7d3808c7-52e6-4817-9608-cb2e286e5bdf",
   "metadata": {
    "id": "7d3808c7-52e6-4817-9608-cb2e286e5bdf",
    "outputId": "15763b94-3309-4bb7-9dc5-cff6fd98e14e"
   },
   "outputs": [],
   "source": [
    "duplicate_rows = df1[df1.duplicated()]"
   ]
  },
  {
   "cell_type": "code",
   "execution_count": 41,
   "id": "65e2006e",
   "metadata": {},
   "outputs": [
    {
     "name": "stdout",
     "output_type": "stream",
     "text": [
      "\n",
      " Duplicate rows:\n"
     ]
    },
    {
     "data": {
      "text/html": [
       "<div>\n",
       "<style scoped>\n",
       "    .dataframe tbody tr th:only-of-type {\n",
       "        vertical-align: middle;\n",
       "    }\n",
       "\n",
       "    .dataframe tbody tr th {\n",
       "        vertical-align: top;\n",
       "    }\n",
       "\n",
       "    .dataframe thead th {\n",
       "        text-align: right;\n",
       "    }\n",
       "</style>\n",
       "<table border=\"1\" class=\"dataframe\">\n",
       "  <thead>\n",
       "    <tr style=\"text-align: right;\">\n",
       "      <th></th>\n",
       "      <th>Age</th>\n",
       "      <th>Gender</th>\n",
       "      <th>BloodPressure</th>\n",
       "      <th>Cholesterol</th>\n",
       "      <th>HeartRate</th>\n",
       "      <th>QuantumPatternFeature</th>\n",
       "      <th>HeartDisease</th>\n",
       "    </tr>\n",
       "  </thead>\n",
       "  <tbody>\n",
       "    <tr>\n",
       "      <th>87</th>\n",
       "      <td>37</td>\n",
       "      <td>Female</td>\n",
       "      <td>145.0</td>\n",
       "      <td>166</td>\n",
       "      <td>103</td>\n",
       "      <td>7.653900</td>\n",
       "      <td>Yes</td>\n",
       "    </tr>\n",
       "    <tr>\n",
       "      <th>88</th>\n",
       "      <td>50</td>\n",
       "      <td>Male</td>\n",
       "      <td>114.0</td>\n",
       "      <td>271</td>\n",
       "      <td>73</td>\n",
       "      <td>8.631604</td>\n",
       "      <td>No</td>\n",
       "    </tr>\n",
       "    <tr>\n",
       "      <th>502</th>\n",
       "      <td>72</td>\n",
       "      <td>Female</td>\n",
       "      <td>135.0</td>\n",
       "      <td>152</td>\n",
       "      <td>91</td>\n",
       "      <td>6.515717</td>\n",
       "      <td>Yes</td>\n",
       "    </tr>\n",
       "    <tr>\n",
       "      <th>503</th>\n",
       "      <td>66</td>\n",
       "      <td>Female</td>\n",
       "      <td>105.0</td>\n",
       "      <td>276</td>\n",
       "      <td>98</td>\n",
       "      <td>9.159122</td>\n",
       "      <td>No</td>\n",
       "    </tr>\n",
       "    <tr>\n",
       "      <th>504</th>\n",
       "      <td>41</td>\n",
       "      <td>Female</td>\n",
       "      <td>164.0</td>\n",
       "      <td>248</td>\n",
       "      <td>114</td>\n",
       "      <td>9.067889</td>\n",
       "      <td>No</td>\n",
       "    </tr>\n",
       "  </tbody>\n",
       "</table>\n",
       "</div>"
      ],
      "text/plain": [
       "     Age  Gender  BloodPressure  Cholesterol  HeartRate  \\\n",
       "87    37  Female          145.0          166        103   \n",
       "88    50    Male          114.0          271         73   \n",
       "502   72  Female          135.0          152         91   \n",
       "503   66  Female          105.0          276         98   \n",
       "504   41  Female          164.0          248        114   \n",
       "\n",
       "     QuantumPatternFeature HeartDisease  \n",
       "87                7.653900          Yes  \n",
       "88                8.631604           No  \n",
       "502               6.515717          Yes  \n",
       "503               9.159122           No  \n",
       "504               9.067889           No  "
      ]
     },
     "execution_count": 41,
     "metadata": {},
     "output_type": "execute_result"
    }
   ],
   "source": [
    "print(\"\\n Duplicate rows:\")\n",
    "duplicate_rows"
   ]
  },
  {
   "cell_type": "code",
   "execution_count": 42,
   "id": "d063616a",
   "metadata": {},
   "outputs": [
    {
     "name": "stdout",
     "output_type": "stream",
     "text": [
      "\n",
      " Number of duplicate rows:\n"
     ]
    },
    {
     "data": {
      "text/plain": [
       "5"
      ]
     },
     "execution_count": 42,
     "metadata": {},
     "output_type": "execute_result"
    }
   ],
   "source": [
    "print(\"\\n Number of duplicate rows:\")\n",
    "# num_duplicates = duplicate_rows.shape[0]\n",
    "num_duplicates = df1.duplicated().sum()\n",
    "num_duplicates"
   ]
  },
  {
   "cell_type": "markdown",
   "id": "1d1f696d-1e85-4816-b0c0-6e627d3bb44a",
   "metadata": {
    "id": "1d1f696d-1e85-4816-b0c0-6e627d3bb44a"
   },
   "source": [
    "#### Removing the duplicate rows"
   ]
  },
  {
   "cell_type": "code",
   "execution_count": 43,
   "id": "d0262eb3-a39f-4f29-a95a-d4a46a446aa4",
   "metadata": {
    "id": "d0262eb3-a39f-4f29-a95a-d4a46a446aa4",
    "outputId": "5e00a58d-830c-4a02-a085-5a0cca855d9f"
   },
   "outputs": [
    {
     "data": {
      "text/html": [
       "<div>\n",
       "<style scoped>\n",
       "    .dataframe tbody tr th:only-of-type {\n",
       "        vertical-align: middle;\n",
       "    }\n",
       "\n",
       "    .dataframe tbody tr th {\n",
       "        vertical-align: top;\n",
       "    }\n",
       "\n",
       "    .dataframe thead th {\n",
       "        text-align: right;\n",
       "    }\n",
       "</style>\n",
       "<table border=\"1\" class=\"dataframe\">\n",
       "  <thead>\n",
       "    <tr style=\"text-align: right;\">\n",
       "      <th></th>\n",
       "      <th>Age</th>\n",
       "      <th>Gender</th>\n",
       "      <th>BloodPressure</th>\n",
       "      <th>Cholesterol</th>\n",
       "      <th>HeartRate</th>\n",
       "      <th>QuantumPatternFeature</th>\n",
       "      <th>HeartDisease</th>\n",
       "    </tr>\n",
       "  </thead>\n",
       "  <tbody>\n",
       "    <tr>\n",
       "      <th>0</th>\n",
       "      <td>68</td>\n",
       "      <td>Male</td>\n",
       "      <td>105.0</td>\n",
       "      <td>191</td>\n",
       "      <td>107</td>\n",
       "      <td>8.362241</td>\n",
       "      <td>Yes</td>\n",
       "    </tr>\n",
       "    <tr>\n",
       "      <th>1</th>\n",
       "      <td>58</td>\n",
       "      <td>Female</td>\n",
       "      <td>97.0</td>\n",
       "      <td>249</td>\n",
       "      <td>89</td>\n",
       "      <td>9.249002</td>\n",
       "      <td>No</td>\n",
       "    </tr>\n",
       "    <tr>\n",
       "      <th>2</th>\n",
       "      <td>44</td>\n",
       "      <td>Female</td>\n",
       "      <td>93.0</td>\n",
       "      <td>190</td>\n",
       "      <td>82</td>\n",
       "      <td>7.942542</td>\n",
       "      <td>Yes</td>\n",
       "    </tr>\n",
       "    <tr>\n",
       "      <th>3</th>\n",
       "      <td>72</td>\n",
       "      <td>Male</td>\n",
       "      <td>93.0</td>\n",
       "      <td>183</td>\n",
       "      <td>101</td>\n",
       "      <td>6.495155</td>\n",
       "      <td>Yes</td>\n",
       "    </tr>\n",
       "    <tr>\n",
       "      <th>4</th>\n",
       "      <td>37</td>\n",
       "      <td>Female</td>\n",
       "      <td>145.0</td>\n",
       "      <td>166</td>\n",
       "      <td>103</td>\n",
       "      <td>7.653900</td>\n",
       "      <td>Yes</td>\n",
       "    </tr>\n",
       "    <tr>\n",
       "      <th>...</th>\n",
       "      <td>...</td>\n",
       "      <td>...</td>\n",
       "      <td>...</td>\n",
       "      <td>...</td>\n",
       "      <td>...</td>\n",
       "      <td>...</td>\n",
       "      <td>...</td>\n",
       "    </tr>\n",
       "    <tr>\n",
       "      <th>498</th>\n",
       "      <td>41</td>\n",
       "      <td>Female</td>\n",
       "      <td>164.0</td>\n",
       "      <td>248</td>\n",
       "      <td>114</td>\n",
       "      <td>9.067889</td>\n",
       "      <td>No</td>\n",
       "    </tr>\n",
       "    <tr>\n",
       "      <th>499</th>\n",
       "      <td>45</td>\n",
       "      <td>Male</td>\n",
       "      <td>159.0</td>\n",
       "      <td>175</td>\n",
       "      <td>75</td>\n",
       "      <td>8.718708</td>\n",
       "      <td>No</td>\n",
       "    </tr>\n",
       "    <tr>\n",
       "      <th>500</th>\n",
       "      <td>55</td>\n",
       "      <td>Female</td>\n",
       "      <td>107.0</td>\n",
       "      <td>157</td>\n",
       "      <td>101</td>\n",
       "      <td>7.337650</td>\n",
       "      <td>Yes</td>\n",
       "    </tr>\n",
       "    <tr>\n",
       "      <th>501</th>\n",
       "      <td>55</td>\n",
       "      <td>Female</td>\n",
       "      <td>174.0</td>\n",
       "      <td>249</td>\n",
       "      <td>89</td>\n",
       "      <td>10.492950</td>\n",
       "      <td>No</td>\n",
       "    </tr>\n",
       "    <tr>\n",
       "      <th>505</th>\n",
       "      <td>59</td>\n",
       "      <td>Female</td>\n",
       "      <td>107.0</td>\n",
       "      <td>157</td>\n",
       "      <td>101</td>\n",
       "      <td>7.337650</td>\n",
       "      <td>Yes</td>\n",
       "    </tr>\n",
       "  </tbody>\n",
       "</table>\n",
       "<p>501 rows × 7 columns</p>\n",
       "</div>"
      ],
      "text/plain": [
       "     Age  Gender  BloodPressure  Cholesterol  HeartRate  \\\n",
       "0     68    Male          105.0          191        107   \n",
       "1     58  Female           97.0          249         89   \n",
       "2     44  Female           93.0          190         82   \n",
       "3     72    Male           93.0          183        101   \n",
       "4     37  Female          145.0          166        103   \n",
       "..   ...     ...            ...          ...        ...   \n",
       "498   41  Female          164.0          248        114   \n",
       "499   45    Male          159.0          175         75   \n",
       "500   55  Female          107.0          157        101   \n",
       "501   55  Female          174.0          249         89   \n",
       "505   59  Female          107.0          157        101   \n",
       "\n",
       "     QuantumPatternFeature HeartDisease  \n",
       "0                 8.362241          Yes  \n",
       "1                 9.249002           No  \n",
       "2                 7.942542          Yes  \n",
       "3                 6.495155          Yes  \n",
       "4                 7.653900          Yes  \n",
       "..                     ...          ...  \n",
       "498               9.067889           No  \n",
       "499               8.718708           No  \n",
       "500               7.337650          Yes  \n",
       "501              10.492950           No  \n",
       "505               7.337650          Yes  \n",
       "\n",
       "[501 rows x 7 columns]"
      ]
     },
     "execution_count": 43,
     "metadata": {},
     "output_type": "execute_result"
    }
   ],
   "source": [
    "df1.drop_duplicates(inplace=True)\n",
    "df1"
   ]
  },
  {
   "cell_type": "markdown",
   "id": "113ee864-8aa8-4609-a1f3-520bfbff2a5c",
   "metadata": {
    "id": "113ee864-8aa8-4609-a1f3-520bfbff2a5c"
   },
   "source": [
    "#### Statistics for Numerical Columns"
   ]
  },
  {
   "cell_type": "code",
   "execution_count": 44,
   "id": "1b7f6ac5-2362-44ec-b024-0d6e1ac04ada",
   "metadata": {
    "id": "1b7f6ac5-2362-44ec-b024-0d6e1ac04ada",
    "outputId": "9f3ac88c-e9ad-4f3e-efc6-85cc19c72d9f"
   },
   "outputs": [
    {
     "name": "stdout",
     "output_type": "stream",
     "text": [
      "\n",
      "Numerical Summary:\n"
     ]
    },
    {
     "data": {
      "text/html": [
       "<div>\n",
       "<style scoped>\n",
       "    .dataframe tbody tr th:only-of-type {\n",
       "        vertical-align: middle;\n",
       "    }\n",
       "\n",
       "    .dataframe tbody tr th {\n",
       "        vertical-align: top;\n",
       "    }\n",
       "\n",
       "    .dataframe thead th {\n",
       "        text-align: right;\n",
       "    }\n",
       "</style>\n",
       "<table border=\"1\" class=\"dataframe\">\n",
       "  <thead>\n",
       "    <tr style=\"text-align: right;\">\n",
       "      <th></th>\n",
       "      <th>Age</th>\n",
       "      <th>BloodPressure</th>\n",
       "      <th>Cholesterol</th>\n",
       "      <th>HeartRate</th>\n",
       "      <th>QuantumPatternFeature</th>\n",
       "    </tr>\n",
       "  </thead>\n",
       "  <tbody>\n",
       "    <tr>\n",
       "      <th>count</th>\n",
       "      <td>501.000000</td>\n",
       "      <td>500.000000</td>\n",
       "      <td>501.000000</td>\n",
       "      <td>501.000000</td>\n",
       "      <td>501.000000</td>\n",
       "    </tr>\n",
       "    <tr>\n",
       "      <th>mean</th>\n",
       "      <td>54.886228</td>\n",
       "      <td>132.858000</td>\n",
       "      <td>222.528942</td>\n",
       "      <td>88.630739</td>\n",
       "      <td>8.311557</td>\n",
       "    </tr>\n",
       "    <tr>\n",
       "      <th>std</th>\n",
       "      <td>14.295630</td>\n",
       "      <td>26.483742</td>\n",
       "      <td>47.759666</td>\n",
       "      <td>17.725501</td>\n",
       "      <td>0.922905</td>\n",
       "    </tr>\n",
       "    <tr>\n",
       "      <th>min</th>\n",
       "      <td>30.000000</td>\n",
       "      <td>90.000000</td>\n",
       "      <td>150.000000</td>\n",
       "      <td>40.000000</td>\n",
       "      <td>6.164692</td>\n",
       "    </tr>\n",
       "    <tr>\n",
       "      <th>25%</th>\n",
       "      <td>43.000000</td>\n",
       "      <td>110.750000</td>\n",
       "      <td>183.000000</td>\n",
       "      <td>73.000000</td>\n",
       "      <td>7.665244</td>\n",
       "    </tr>\n",
       "    <tr>\n",
       "      <th>50%</th>\n",
       "      <td>55.000000</td>\n",
       "      <td>131.500000</td>\n",
       "      <td>221.000000</td>\n",
       "      <td>89.000000</td>\n",
       "      <td>8.319011</td>\n",
       "    </tr>\n",
       "    <tr>\n",
       "      <th>75%</th>\n",
       "      <td>66.000000</td>\n",
       "      <td>155.000000</td>\n",
       "      <td>258.000000</td>\n",
       "      <td>104.000000</td>\n",
       "      <td>8.935573</td>\n",
       "    </tr>\n",
       "    <tr>\n",
       "      <th>max</th>\n",
       "      <td>79.000000</td>\n",
       "      <td>179.000000</td>\n",
       "      <td>497.000000</td>\n",
       "      <td>119.000000</td>\n",
       "      <td>10.784886</td>\n",
       "    </tr>\n",
       "  </tbody>\n",
       "</table>\n",
       "</div>"
      ],
      "text/plain": [
       "              Age  BloodPressure  Cholesterol   HeartRate  \\\n",
       "count  501.000000     500.000000   501.000000  501.000000   \n",
       "mean    54.886228     132.858000   222.528942   88.630739   \n",
       "std     14.295630      26.483742    47.759666   17.725501   \n",
       "min     30.000000      90.000000   150.000000   40.000000   \n",
       "25%     43.000000     110.750000   183.000000   73.000000   \n",
       "50%     55.000000     131.500000   221.000000   89.000000   \n",
       "75%     66.000000     155.000000   258.000000  104.000000   \n",
       "max     79.000000     179.000000   497.000000  119.000000   \n",
       "\n",
       "       QuantumPatternFeature  \n",
       "count             501.000000  \n",
       "mean                8.311557  \n",
       "std                 0.922905  \n",
       "min                 6.164692  \n",
       "25%                 7.665244  \n",
       "50%                 8.319011  \n",
       "75%                 8.935573  \n",
       "max                10.784886  "
      ]
     },
     "execution_count": 44,
     "metadata": {},
     "output_type": "execute_result"
    }
   ],
   "source": [
    "print(\"\\nNumerical Summary:\")\n",
    "df1.describe()"
   ]
  },
  {
   "cell_type": "markdown",
   "id": "f4ce3911-b2cd-41df-9090-e172f93839bd",
   "metadata": {
    "id": "f4ce3911-b2cd-41df-9090-e172f93839bd"
   },
   "source": [
    "#### Statistics for Categorical Columns"
   ]
  },
  {
   "cell_type": "code",
   "execution_count": 45,
   "id": "3b974df5-cd0d-422d-bdbf-a5c205607717",
   "metadata": {
    "id": "3b974df5-cd0d-422d-bdbf-a5c205607717",
    "outputId": "bd16799a-2c08-4bc0-aaaa-dde83414a9ab"
   },
   "outputs": [
    {
     "ename": "NameError",
     "evalue": "name 'df_filled' is not defined",
     "output_type": "error",
     "traceback": [
      "\u001b[0;31m---------------------------------------------------------------------------\u001b[0m",
      "\u001b[0;31mNameError\u001b[0m                                 Traceback (most recent call last)",
      "Cell \u001b[0;32mIn[45], line 1\u001b[0m\n\u001b[0;32m----> 1\u001b[0m categorical_summary \u001b[38;5;241m=\u001b[39m \u001b[43mdf_filled\u001b[49m\u001b[38;5;241m.\u001b[39mdescribe(include\u001b[38;5;241m=\u001b[39m[\u001b[38;5;124m\"\u001b[39m\u001b[38;5;124mobject\u001b[39m\u001b[38;5;124m\"\u001b[39m])\n\u001b[1;32m      2\u001b[0m categorical_summary\n",
      "\u001b[0;31mNameError\u001b[0m: name 'df_filled' is not defined"
     ]
    }
   ],
   "source": [
    "categorical_summary = df_filled.describe(include=[\"object\"])\n",
    "categorical_summary"
   ]
  },
  {
   "cell_type": "markdown",
   "id": "b28379a5-2167-44c1-81e0-407a56b30d7b",
   "metadata": {
    "id": "b28379a5-2167-44c1-81e0-407a56b30d7b"
   },
   "source": [
    "#### Group by 'Gender' and 'HeartDisease' to get aggregate statistics for all numerical columns using 'User-Defined function'"
   ]
  },
  {
   "cell_type": "code",
   "execution_count": null,
   "id": "f2b8c1db-78fd-4816-8bdd-6be3c3234436",
   "metadata": {
    "id": "f2b8c1db-78fd-4816-8bdd-6be3c3234436",
    "outputId": "ae3e10b5-0baf-4708-8e12-e8d09e267a3e"
   },
   "outputs": [
    {
     "name": "stdout",
     "output_type": "stream",
     "text": [
      "\n",
      "🔹 Age & Health Stats by Gender:\n",
      "               Age                   Cholesterol                    HeartRate  \\\n",
      "             mean median        std        mean median        std       mean   \n",
      "Gender                                                                         \n",
      "Female  55.059480   56.0  14.646207  219.985130  219.0  44.294467  89.159851   \n",
      "Male    54.582979   55.0  13.904917  222.782979  221.0  43.818582  88.497872   \n",
      "\n",
      "                         QuantumPatternFeature                      \n",
      "       median        std                  mean    median       std  \n",
      "Gender                                                              \n",
      "Female   90.0  17.389751              8.297911  8.293456  0.977273  \n",
      "Male     87.0  17.412142              8.328767  8.386286  0.853226  \n"
     ]
    }
   ],
   "source": [
    "def get_grouped_stats(df1, group_by_column):\n",
    "\n",
    "    if group_by_column not in df1.columns:\n",
    "        return f\"Column '{group_by_column}' not found in dataset.\"\n",
    "\n",
    "    # Group by the specified column and compute aggregate statistics\n",
    "    grouped_stats = df1.groupby(group_by_column).agg({\n",
    "        \"Age\": [\"mean\", \"median\", \"std\"],\n",
    "        \"Cholesterol\": [\"mean\", \"median\", \"std\"],\n",
    "        \"HeartRate\": [\"mean\", \"median\", \"std\"],\n",
    "        \"QuantumPatternFeature\": [\"mean\", \"median\", \"std\"]\n",
    "    })\n",
    "\n",
    "    return grouped_stats\n",
    "\n",
    "# Example Usage:\n",
    "age_stats_by_gender = get_grouped_stats(df1, \"Gender\")\n",
    "age_stats_by_heart_disease = get_grouped_stats(df1, \"HeartDisease\")\n",
    "\n",
    "# Display Age based on Gender\n",
    "print(\"\\n🔹 Age & Health Stats by Gender:\\n\", age_stats_by_gender)\n",
    "\n"
   ]
  },
  {
   "cell_type": "code",
   "execution_count": null,
   "id": "24fd438d-06d4-4251-9d30-7cbec39925c6",
   "metadata": {
    "id": "24fd438d-06d4-4251-9d30-7cbec39925c6",
    "outputId": "3e4a2920-4520-44ec-af7e-d59cb4a7a0f5"
   },
   "outputs": [
    {
     "name": "stdout",
     "output_type": "stream",
     "text": [
      "\n",
      "🔹 Age & Health Stats by Heart Disease:\n",
      "                     Age                   Cholesterol                    \\\n",
      "                   mean median        std        mean median        std   \n",
      "HeartDisease                                                              \n",
      "No            50.396040   51.0  10.722255  244.599010  252.5  39.152497   \n",
      "Yes           57.807947   62.0  15.573517  205.698675  198.5  40.133315   \n",
      "\n",
      "              HeartRate                   QuantumPatternFeature            \\\n",
      "                   mean median        std                  mean    median   \n",
      "HeartDisease                                                                \n",
      "No            90.925743   93.0  17.111848              9.184250  9.067805   \n",
      "Yes           87.463576   87.0  17.457790              7.729073  7.777625   \n",
      "\n",
      "                        \n",
      "                   std  \n",
      "HeartDisease            \n",
      "No            0.534086  \n",
      "Yes           0.612129  \n"
     ]
    }
   ],
   "source": [
    "# Diplay Age based on Heart Disease\n",
    "print(\"\\n🔹 Age & Health Stats by Heart Disease:\\n\", age_stats_by_heart_disease)"
   ]
  },
  {
   "cell_type": "markdown",
   "id": "418fa59b-81ae-4889-a800-12bc9cba6fbf",
   "metadata": {
    "id": "418fa59b-81ae-4889-a800-12bc9cba6fbf"
   },
   "source": [
    "#### Categorizing Age into bins using a 'Lambda Function'"
   ]
  },
  {
   "cell_type": "code",
   "execution_count": null,
   "id": "d1a4a45f-ab3e-430b-860e-b9294bf3fd45",
   "metadata": {
    "id": "d1a4a45f-ab3e-430b-860e-b9294bf3fd45",
    "outputId": "5e37806d-cf44-4e55-a525-302f30a6514b"
   },
   "outputs": [
    {
     "data": {
      "text/html": [
       "<div>\n",
       "<style scoped>\n",
       "    .dataframe tbody tr th:only-of-type {\n",
       "        vertical-align: middle;\n",
       "    }\n",
       "\n",
       "    .dataframe tbody tr th {\n",
       "        vertical-align: top;\n",
       "    }\n",
       "\n",
       "    .dataframe thead th {\n",
       "        text-align: right;\n",
       "    }\n",
       "</style>\n",
       "<table border=\"1\" class=\"dataframe\">\n",
       "  <thead>\n",
       "    <tr style=\"text-align: right;\">\n",
       "      <th></th>\n",
       "      <th>Age</th>\n",
       "      <th>Age_Group</th>\n",
       "    </tr>\n",
       "  </thead>\n",
       "  <tbody>\n",
       "    <tr>\n",
       "      <th>0</th>\n",
       "      <td>68</td>\n",
       "      <td>Senior</td>\n",
       "    </tr>\n",
       "    <tr>\n",
       "      <th>1</th>\n",
       "      <td>58</td>\n",
       "      <td>Middle-aged</td>\n",
       "    </tr>\n",
       "    <tr>\n",
       "      <th>2</th>\n",
       "      <td>44</td>\n",
       "      <td>Middle-aged</td>\n",
       "    </tr>\n",
       "    <tr>\n",
       "      <th>3</th>\n",
       "      <td>72</td>\n",
       "      <td>Senior</td>\n",
       "    </tr>\n",
       "    <tr>\n",
       "      <th>4</th>\n",
       "      <td>37</td>\n",
       "      <td>Young</td>\n",
       "    </tr>\n",
       "  </tbody>\n",
       "</table>\n",
       "</div>"
      ],
      "text/plain": [
       "   Age    Age_Group\n",
       "0   68       Senior\n",
       "1   58  Middle-aged\n",
       "2   44  Middle-aged\n",
       "3   72       Senior\n",
       "4   37        Young"
      ]
     },
     "execution_count": 192,
     "metadata": {},
     "output_type": "execute_result"
    }
   ],
   "source": [
    "df1[\"Age_Group\"] = df1[\"Age\"].apply(lambda x:\n",
    "    \"Young\" if x < 40 else\n",
    "    \"Middle-aged\" if 40 <= x < 60 else\n",
    "    \"Senior\"\n",
    ")\n",
    "\n",
    "# Display the first 5 rows with the new Age_Group column\n",
    "df1[[\"Age\", \"Age_Group\"]].head()"
   ]
  },
  {
   "cell_type": "code",
   "execution_count": null,
   "id": "60d45a46-81cf-479d-ac80-25ee4505a1a9",
   "metadata": {
    "id": "60d45a46-81cf-479d-ac80-25ee4505a1a9",
    "outputId": "673195b5-9318-4c09-e6aa-126d69b7672f"
   },
   "outputs": [
    {
     "data": {
      "text/html": [
       "<div>\n",
       "<style scoped>\n",
       "    .dataframe tbody tr th:only-of-type {\n",
       "        vertical-align: middle;\n",
       "    }\n",
       "\n",
       "    .dataframe tbody tr th {\n",
       "        vertical-align: top;\n",
       "    }\n",
       "\n",
       "    .dataframe thead th {\n",
       "        text-align: right;\n",
       "    }\n",
       "</style>\n",
       "<table border=\"1\" class=\"dataframe\">\n",
       "  <thead>\n",
       "    <tr style=\"text-align: right;\">\n",
       "      <th></th>\n",
       "      <th>QuantumPatternFeature</th>\n",
       "      <th>QPF_Level</th>\n",
       "    </tr>\n",
       "  </thead>\n",
       "  <tbody>\n",
       "    <tr>\n",
       "      <th>0</th>\n",
       "      <td>8.362241</td>\n",
       "      <td>Medium</td>\n",
       "    </tr>\n",
       "    <tr>\n",
       "      <th>1</th>\n",
       "      <td>9.249002</td>\n",
       "      <td>High</td>\n",
       "    </tr>\n",
       "    <tr>\n",
       "      <th>2</th>\n",
       "      <td>7.942542</td>\n",
       "      <td>Medium</td>\n",
       "    </tr>\n",
       "    <tr>\n",
       "      <th>3</th>\n",
       "      <td>6.495155</td>\n",
       "      <td>Low</td>\n",
       "    </tr>\n",
       "    <tr>\n",
       "      <th>4</th>\n",
       "      <td>7.653900</td>\n",
       "      <td>Medium</td>\n",
       "    </tr>\n",
       "  </tbody>\n",
       "</table>\n",
       "</div>"
      ],
      "text/plain": [
       "   QuantumPatternFeature QPF_Level\n",
       "0               8.362241    Medium\n",
       "1               9.249002      High\n",
       "2               7.942542    Medium\n",
       "3               6.495155       Low\n",
       "4               7.653900    Medium"
      ]
     },
     "execution_count": 196,
     "metadata": {},
     "output_type": "execute_result"
    }
   ],
   "source": [
    "df1[\"QPF_Level\"] = df1[\"QuantumPatternFeature\"].apply(lambda x:\n",
    "    \"Low\" if x < 7 else\n",
    "    \"Medium\" if 7 <= x < 9 else\n",
    "    \"High\"\n",
    ")\n",
    "\n",
    "# Display the first 5 rows with the new QPF_Level column\n",
    "df1[[\"QuantumPatternFeature\", \"QPF_Level\"]].head()"
   ]
  },
  {
   "cell_type": "markdown",
   "id": "24466f2e-b31a-409f-84b2-05282de4937e",
   "metadata": {
    "id": "24466f2e-b31a-409f-84b2-05282de4937e"
   },
   "source": [
    "#### Data Visualization"
   ]
  },
  {
   "cell_type": "markdown",
   "id": "7ebdc613-c103-40a6-9a29-ab62e2b974cd",
   "metadata": {
    "id": "7ebdc613-c103-40a6-9a29-ab62e2b974cd"
   },
   "source": [
    "##### Histograms"
   ]
  },
  {
   "cell_type": "code",
   "execution_count": null,
   "id": "82668c76-992e-449d-aed0-23802d0f9681",
   "metadata": {
    "id": "82668c76-992e-449d-aed0-23802d0f9681"
   },
   "outputs": [],
   "source": [
    "print(\"\\n Histogram for Numerical Columns:\")\n",
    "df1.hist(figsize=(12,10))\n",
    "plt.show()"
   ]
  },
  {
   "cell_type": "markdown",
   "id": "928d12eb-b309-4031-8bfb-538f6723d319",
   "metadata": {
    "id": "928d12eb-b309-4031-8bfb-538f6723d319"
   },
   "source": [
    "##### Barplots"
   ]
  },
  {
   "cell_type": "code",
   "execution_count": null,
   "id": "57b35e24-e168-4561-99a8-e1b0ab643279",
   "metadata": {
    "id": "57b35e24-e168-4561-99a8-e1b0ab643279"
   },
   "outputs": [],
   "source": [
    "print(\"\\n Bar plots of categorical features:\")\n",
    "for col in df1.select_dtypes(include=['object']).columns:\n",
    "    sns.countplot(x=col, data=df1)\n",
    "    plt.title(f'{col}')\n",
    "    plt.show()"
   ]
  },
  {
   "cell_type": "markdown",
   "id": "d15f2f77-b5c6-4a9c-bab7-671676602231",
   "metadata": {
    "id": "d15f2f77-b5c6-4a9c-bab7-671676602231"
   },
   "source": [
    "##### Box Plots to identify Outliers (example taken in this plot is heart disease and QPF )"
   ]
  },
  {
   "cell_type": "code",
   "execution_count": null,
   "id": "d3d0edcf-7b06-46a0-8aee-ecd5d83ec3be",
   "metadata": {
    "id": "d3d0edcf-7b06-46a0-8aee-ecd5d83ec3be"
   },
   "outputs": [],
   "source": [
    "# Boxplot to analyze Quantum Pattern Feature distribution across heart disease cases\n",
    "\n",
    "plt.figure(figsize=(8, 6))\n",
    "sns.boxplot(x=df1[\"HeartDisease\"], y=df1[\"QuantumPatternFeature\"], palette=\"Set2\")\n",
    "plt.xlabel(\"HeartDisease (Yes/No)\")\n",
    "plt.ylabel(\"QuantumPatternFeature\")\n",
    "plt.title(\"Quantum Pattern Feature Distribution by Heart Disease\")\n",
    "plt.show()"
   ]
  },
  {
   "cell_type": "code",
   "execution_count": null,
   "id": "29c40252-f4ff-4aa1-9c56-8897c40104ba",
   "metadata": {},
   "outputs": [
    {
     "data": {
      "image/png": "[encoded data removed]",
      "text/plain": [
       "<Figure size 1200x500 with 2 Axes>"
      ]
     },
     "metadata": {},
     "output_type": "display_data"
    }
   ],
   "source": [
    "# Creating boxplots for Heart Rate and Cholesterol to check for outliers\n",
    "plt.figure(figsize=(12, 5))\n",
    "\n",
    "# Heart Rate Boxplot\n",
    "plt.subplot(1, 2, 1)\n",
    "sns.boxplot(y=df1[\"HeartRate\"], color=\"skyblue\")\n",
    "plt.title(\"Boxplot of Heart Rate\")\n",
    "plt.ylabel(\"Heart Rate\")\n",
    "\n",
    "# Cholesterol Boxplot\n",
    "plt.subplot(1, 2, 2)\n",
    "sns.boxplot(y=df1[\"Cholesterol\"], color=\"lightcoral\")\n",
    "plt.title(\"Boxplot of Cholesterol\")\n",
    "plt.ylabel(\"Cholesterol\")\n",
    "\n",
    "plt.tight_layout()\n",
    "plt.show()"
   ]
  },
  {
   "cell_type": "markdown",
   "id": "e1542608-6cc4-467a-803d-6d9ceea482cd",
   "metadata": {
    "id": "e1542608-6cc4-467a-803d-6d9ceea482cd"
   },
   "source": [
    "##### Sctter plots"
   ]
  },
  {
   "cell_type": "code",
   "execution_count": null,
   "id": "77d947b2-0184-4738-8204-53e599acc110",
   "metadata": {
    "id": "77d947b2-0184-4738-8204-53e599acc110",
    "outputId": "53e539f1-f378-48ff-c261-7964ebd03f4e"
   },
   "outputs": [
    {
     "name": "stdout",
     "output_type": "stream",
     "text": [
      "\n",
      " Scatter plot of age and cholesterol:\n"
     ]
    },
    {
     "data": {
      "image/png": "[encoded data removed]",
      "text/plain": [
       "<Figure size 800x600 with 1 Axes>"
      ]
     },
     "metadata": {},
     "output_type": "display_data"
    }
   ],
   "source": [
    "## Blood Pressure vs Age, as high blood pressure is often associated with aging\n",
    "print(\"\\n Scatter plot of age and cholesterol:\") \n",
    "\n",
    "plt.figure(figsize=(8, 6))\n",
    "plt.scatter(df1[\"Age\"], df1[\"BloodPressure\"], alpha=0.6, color=\"red\")\n",
    "plt.xlabel(\"Age\")\n",
    "plt.ylabel(\"Blood Pressure\")\n",
    "plt.title(\"Scatter Plot of Age vs Blood Pressure\")\n",
    "plt.grid(True)\n",
    "plt.show()"
   ]
  },
  {
   "cell_type": "markdown",
   "id": "25567435-aabe-4e36-9e21-2b3cde1f4f59",
   "metadata": {
    "id": "6cbdba9d-35f7-4e02-9aac-c3b9b932fc3d"
   },
   "source": [
    "#### Heatmap -  Correlation between numerical features"
   ]
  },
  {
   "cell_type": "code",
   "execution_count": null,
   "id": "6e461522-0929-4b8d-8463-3acd0d174890",
   "metadata": {},
   "outputs": [
    {
     "name": "stdout",
     "output_type": "stream",
     "text": [
      "\n",
      " Heatmap of correlation map:\n"
     ]
    },
    {
     "data": {
      "image/png": "[encoded data removed]",
      "text/plain": [
       "<Figure size 640x480 with 2 Axes>"
      ]
     },
     "metadata": {},
     "output_type": "display_data"
    }
   ],
   "source": [
    "print(\"\\n Heatmap of correlation map:\")\n",
    "map=df1.corr(numeric_only=True)\n",
    "sns.heatmap(map,annot=True,cmap='coolwarm')\n",
    "plt.title('Feature Correlation Heatmap')\n",
    "plt.show()"
   ]
  },
  {
   "cell_type": "code",
   "execution_count": null,
   "id": "180aa4af-d727-46f3-a0d5-a3f2c4aff8f7",
   "metadata": {},
   "outputs": [],
   "source": []
  },
  {
   "cell_type": "code",
   "execution_count": null,
   "id": "3e1d786b-0574-4ffd-a96c-e077dd02a65e",
   "metadata": {},
   "outputs": [],
   "source": []
  },
  {
   "cell_type": "code",
   "execution_count": null,
   "id": "905cdff8-3959-43c2-a7b4-e34885174381",
   "metadata": {},
   "outputs": [],
   "source": []
  },
  {
   "cell_type": "code",
   "execution_count": null,
   "id": "3be2f904-1c10-4c44-aeb6-9e8fcd228eac",
   "metadata": {},
   "outputs": [],
   "source": []
  },
  {
   "cell_type": "code",
   "execution_count": null,
   "id": "e952f69e-2a04-4dcc-9bfb-adf2f3619464",
   "metadata": {},
   "outputs": [],
   "source": []
  }
 ],
 "metadata": {
  "colab": {
   "provenance": []
  },
  "kernelspec": {
   "display_name": "Python 3",
   "language": "python",
   "name": "python3"
  },
  "language_info": {
   "codemirror_mode": {
    "name": "ipython",
    "version": 3
   },
   "file_extension": ".py",
   "mimetype": "text/x-python",
   "name": "python",
   "nbconvert_exporter": "python",
   "pygments_lexer": "ipython3",
   "version": "3.12.3"
  }
 },
 "nbformat": 4,
 "nbformat_minor": 5
}
