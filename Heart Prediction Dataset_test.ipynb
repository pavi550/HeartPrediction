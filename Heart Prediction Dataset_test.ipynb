{
 "cells": [
  {
   "cell_type": "markdown",
   "id": "6aab3249-559b-4b47-b2bc-d1d2440369ec",
   "metadata": {},
   "source": [
    "# EDA Project: Heart Prediction Dataset Analysis\n",
    "# Name of group Members -- Praveen,Janani,Monisha,Varsha.Vishwa\n",
    "# Group - 11th Group \n",
    "# Name of the file Heart Prediction Dataset.ipynb\n",
    "## I. Project Setup\n",
    "\n",
    "### Import Libraries\n"
   ]
  },
  {
   "cell_type": "code",
   "execution_count": 18,
   "id": "93e8ff50-70e8-4c95-9aaa-181a09bc1af9",
   "metadata": {},
   "outputs": [],
   "source": [
    "import pandas as pd\n",
    "import numpy as np\n",
    "import matplotlib.pyplot as plt\n",
    "import seaborn as sns"
   ]
  },
  {
   "cell_type": "markdown",
   "id": "10eaab46-141b-4f6f-a8a1-af095523758a",
   "metadata": {},
   "source": [
    "### Load the Dataset"
   ]
  },
  {
   "cell_type": "code",
   "execution_count": 19,
   "id": "0be87a9c-1088-46ac-9c72-4d4c21ad83e2",
   "metadata": {},
   "outputs": [],
   "source": [
    "#Load the Heart Attack prediction data set \n",
    "df1=pd.read_csv(\"Heart Prediction Quantum Dataset_1.csv\")"
   ]
  },
  {
   "cell_type": "markdown",
   "id": "87772dad-49a2-427c-b71f-b669f20fea53",
   "metadata": {},
   "source": [
    "## II. Data Import and Cleaning"
   ]
  },
  {
   "cell_type": "markdown",
   "id": "0888dc00-4ef6-4482-aa4a-1a81a56ea007",
   "metadata": {},
   "source": [
    "### Initial Data Inspection"
   ]
  },
  {
   "cell_type": "markdown",
   "id": "0f4e36a3-dc20-4284-98d6-407ac9ddfd3c",
   "metadata": {},
   "source": [
    "# shape of the dataset # data types # Summary # first 5 rows "
   ]
  },
  {
   "cell_type": "code",
   "execution_count": 36,
   "id": "c051e82c-9100-47eb-9210-8a1ada3b384b",
   "metadata": {},
   "outputs": [
    {
     "name": "stdout",
     "output_type": "stream",
     "text": [
      "Checking the shape of the dataset : \n"
     ]
    },
    {
     "data": {
      "text/plain": [
       "(500, 8)"
      ]
     },
     "execution_count": 36,
     "metadata": {},
     "output_type": "execute_result"
    }
   ],
   "source": [
    "print(\"Checking the shape of the dataset : \")\n",
    "df1.shape"
   ]
  },
  {
   "cell_type": "code",
   "execution_count": 21,
   "id": "1f1712de-dfef-42ad-90e8-fb3312872f54",
   "metadata": {},
   "outputs": [
    {
     "name": "stdout",
     "output_type": "stream",
     "text": [
      "Type of the datatype is :  <class 'pandas.core.frame.DataFrame'>\n"
     ]
    }
   ],
   "source": [
    "print(\"Type of the datatype is : \",type(df1))"
   ]
  },
  {
   "cell_type": "code",
   "execution_count": 22,
   "id": "bd75a5f8-7824-4647-a814-2350c0a7a40d",
   "metadata": {},
   "outputs": [
    {
     "name": "stdout",
     "output_type": "stream",
     "text": [
      "<class 'pandas.core.frame.DataFrame'>\n",
      "RangeIndex: 500 entries, 0 to 499\n",
      "Data columns (total 8 columns):\n",
      " #   Column                   Non-Null Count  Dtype  \n",
      "---  ------                   --------------  -----  \n",
      " 0   Age                      500 non-null    int64  \n",
      " 1   Gender                   500 non-null    object \n",
      " 2   Blood Pressure           500 non-null    int64  \n",
      " 3   Cholesterol              500 non-null    int64  \n",
      " 4   Heart Rate               500 non-null    int64  \n",
      " 5   Quantum Pattern Feature  500 non-null    float64\n",
      " 6   Current Heart Disease    500 non-null    object \n",
      " 7   Age with Gender          500 non-null    object \n",
      "dtypes: float64(1), int64(4), object(3)\n",
      "memory usage: 31.4+ KB\n",
      "None\n"
     ]
    }
   ],
   "source": [
    "print(df1.info())"
   ]
  },
  {
   "cell_type": "code",
   "execution_count": 23,
   "id": "363cc63a-c6fa-421c-9f29-3f2bfe038dc1",
   "metadata": {},
   "outputs": [
    {
     "name": "stdout",
     "output_type": "stream",
     "text": [
      "              Age  Blood Pressure  Cholesterol  Heart Rate  \\\n",
      "count  500.000000      500.000000    500.00000  500.000000   \n",
      "mean    54.864000      132.874000    221.50000   88.766000   \n",
      "std     14.315004       26.418516     43.86363   17.417289   \n",
      "min     30.000000       90.000000    150.00000   60.000000   \n",
      "25%     43.000000      111.000000    183.75000   73.000000   \n",
      "50%     55.000000      132.000000    221.00000   89.000000   \n",
      "75%     66.250000      155.000000    258.00000  104.000000   \n",
      "max     79.000000      179.000000    299.00000  119.000000   \n",
      "\n",
      "       Quantum Pattern Feature  \n",
      "count               500.000000  \n",
      "mean                  8.317407  \n",
      "std                   0.919629  \n",
      "min                   6.164692  \n",
      "25%                   7.675779  \n",
      "50%                   8.323064  \n",
      "75%                   8.935999  \n",
      "max                  10.784886  \n"
     ]
    }
   ],
   "source": [
    "print(df1.describe())"
   ]
  },
  {
   "cell_type": "code",
   "execution_count": 24,
   "id": "14188142-f09e-4a51-823c-5f511323707d",
   "metadata": {},
   "outputs": [
    {
     "name": "stdout",
     "output_type": "stream",
     "text": [
      "\n",
      "First 5 Rows:\n"
     ]
    },
    {
     "data": {
      "text/html": [
       "<div>\n",
       "<style scoped>\n",
       "    .dataframe tbody tr th:only-of-type {\n",
       "        vertical-align: middle;\n",
       "    }\n",
       "\n",
       "    .dataframe tbody tr th {\n",
       "        vertical-align: top;\n",
       "    }\n",
       "\n",
       "    .dataframe thead th {\n",
       "        text-align: right;\n",
       "    }\n",
       "</style>\n",
       "<table border=\"1\" class=\"dataframe\">\n",
       "  <thead>\n",
       "    <tr style=\"text-align: right;\">\n",
       "      <th></th>\n",
       "      <th>Age</th>\n",
       "      <th>Gender</th>\n",
       "      <th>Blood Pressure</th>\n",
       "      <th>Cholesterol</th>\n",
       "      <th>Heart Rate</th>\n",
       "      <th>Quantum Pattern Feature</th>\n",
       "      <th>Current Heart Disease</th>\n",
       "      <th>Age with Gender</th>\n",
       "    </tr>\n",
       "  </thead>\n",
       "  <tbody>\n",
       "    <tr>\n",
       "      <th>0</th>\n",
       "      <td>79</td>\n",
       "      <td>Female</td>\n",
       "      <td>168</td>\n",
       "      <td>230</td>\n",
       "      <td>73</td>\n",
       "      <td>7.052413</td>\n",
       "      <td>Yes</td>\n",
       "      <td>79 Female</td>\n",
       "    </tr>\n",
       "    <tr>\n",
       "      <th>1</th>\n",
       "      <td>79</td>\n",
       "      <td>Male</td>\n",
       "      <td>96</td>\n",
       "      <td>247</td>\n",
       "      <td>116</td>\n",
       "      <td>8.327116</td>\n",
       "      <td>Yes</td>\n",
       "      <td>79 Male</td>\n",
       "    </tr>\n",
       "    <tr>\n",
       "      <th>2</th>\n",
       "      <td>79</td>\n",
       "      <td>Male</td>\n",
       "      <td>118</td>\n",
       "      <td>195</td>\n",
       "      <td>74</td>\n",
       "      <td>6.625696</td>\n",
       "      <td>Yes</td>\n",
       "      <td>79 Male</td>\n",
       "    </tr>\n",
       "    <tr>\n",
       "      <th>3</th>\n",
       "      <td>79</td>\n",
       "      <td>Female</td>\n",
       "      <td>121</td>\n",
       "      <td>237</td>\n",
       "      <td>69</td>\n",
       "      <td>8.293940</td>\n",
       "      <td>Yes</td>\n",
       "      <td>79 Female</td>\n",
       "    </tr>\n",
       "    <tr>\n",
       "      <th>4</th>\n",
       "      <td>79</td>\n",
       "      <td>Female</td>\n",
       "      <td>144</td>\n",
       "      <td>292</td>\n",
       "      <td>91</td>\n",
       "      <td>7.650543</td>\n",
       "      <td>Yes</td>\n",
       "      <td>79 Female</td>\n",
       "    </tr>\n",
       "  </tbody>\n",
       "</table>\n",
       "</div>"
      ],
      "text/plain": [
       "   Age  Gender  Blood Pressure  Cholesterol  Heart Rate  \\\n",
       "0   79  Female             168          230          73   \n",
       "1   79    Male              96          247         116   \n",
       "2   79    Male             118          195          74   \n",
       "3   79  Female             121          237          69   \n",
       "4   79  Female             144          292          91   \n",
       "\n",
       "   Quantum Pattern Feature Current Heart Disease Age with Gender  \n",
       "0                 7.052413                   Yes       79 Female  \n",
       "1                 8.327116                   Yes         79 Male  \n",
       "2                 6.625696                   Yes         79 Male  \n",
       "3                 8.293940                   Yes       79 Female  \n",
       "4                 7.650543                   Yes       79 Female  "
      ]
     },
     "execution_count": 24,
     "metadata": {},
     "output_type": "execute_result"
    }
   ],
   "source": [
    "print(\"\\nFirst 5 Rows:\")\n",
    "df1.head() #top five data in the dataset "
   ]
  },
  {
   "cell_type": "code",
   "execution_count": 25,
   "id": "f760f3f5-6a6c-41d9-8df0-12d24552b325",
   "metadata": {},
   "outputs": [
    {
     "name": "stdout",
     "output_type": "stream",
     "text": [
      "Corelationship between the data <bound method DataFrame.corr of      Age  Gender  Blood Pressure  Cholesterol  Heart Rate  \\\n",
      "0     79  Female             168          230          73   \n",
      "1     79    Male              96          247         116   \n",
      "2     79    Male             118          195          74   \n",
      "3     79  Female             121          237          69   \n",
      "4     79  Female             144          292          91   \n",
      "..   ...     ...             ...          ...         ...   \n",
      "495   30  Female             158          186          82   \n",
      "496   30    Male             144          158          61   \n",
      "497   30  Female             101          242         109   \n",
      "498   30    Male             109          246          62   \n",
      "499   30  Female             113          153          82   \n",
      "\n",
      "     Quantum Pattern Feature Current Heart Disease Age with Gender  \n",
      "0                   7.052413                   Yes       79 Female  \n",
      "1                   8.327116                   Yes         79 Male  \n",
      "2                   6.625696                   Yes         79 Male  \n",
      "3                   8.293940                   Yes       79 Female  \n",
      "4                   7.650543                   Yes       79 Female  \n",
      "..                       ...                   ...             ...  \n",
      "495                 7.236666                   Yes       30 Female  \n",
      "496                 7.361904                   Yes         30 Male  \n",
      "497                 9.004935                    No       30 Female  \n",
      "498                 7.613961                   Yes         30 Male  \n",
      "499                 6.693328                   Yes       30 Female  \n",
      "\n",
      "[500 rows x 8 columns]>\n"
     ]
    }
   ],
   "source": [
    "print(\"Corelationship between the data\",df1.corr)"
   ]
  },
  {
   "cell_type": "markdown",
   "id": "211a3361-0b51-417c-816f-afe61151f63a",
   "metadata": {},
   "source": [
    "### Missing Values Handling"
   ]
  },
  {
   "cell_type": "code",
   "execution_count": 26,
   "id": "0ae2d8ea-a65b-465a-881c-53dfdcf4735e",
   "metadata": {},
   "outputs": [
    {
     "name": "stdout",
     "output_type": "stream",
     "text": [
      "checking the null values or missing values  Age                        0\n",
      "Gender                     0\n",
      "Blood Pressure             0\n",
      "Cholesterol                0\n",
      "Heart Rate                 0\n",
      "Quantum Pattern Feature    0\n",
      "Current Heart Disease      0\n",
      "Age with Gender            0\n",
      "dtype: int64\n"
     ]
    }
   ],
   "source": [
    "print(\"checking the null values or missing values \",df1.isnull().sum() )"
   ]
  },
  {
   "cell_type": "code",
   "execution_count": 27,
   "id": "032f9b3c-a16e-4e96-978a-32a31499ebd6",
   "metadata": {},
   "outputs": [
    {
     "name": "stdout",
     "output_type": "stream",
     "text": [
      "Updated dataset :      Age  Gender  Blood Pressure  Cholesterol  Heart Rate  \\\n",
      "0     79  Female             168          230          73   \n",
      "1     79    Male              96          247         116   \n",
      "2     79    Male             118          195          74   \n",
      "3     79  Female             121          237          69   \n",
      "4     79  Female             144          292          91   \n",
      "..   ...     ...             ...          ...         ...   \n",
      "495   30  Female             158          186          82   \n",
      "496   30    Male             144          158          61   \n",
      "497   30  Female             101          242         109   \n",
      "498   30    Male             109          246          62   \n",
      "499   30  Female             113          153          82   \n",
      "\n",
      "     Quantum Pattern Feature Current Heart Disease Age with Gender  \n",
      "0                   7.052413                   Yes       79 Female  \n",
      "1                   8.327116                   Yes         79 Male  \n",
      "2                   6.625696                   Yes         79 Male  \n",
      "3                   8.293940                   Yes       79 Female  \n",
      "4                   7.650543                   Yes       79 Female  \n",
      "..                       ...                   ...             ...  \n",
      "495                 7.236666                   Yes       30 Female  \n",
      "496                 7.361904                   Yes         30 Male  \n",
      "497                 9.004935                    No       30 Female  \n",
      "498                 7.613961                   Yes         30 Male  \n",
      "499                 6.693328                   Yes       30 Female  \n",
      "\n",
      "[500 rows x 8 columns]\n"
     ]
    }
   ],
   "source": [
    "df1['Blood Pressure'].fillna(df1['Blood Pressure'].mean())\n",
    "print(\"Updated dataset :\",df1)"
   ]
  },
  {
   "cell_type": "markdown",
   "id": "110c8bc3-d592-4688-b591-624358ed64ee",
   "metadata": {},
   "source": [
    "### Duplicate Rows Removal"
   ]
  },
  {
   "cell_type": "code",
   "execution_count": 28,
   "id": "114e3a9e-a7da-4a5a-aca1-6c85033202f5",
   "metadata": {},
   "outputs": [
    {
     "name": "stdout",
     "output_type": "stream",
     "text": [
      "\n",
      " Duplicate rows:\n",
      "0\n"
     ]
    }
   ],
   "source": [
    "print(\"\\n Duplicate rows:\")\n",
    "print(df1.duplicated().sum())\n",
    "df1.drop_duplicates(inplace=True)  #Dropping the duplicate rows "
   ]
  },
  {
   "cell_type": "markdown",
   "id": "7299eb61-e05f-48ff-b727-0a07f90c2517",
   "metadata": {},
   "source": [
    "### Data Type Conversion "
   ]
  },
  {
   "cell_type": "code",
   "execution_count": 29,
   "id": "10c83660-1538-4a94-87b3-4833fd577a24",
   "metadata": {},
   "outputs": [],
   "source": [
    "# its is not required since we have not used the datatime format "
   ]
  },
  {
   "cell_type": "markdown",
   "id": "d1147180-ea76-4908-911e-2416222ef8eb",
   "metadata": {},
   "source": [
    "## III. Exploratory Data Analysis (EDA)"
   ]
  },
  {
   "cell_type": "markdown",
   "id": "9e4566e1-d7a5-4b09-9377-57c4de7ea2a1",
   "metadata": {},
   "source": [
    "### Descriptive Statistics"
   ]
  },
  {
   "cell_type": "markdown",
   "id": "8e7409e5-2faa-46ce-850a-7337eafaf02f",
   "metadata": {},
   "source": [
    "#### numerical columns "
   ]
  },
  {
   "cell_type": "code",
   "execution_count": 30,
   "id": "6a55ec17-b484-458c-a8a5-76fb38416e0e",
   "metadata": {},
   "outputs": [
    {
     "name": "stdout",
     "output_type": "stream",
     "text": [
      "\n",
      "Numerical Summary:\n"
     ]
    },
    {
     "data": {
      "text/html": [
       "<div>\n",
       "<style scoped>\n",
       "    .dataframe tbody tr th:only-of-type {\n",
       "        vertical-align: middle;\n",
       "    }\n",
       "\n",
       "    .dataframe tbody tr th {\n",
       "        vertical-align: top;\n",
       "    }\n",
       "\n",
       "    .dataframe thead th {\n",
       "        text-align: right;\n",
       "    }\n",
       "</style>\n",
       "<table border=\"1\" class=\"dataframe\">\n",
       "  <thead>\n",
       "    <tr style=\"text-align: right;\">\n",
       "      <th></th>\n",
       "      <th>Age</th>\n",
       "      <th>Blood Pressure</th>\n",
       "      <th>Cholesterol</th>\n",
       "      <th>Heart Rate</th>\n",
       "      <th>Quantum Pattern Feature</th>\n",
       "    </tr>\n",
       "  </thead>\n",
       "  <tbody>\n",
       "    <tr>\n",
       "      <th>count</th>\n",
       "      <td>500.000000</td>\n",
       "      <td>500.000000</td>\n",
       "      <td>500.00000</td>\n",
       "      <td>500.000000</td>\n",
       "      <td>500.000000</td>\n",
       "    </tr>\n",
       "    <tr>\n",
       "      <th>mean</th>\n",
       "      <td>54.864000</td>\n",
       "      <td>132.874000</td>\n",
       "      <td>221.50000</td>\n",
       "      <td>88.766000</td>\n",
       "      <td>8.317407</td>\n",
       "    </tr>\n",
       "    <tr>\n",
       "      <th>std</th>\n",
       "      <td>14.315004</td>\n",
       "      <td>26.418516</td>\n",
       "      <td>43.86363</td>\n",
       "      <td>17.417289</td>\n",
       "      <td>0.919629</td>\n",
       "    </tr>\n",
       "    <tr>\n",
       "      <th>min</th>\n",
       "      <td>30.000000</td>\n",
       "      <td>90.000000</td>\n",
       "      <td>150.00000</td>\n",
       "      <td>60.000000</td>\n",
       "      <td>6.164692</td>\n",
       "    </tr>\n",
       "    <tr>\n",
       "      <th>25%</th>\n",
       "      <td>43.000000</td>\n",
       "      <td>111.000000</td>\n",
       "      <td>183.75000</td>\n",
       "      <td>73.000000</td>\n",
       "      <td>7.675779</td>\n",
       "    </tr>\n",
       "    <tr>\n",
       "      <th>50%</th>\n",
       "      <td>55.000000</td>\n",
       "      <td>132.000000</td>\n",
       "      <td>221.00000</td>\n",
       "      <td>89.000000</td>\n",
       "      <td>8.323064</td>\n",
       "    </tr>\n",
       "    <tr>\n",
       "      <th>75%</th>\n",
       "      <td>66.250000</td>\n",
       "      <td>155.000000</td>\n",
       "      <td>258.00000</td>\n",
       "      <td>104.000000</td>\n",
       "      <td>8.935999</td>\n",
       "    </tr>\n",
       "    <tr>\n",
       "      <th>max</th>\n",
       "      <td>79.000000</td>\n",
       "      <td>179.000000</td>\n",
       "      <td>299.00000</td>\n",
       "      <td>119.000000</td>\n",
       "      <td>10.784886</td>\n",
       "    </tr>\n",
       "  </tbody>\n",
       "</table>\n",
       "</div>"
      ],
      "text/plain": [
       "              Age  Blood Pressure  Cholesterol  Heart Rate  \\\n",
       "count  500.000000      500.000000    500.00000  500.000000   \n",
       "mean    54.864000      132.874000    221.50000   88.766000   \n",
       "std     14.315004       26.418516     43.86363   17.417289   \n",
       "min     30.000000       90.000000    150.00000   60.000000   \n",
       "25%     43.000000      111.000000    183.75000   73.000000   \n",
       "50%     55.000000      132.000000    221.00000   89.000000   \n",
       "75%     66.250000      155.000000    258.00000  104.000000   \n",
       "max     79.000000      179.000000    299.00000  119.000000   \n",
       "\n",
       "       Quantum Pattern Feature  \n",
       "count               500.000000  \n",
       "mean                  8.317407  \n",
       "std                   0.919629  \n",
       "min                   6.164692  \n",
       "25%                   7.675779  \n",
       "50%                   8.323064  \n",
       "75%                   8.935999  \n",
       "max                  10.784886  "
      ]
     },
     "execution_count": 30,
     "metadata": {},
     "output_type": "execute_result"
    }
   ],
   "source": [
    "print(\"\\nNumerical Summary:\")\n",
    "df1.describe() # count to check no of non empty values #Min #Max #stats of data "
   ]
  },
  {
   "cell_type": "code",
   "execution_count": 31,
   "id": "e8e8be91-1c36-4f1f-b96d-449eada13a65",
   "metadata": {},
   "outputs": [
    {
     "name": "stdout",
     "output_type": "stream",
     "text": [
      "\n",
      "Medians for numerical columns:\n",
      "Age                         55.000000\n",
      "Blood Pressure             132.000000\n",
      "Cholesterol                221.000000\n",
      "Heart Rate                  89.000000\n",
      "Quantum Pattern Feature      8.323064\n",
      "dtype: float64\n"
     ]
    }
   ],
   "source": [
    "print(\"\\nMedians for numerical columns:\")\n",
    "print(df1.median(numeric_only=True))"
   ]
  },
  {
   "cell_type": "code",
   "execution_count": 32,
   "id": "71d5a1cd-8472-43ec-9694-6fb30c3120da",
   "metadata": {},
   "outputs": [
    {
     "name": "stdout",
     "output_type": "stream",
     "text": [
      "\n",
      " mean for numerical columns:\n",
      "Age                         54.864000\n",
      "Blood Pressure             132.874000\n",
      "Cholesterol                221.500000\n",
      "Heart Rate                  88.766000\n",
      "Quantum Pattern Feature      8.317407\n",
      "dtype: float64\n"
     ]
    }
   ],
   "source": [
    "print(\"\\n mean for numerical columns:\")\n",
    "print(df1.mean(numeric_only=True))"
   ]
  },
  {
   "cell_type": "code",
   "execution_count": 33,
   "id": "ab097d27-fc65-4b73-94d4-80e81b611498",
   "metadata": {},
   "outputs": [
    {
     "name": "stdout",
     "output_type": "stream",
     "text": [
      "\n",
      " skewness of the numerical columns:\n",
      "Age                       -0.105914\n",
      "Blood Pressure             0.075715\n",
      "Cholesterol                0.096326\n",
      "Heart Rate                -0.003976\n",
      "Quantum Pattern Feature    0.075851\n",
      "dtype: float64\n"
     ]
    }
   ],
   "source": [
    "print(\"\\n skewness of the numerical columns:\")\n",
    "print(df1.skew(numeric_only=True))"
   ]
  },
  {
   "cell_type": "markdown",
   "id": "e939bc2d-6739-4158-bd42-acd00752267f",
   "metadata": {},
   "source": [
    "#### categorical columns "
   ]
  },
  {
   "cell_type": "code",
   "execution_count": 34,
   "id": "3c7cf908-64c4-48a4-ad93-c5c29f0c3954",
   "metadata": {},
   "outputs": [
    {
     "name": "stdout",
     "output_type": "stream",
     "text": [
      "\n",
      "Categorical Summary:\n",
      "\n",
      "Value counts for column 'Gender':\n",
      "Gender\n",
      "Female    266\n",
      "Male      234\n",
      "Name: count, dtype: int64\n",
      "\n",
      "Value counts for column 'Current Heart Disease':\n",
      "Current Heart Disease\n",
      "Yes    300\n",
      "No     200\n",
      "Name: count, dtype: int64\n",
      "\n",
      "Value counts for column 'Age with Gender':\n",
      "Age with Gender\n",
      "57 Female    11\n",
      "64 Male      10\n",
      "53 Male      10\n",
      "54 Male      10\n",
      "62 Male      10\n",
      "             ..\n",
      "72 Male       1\n",
      "67 Female     1\n",
      "49 Male       1\n",
      "39 Male       1\n",
      "33 Male       1\n",
      "Name: count, Length: 98, dtype: int64\n"
     ]
    }
   ],
   "source": [
    "#not working need to check it \n",
    "print(\"\\nCategorical Summary:\")\n",
    "for col in df1.select_dtypes(include=['object']).columns:\n",
    "    print(f\"\\nValue counts for column '{col}':\\n{df1[col].value_counts()}\")"
   ]
  },
  {
   "cell_type": "code",
   "execution_count": 35,
   "id": "8c803bc3-c52f-4ef5-9c0b-19b600da7a04",
   "metadata": {},
   "outputs": [
    {
     "ename": "KeyError",
     "evalue": "'Heart Disease'",
     "output_type": "error",
     "traceback": [
      "\u001b[31m---------------------------------------------------------------------------\u001b[39m",
      "\u001b[31mKeyError\u001b[39m                                  Traceback (most recent call last)",
      "\u001b[36mFile \u001b[39m\u001b[32m~\\MyStuff\\DEVOPS\\Python\\Lib\\site-packages\\pandas\\core\\indexes\\base.py:3805\u001b[39m, in \u001b[36mIndex.get_loc\u001b[39m\u001b[34m(self, key)\u001b[39m\n\u001b[32m   3804\u001b[39m \u001b[38;5;28;01mtry\u001b[39;00m:\n\u001b[32m-> \u001b[39m\u001b[32m3805\u001b[39m     \u001b[38;5;28;01mreturn\u001b[39;00m \u001b[38;5;28;43mself\u001b[39;49m\u001b[43m.\u001b[49m\u001b[43m_engine\u001b[49m\u001b[43m.\u001b[49m\u001b[43mget_loc\u001b[49m\u001b[43m(\u001b[49m\u001b[43mcasted_key\u001b[49m\u001b[43m)\u001b[49m\n\u001b[32m   3806\u001b[39m \u001b[38;5;28;01mexcept\u001b[39;00m \u001b[38;5;167;01mKeyError\u001b[39;00m \u001b[38;5;28;01mas\u001b[39;00m err:\n",
      "\u001b[36mFile \u001b[39m\u001b[32mindex.pyx:167\u001b[39m, in \u001b[36mpandas._libs.index.IndexEngine.get_loc\u001b[39m\u001b[34m()\u001b[39m\n",
      "\u001b[36mFile \u001b[39m\u001b[32mindex.pyx:196\u001b[39m, in \u001b[36mpandas._libs.index.IndexEngine.get_loc\u001b[39m\u001b[34m()\u001b[39m\n",
      "\u001b[36mFile \u001b[39m\u001b[32mpandas\\\\_libs\\\\hashtable_class_helper.pxi:7081\u001b[39m, in \u001b[36mpandas._libs.hashtable.PyObjectHashTable.get_item\u001b[39m\u001b[34m()\u001b[39m\n",
      "\u001b[36mFile \u001b[39m\u001b[32mpandas\\\\_libs\\\\hashtable_class_helper.pxi:7089\u001b[39m, in \u001b[36mpandas._libs.hashtable.PyObjectHashTable.get_item\u001b[39m\u001b[34m()\u001b[39m\n",
      "\u001b[31mKeyError\u001b[39m: 'Heart Disease'",
      "\nThe above exception was the direct cause of the following exception:\n",
      "\u001b[31mKeyError\u001b[39m                                  Traceback (most recent call last)",
      "\u001b[36mCell\u001b[39m\u001b[36m \u001b[39m\u001b[32mIn[35]\u001b[39m\u001b[32m, line 1\u001b[39m\n\u001b[32m----> \u001b[39m\u001b[32m1\u001b[39m HeartDisease_counts = \u001b[43mdf1\u001b[49m\u001b[43m[\u001b[49m\u001b[33;43m'\u001b[39;49m\u001b[33;43mHeart Disease\u001b[39;49m\u001b[33;43m'\u001b[39;49m\u001b[43m]\u001b[49m.value_counts()\n",
      "\u001b[36mFile \u001b[39m\u001b[32m~\\MyStuff\\DEVOPS\\Python\\Lib\\site-packages\\pandas\\core\\frame.py:4102\u001b[39m, in \u001b[36mDataFrame.__getitem__\u001b[39m\u001b[34m(self, key)\u001b[39m\n\u001b[32m   4100\u001b[39m \u001b[38;5;28;01mif\u001b[39;00m \u001b[38;5;28mself\u001b[39m.columns.nlevels > \u001b[32m1\u001b[39m:\n\u001b[32m   4101\u001b[39m     \u001b[38;5;28;01mreturn\u001b[39;00m \u001b[38;5;28mself\u001b[39m._getitem_multilevel(key)\n\u001b[32m-> \u001b[39m\u001b[32m4102\u001b[39m indexer = \u001b[38;5;28;43mself\u001b[39;49m\u001b[43m.\u001b[49m\u001b[43mcolumns\u001b[49m\u001b[43m.\u001b[49m\u001b[43mget_loc\u001b[49m\u001b[43m(\u001b[49m\u001b[43mkey\u001b[49m\u001b[43m)\u001b[49m\n\u001b[32m   4103\u001b[39m \u001b[38;5;28;01mif\u001b[39;00m is_integer(indexer):\n\u001b[32m   4104\u001b[39m     indexer = [indexer]\n",
      "\u001b[36mFile \u001b[39m\u001b[32m~\\MyStuff\\DEVOPS\\Python\\Lib\\site-packages\\pandas\\core\\indexes\\base.py:3812\u001b[39m, in \u001b[36mIndex.get_loc\u001b[39m\u001b[34m(self, key)\u001b[39m\n\u001b[32m   3807\u001b[39m     \u001b[38;5;28;01mif\u001b[39;00m \u001b[38;5;28misinstance\u001b[39m(casted_key, \u001b[38;5;28mslice\u001b[39m) \u001b[38;5;129;01mor\u001b[39;00m (\n\u001b[32m   3808\u001b[39m         \u001b[38;5;28misinstance\u001b[39m(casted_key, abc.Iterable)\n\u001b[32m   3809\u001b[39m         \u001b[38;5;129;01mand\u001b[39;00m \u001b[38;5;28many\u001b[39m(\u001b[38;5;28misinstance\u001b[39m(x, \u001b[38;5;28mslice\u001b[39m) \u001b[38;5;28;01mfor\u001b[39;00m x \u001b[38;5;129;01min\u001b[39;00m casted_key)\n\u001b[32m   3810\u001b[39m     ):\n\u001b[32m   3811\u001b[39m         \u001b[38;5;28;01mraise\u001b[39;00m InvalidIndexError(key)\n\u001b[32m-> \u001b[39m\u001b[32m3812\u001b[39m     \u001b[38;5;28;01mraise\u001b[39;00m \u001b[38;5;167;01mKeyError\u001b[39;00m(key) \u001b[38;5;28;01mfrom\u001b[39;00m\u001b[38;5;250m \u001b[39m\u001b[34;01merr\u001b[39;00m\n\u001b[32m   3813\u001b[39m \u001b[38;5;28;01mexcept\u001b[39;00m \u001b[38;5;167;01mTypeError\u001b[39;00m:\n\u001b[32m   3814\u001b[39m     \u001b[38;5;66;03m# If we have a listlike key, _check_indexing_error will raise\u001b[39;00m\n\u001b[32m   3815\u001b[39m     \u001b[38;5;66;03m#  InvalidIndexError. Otherwise we fall through and re-raise\u001b[39;00m\n\u001b[32m   3816\u001b[39m     \u001b[38;5;66;03m#  the TypeError.\u001b[39;00m\n\u001b[32m   3817\u001b[39m     \u001b[38;5;28mself\u001b[39m._check_indexing_error(key)\n",
      "\u001b[31mKeyError\u001b[39m: 'Heart Disease'"
     ]
    }
   ],
   "source": [
    "HeartDisease_counts = df1['Heart Disease'].value_counts()"
   ]
  },
  {
   "cell_type": "markdown",
   "id": "1c563cbb-e9d6-4bdd-b72a-366ab6bb18bb",
   "metadata": {},
   "source": [
    "### Data Visualization"
   ]
  },
  {
   "cell_type": "markdown",
   "id": "13124dee-9fb3-4d81-b246-2b115cc24572",
   "metadata": {},
   "source": [
    "#### histograms or density plots for numerical"
   ]
  },
  {
   "cell_type": "markdown",
   "id": "1f3d2b27-aa00-40ee-b29a-0634d666b977",
   "metadata": {},
   "source": [
    "##### HISTOGRAM"
   ]
  },
  {
   "cell_type": "code",
   "execution_count": null,
   "id": "d929e62c-ed19-4ec5-9f52-97c42ed58367",
   "metadata": {},
   "outputs": [],
   "source": [
    "df1.hist(figsize=(12,10))\n",
    "plt.show()"
   ]
  },
  {
   "cell_type": "markdown",
   "id": "6eab6649-bdd8-4c99-a0cb-f3fc1a11478b",
   "metadata": {},
   "source": [
    "##### Bar plots"
   ]
  },
  {
   "cell_type": "code",
   "execution_count": null,
   "id": "60e10a53-0dc2-4e0d-a1e6-9a2b2dd97636",
   "metadata": {},
   "outputs": [],
   "source": [
    "print(\"\\n Bar plots of categorical features:\")\n",
    "for col in df1.select_dtypes(include=['object']).columns:\n",
    "    sns.countplot(x=col, data=df1)\n",
    "    plt.title(f'Bar Plot of {col}')\n",
    "    plt.show()"
   ]
  },
  {
   "cell_type": "code",
   "execution_count": null,
   "id": "3540b263-5ca6-4cf9-979e-b0600b3f0b11",
   "metadata": {},
   "outputs": [],
   "source": [
    "print(\"\\n Bar plots of categorical features:\")\n",
    "for col in df1.select_dtypes(include=['object']).columns:\n",
    "    sns.countplot(x=col, data=df1)\n",
    "    plt.title(f'Bar Plot of  Numerical features {col}')\n",
    "    plt.show()"
   ]
  },
  {
   "cell_type": "markdown",
   "id": "2d34107d-584c-44f0-a616-9d410317098d",
   "metadata": {},
   "source": [
    "##### Box Plots (Outlier Detection):"
   ]
  },
  {
   "cell_type": "code",
   "execution_count": null,
   "id": "aedf9a67-974c-4f7a-9d53-63d640c1695e",
   "metadata": {},
   "outputs": [],
   "source": [
    "print(\"\\n Box plots to find outlayers finding : \")\n",
    "sns.boxplot(data=df1[['Age','Cholesterol','Blood Pressure','Heart Rate','Quantum Pattern Feature']],palette='coolwarm')\n",
    "plt.xticks(rotation=90)\n",
    "plt.title(\"Box Plot of features\")\n",
    "plt.show()"
   ]
  },
  {
   "cell_type": "markdown",
   "id": "b649e4c4-2ac0-4fe2-a80c-d3643ecf91bf",
   "metadata": {},
   "source": [
    "##### Scatter Plots (Relationship between Numerical Features)"
   ]
  },
  {
   "cell_type": "code",
   "execution_count": null,
   "id": "e7af9b85-e171-48b4-9b16-4bced9f5abe5",
   "metadata": {},
   "outputs": [],
   "source": [
    "print(\"\\n Scatter plot of age and cholesterol:\")\n",
    "print(sns.scatterplot(data=df1,x='Age',y='Cholesterol'))"
   ]
  },
  {
   "cell_type": "code",
   "execution_count": null,
   "id": "41739508-3910-48a2-954f-583ad416a931",
   "metadata": {},
   "outputs": [],
   "source": [
    "print(\"\\n Scatter plot of Blood Pressure  and  Cholesterol:\")\n",
    "print(sns.scatterplot(data=df1,x='Blood Pressure',y='Cholesterol'))"
   ]
  },
  {
   "cell_type": "code",
   "execution_count": null,
   "id": "cc86859a-2b91-4693-9369-57013280aabb",
   "metadata": {},
   "outputs": [],
   "source": [
    "print(\"\\n Heatmap of correlation map:\")\n",
    "map=df1.corr()\n",
    "sns.heatmap(map,annot=True,cmap='coolwarm')\n",
    "plt.title('Feature Correlation Heatmap')\n",
    "plt.show()"
   ]
  },
  {
   "cell_type": "markdown",
   "id": "3218224f-a1fe-4d70-a1e9-f1960dd3239c",
   "metadata": {},
   "source": [
    "### Group Analysis"
   ]
  },
  {
   "cell_type": "code",
   "execution_count": null,
   "id": "fa5886a3-ca3b-4688-85ea-3342f6e469ea",
   "metadata": {},
   "outputs": [],
   "source": [
    "print(\"\\n Group analysis by gender:\")\n",
    "print(df1.groupby('Gender')['Age'].mean())"
   ]
  },
  {
   "cell_type": "code",
   "execution_count": null,
   "id": "a2a36eea-1b14-4800-9fce-320f888d7a8d",
   "metadata": {},
   "outputs": [],
   "source": [
    "print(\"\\n Group analysis by Cholesterol:\")\n",
    "print(df1.groupby('Cholesterol')['Age'].mean())"
   ]
  },
  {
   "cell_type": "code",
   "execution_count": null,
   "id": "49a81eea-6228-499a-8b0e-4f5d75adf151",
   "metadata": {},
   "outputs": [],
   "source": [
    "print(\"\\n Group analysis by Blood Pressure:\")\n",
    "print(df1.groupby('Blood Pressure')['Age'].mean())"
   ]
  },
  {
   "cell_type": "code",
   "execution_count": null,
   "id": "3d5b7dfe-5707-4f81-8757-327af38994b5",
   "metadata": {},
   "outputs": [],
   "source": [
    "print(\"\\n### Group analysis by Current Heart Disease:\")\n",
    "print(df1.groupby('Current Heart Disease')['Age'].mean())"
   ]
  },
  {
   "cell_type": "code",
   "execution_count": null,
   "id": "e65000a4-6847-4b71-add9-ecda9aaf2131",
   "metadata": {},
   "outputs": [],
   "source": [
    "print(\"\\n### Group analysis by Current Heart Disease:\")\n",
    "print(df1.groupby('Current Heart Disease')['Cholesterol'].mean())"
   ]
  },
  {
   "cell_type": "code",
   "execution_count": null,
   "id": "efc4df48-f81b-42bd-90f8-b8026cd2a71f",
   "metadata": {},
   "outputs": [],
   "source": [
    "table = pd.pivot_table(df1, values=['Age'], index=['Cholesterol', 'Quantum Pattern Feature'],aggfunc={'Age': [\"min\", \"max\", \"mean\"]})\n",
    "print(\"\\n Pivot table:\")\n",
    "print(table)"
   ]
  },
  {
   "cell_type": "markdown",
   "id": "e60ae8b8-5c8a-42dc-b6dc-ed54b54ead7a",
   "metadata": {},
   "source": [
    "#### Feature Analysis"
   ]
  },
  {
   "cell_type": "markdown",
   "id": "67e5115d-7be9-4685-986d-5c6035a59445",
   "metadata": {},
   "source": [
    "##### pair plot "
   ]
  },
  {
   "cell_type": "code",
   "execution_count": null,
   "id": "bddf8b71-15c9-47d9-be36-183b615e7c96",
   "metadata": {},
   "outputs": [],
   "source": [
    "print (\"\\n Pairplot:\",sns.pairplot(df1[['Age','Cholesterol','Current Heart Disease','Blood Pressure']],height=1.5))"
   ]
  },
  {
   "cell_type": "code",
   "execution_count": null,
   "id": "82343c1c-0358-4f3c-b2c8-90722d211006",
   "metadata": {},
   "outputs": [],
   "source": [
    "plt.figure(figsize=(8, 6))\n",
    "sns.boxplot(x='Quantum Pattern Feature', y='Age', data=df1)\n",
    "plt.title(\"Box Plot of Age vs. Quantum Pattern Feature\")\n",
    "plt.show()"
   ]
  },
  {
   "cell_type": "code",
   "execution_count": null,
   "id": "d13c0715-132c-47b2-97e9-9c7d886b0324",
   "metadata": {},
   "outputs": [],
   "source": [
    "correlation_matrix = df1.corr()\n",
    "print(correlation_matrix['Current Heart Disease'].sort_values(ascending=False))"
   ]
  },
  {
   "cell_type": "code",
   "execution_count": null,
   "id": "670f6a32-c5ac-4af3-bbe4-b01814fd4e04",
   "metadata": {},
   "outputs": [],
   "source": [
    "# Age Distribution\n",
    "plt.figure(figsize=(8, 6))\n",
    "sns.histplot(df1['Age'], kde=True)\n",
    "plt.title('Age Distribution')\n",
    "plt.show()"
   ]
  },
  {
   "cell_type": "code",
   "execution_count": null,
   "id": "b187d3ac-51a3-47b5-bae7-4c7170de90d4",
   "metadata": {},
   "outputs": [],
   "source": [
    "# Gender Distribution\n",
    "plt.figure(figsize=(6, 4))\n",
    "sns.countplot(x='Gender', data=df1)\n",
    "plt.title('Gender Distribution')\n",
    "plt.show()"
   ]
  },
  {
   "cell_type": "code",
   "execution_count": null,
   "id": "ecc7d4aa-1ff8-41eb-b7ee-0c82351d3b81",
   "metadata": {},
   "outputs": [],
   "source": [
    "# Quantum Pattern Feature Distribution\n",
    "plt.figure(figsize=(8, 6))\n",
    "sns.histplot(df1['Quantum Pattern Feature'], kde=True)\n",
    "plt.title('Quantum Pattern Feature Distribution')\n",
    "plt.show()"
   ]
  },
  {
   "cell_type": "code",
   "execution_count": null,
   "id": "adad4ada-da00-4dec-a508-04cb23c69354",
   "metadata": {},
   "outputs": [],
   "source": [
    "# Target Variable Distribution (Heart Disease)\n",
    "plt.figure(figsize=(6, 4))\n",
    "sns.countplot(x='Current Heart Disease', data=df1)\n",
    "plt.title('Heart Disease Distribution')\n",
    "plt.show()"
   ]
  },
  {
   "cell_type": "code",
   "execution_count": null,
   "id": "1b594d7a-e84d-464c-99ed-2bf05b6bf5fd",
   "metadata": {},
   "outputs": [],
   "source": [
    "# Relationship between features and target variable\n",
    "sns.pairplot(df1, hue='Current Heart Disease')\n",
    "plt.show()"
   ]
  },
  {
   "cell_type": "code",
   "execution_count": null,
   "id": "799e026f-318e-4760-958c-22ce3e2f5f83",
   "metadata": {},
   "outputs": [],
   "source": [
    "# Feature Details:\n",
    "\n",
    "print(\"\\nFeature Details:\")\n",
    "for col in df1.columns:\n",
    "    print(f\"\\nFeature: {col}\")\n",
    "    print(f\"  - Data Type: {df1[col].dtype}\")\n",
    "    print(f\"  - Unique Values: {df1[col].nunique()}\")\n",
    "    print(f\"  - Unique Value Examples: {df1[col].unique()[:5]}\") # Display first 5 unique values\n",
    "    if df1[col].dtype != 'object': #avoid statistical details for object datatypes.\n",
    "        print(f\"  - Min: {df1[col].min()}\")\n",
    "        print(f\"  - Max: {df1[col].max()}\")\n",
    "        print(f\"  - Mean: {df1[col].mean()}\")\n",
    "        print(f\"  - Standard Deviation: {df1[col].std()}\")"
   ]
  },
  {
   "cell_type": "code",
   "execution_count": null,
   "id": "2edec5a3-5953-4702-9877-2ec71ebf8aa3",
   "metadata": {},
   "outputs": [],
   "source": []
  }
 ],
 "metadata": {
  "kernelspec": {
   "display_name": "Python 3 (ipykernel)",
   "language": "python",
   "name": "python3"
  },
  "language_info": {
   "codemirror_mode": {
    "name": "ipython",
    "version": 3
   },
   "file_extension": ".py",
   "mimetype": "text/x-python",
   "name": "python",
   "nbconvert_exporter": "python",
   "pygments_lexer": "ipython3",
   "version": "3.12.9"
  }
 },
 "nbformat": 4,
 "nbformat_minor": 5
}
