{
 "cells": [
  {
   "cell_type": "code",
   "execution_count": null,
   "id": "ffc32de1-ed55-47a7-85e5-847cd44370a9",
   "metadata": {},
   "outputs": [],
   "source": []
  }
 ],
 "metadata": {
  "kernelspec": {
   "display_name": "",
   "name": ""
  },
  "language_info": {
   "name": ""
  }
 },
 "nbformat": 4,
 "nbformat_minor": 5
}
