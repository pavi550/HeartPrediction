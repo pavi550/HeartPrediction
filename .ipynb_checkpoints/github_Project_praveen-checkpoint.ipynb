{
 "cells": [
  {
   "cell_type": "code",
   "execution_count": 4,
   "id": "82cf4058-0aeb-45e1-8370-46deab8f85f7",
   "metadata": {},
   "outputs": [],
   "source": [
    "import pandas as pd\n",
    "import numpy as np\n",
    "import matplotlib.pyplot as plt\n",
    "import seaborn as sns"
   ]
  },
  {
   "cell_type": "code",
   "execution_count": 5,
   "id": "0515eeab-8865-4d4b-8cf4-f7ee5ea6bd2c",
   "metadata": {},
   "outputs": [
    {
     "data": {
      "text/html": [
       "<div>\n",
       "<style scoped>\n",
       "    .dataframe tbody tr th:only-of-type {\n",
       "        vertical-align: middle;\n",
       "    }\n",
       "\n",
       "    .dataframe tbody tr th {\n",
       "        vertical-align: top;\n",
       "    }\n",
       "\n",
       "    .dataframe thead th {\n",
       "        text-align: right;\n",
       "    }\n",
       "</style>\n",
       "<table border=\"1\" class=\"dataframe\">\n",
       "  <thead>\n",
       "    <tr style=\"text-align: right;\">\n",
       "      <th></th>\n",
       "      <th>repositories</th>\n",
       "      <th>stars_count</th>\n",
       "      <th>forks_count</th>\n",
       "      <th>issues_count</th>\n",
       "      <th>pull_requests</th>\n",
       "      <th>contributors</th>\n",
       "      <th>language</th>\n",
       "    </tr>\n",
       "  </thead>\n",
       "  <tbody>\n",
       "    <tr>\n",
       "      <th>0</th>\n",
       "      <td>octocat/Hello-World</td>\n",
       "      <td>0</td>\n",
       "      <td>0</td>\n",
       "      <td>612</td>\n",
       "      <td>316</td>\n",
       "      <td>2</td>\n",
       "      <td>NaN</td>\n",
       "    </tr>\n",
       "    <tr>\n",
       "      <th>1</th>\n",
       "      <td>EddieHubCommunity/support</td>\n",
       "      <td>271</td>\n",
       "      <td>150</td>\n",
       "      <td>536</td>\n",
       "      <td>6</td>\n",
       "      <td>71</td>\n",
       "      <td>NaN</td>\n",
       "    </tr>\n",
       "    <tr>\n",
       "      <th>2</th>\n",
       "      <td>ethereum/aleth</td>\n",
       "      <td>0</td>\n",
       "      <td>0</td>\n",
       "      <td>313</td>\n",
       "      <td>27</td>\n",
       "      <td>154</td>\n",
       "      <td>C++</td>\n",
       "    </tr>\n",
       "    <tr>\n",
       "      <th>3</th>\n",
       "      <td>localstack/localstack</td>\n",
       "      <td>0</td>\n",
       "      <td>0</td>\n",
       "      <td>290</td>\n",
       "      <td>30</td>\n",
       "      <td>434</td>\n",
       "      <td>Python</td>\n",
       "    </tr>\n",
       "    <tr>\n",
       "      <th>4</th>\n",
       "      <td>education/classroom</td>\n",
       "      <td>0</td>\n",
       "      <td>589</td>\n",
       "      <td>202</td>\n",
       "      <td>22</td>\n",
       "      <td>67</td>\n",
       "      <td>Ruby</td>\n",
       "    </tr>\n",
       "    <tr>\n",
       "      <th>...</th>\n",
       "      <td>...</td>\n",
       "      <td>...</td>\n",
       "      <td>...</td>\n",
       "      <td>...</td>\n",
       "      <td>...</td>\n",
       "      <td>...</td>\n",
       "      <td>...</td>\n",
       "    </tr>\n",
       "    <tr>\n",
       "      <th>1047</th>\n",
       "      <td>Tyriar/canvas-astar.dart</td>\n",
       "      <td>2</td>\n",
       "      <td>1</td>\n",
       "      <td>1</td>\n",
       "      <td>0</td>\n",
       "      <td>0</td>\n",
       "      <td>Dart</td>\n",
       "    </tr>\n",
       "    <tr>\n",
       "      <th>1048</th>\n",
       "      <td>ankitkumar70777/github-slideshow</td>\n",
       "      <td>0</td>\n",
       "      <td>0</td>\n",
       "      <td>1</td>\n",
       "      <td>0</td>\n",
       "      <td>8</td>\n",
       "      <td>HTML</td>\n",
       "    </tr>\n",
       "    <tr>\n",
       "      <th>1049</th>\n",
       "      <td>aitikgupta/interactive_cpu_scheduler</td>\n",
       "      <td>0</td>\n",
       "      <td>5</td>\n",
       "      <td>1</td>\n",
       "      <td>1</td>\n",
       "      <td>7</td>\n",
       "      <td>Python</td>\n",
       "    </tr>\n",
       "    <tr>\n",
       "      <th>1050</th>\n",
       "      <td>gwmccubbin/voting_dapp</td>\n",
       "      <td>11</td>\n",
       "      <td>5</td>\n",
       "      <td>1</td>\n",
       "      <td>0</td>\n",
       "      <td>0</td>\n",
       "      <td>JavaScript</td>\n",
       "    </tr>\n",
       "    <tr>\n",
       "      <th>1051</th>\n",
       "      <td>gamemann/All_PropHealth</td>\n",
       "      <td>4</td>\n",
       "      <td>3</td>\n",
       "      <td>1</td>\n",
       "      <td>0</td>\n",
       "      <td>0</td>\n",
       "      <td>SourcePawn</td>\n",
       "    </tr>\n",
       "  </tbody>\n",
       "</table>\n",
       "<p>1052 rows × 7 columns</p>\n",
       "</div>"
      ],
      "text/plain": [
       "                              repositories  stars_count  forks_count  \\\n",
       "0                      octocat/Hello-World            0            0   \n",
       "1                EddieHubCommunity/support          271          150   \n",
       "2                           ethereum/aleth            0            0   \n",
       "3                    localstack/localstack            0            0   \n",
       "4                      education/classroom            0          589   \n",
       "...                                    ...          ...          ...   \n",
       "1047              Tyriar/canvas-astar.dart            2            1   \n",
       "1048      ankitkumar70777/github-slideshow            0            0   \n",
       "1049  aitikgupta/interactive_cpu_scheduler            0            5   \n",
       "1050                gwmccubbin/voting_dapp           11            5   \n",
       "1051               gamemann/All_PropHealth            4            3   \n",
       "\n",
       "      issues_count  pull_requests  contributors    language  \n",
       "0              612            316             2         NaN  \n",
       "1              536              6            71         NaN  \n",
       "2              313             27           154         C++  \n",
       "3              290             30           434      Python  \n",
       "4              202             22            67        Ruby  \n",
       "...            ...            ...           ...         ...  \n",
       "1047             1              0             0        Dart  \n",
       "1048             1              0             8        HTML  \n",
       "1049             1              1             7      Python  \n",
       "1050             1              0             0  JavaScript  \n",
       "1051             1              0             0  SourcePawn  \n",
       "\n",
       "[1052 rows x 7 columns]"
      ]
     },
     "execution_count": 5,
     "metadata": {},
     "output_type": "execute_result"
    }
   ],
   "source": [
    "df1=pd.read_csv('github_dataset.csv')\n",
    "df1"
   ]
  },
  {
   "cell_type": "code",
   "execution_count": 6,
   "id": "58609f4b-cd5c-46a3-9d17-5864ea51af9b",
   "metadata": {},
   "outputs": [
    {
     "name": "stdout",
     "output_type": "stream",
     "text": [
      "(1052, 7)\n"
     ]
    }
   ],
   "source": [
    "print(df1.shape)"
   ]
  },
  {
   "cell_type": "code",
   "execution_count": 7,
   "id": "b4db5b2b-25ef-4f90-bbc0-ba625dd6454b",
   "metadata": {},
   "outputs": [
    {
     "name": "stdout",
     "output_type": "stream",
     "text": [
      "<class 'pandas.core.frame.DataFrame'>\n"
     ]
    }
   ],
   "source": [
    "print(type(df1))"
   ]
  },
  {
   "cell_type": "code",
   "execution_count": 8,
   "id": "45e06383-1417-4529-b9eb-4bf475b415c6",
   "metadata": {},
   "outputs": [
    {
     "name": "stdout",
     "output_type": "stream",
     "text": [
      "<bound method DataFrame.info of                               repositories  stars_count  forks_count  \\\n",
      "0                      octocat/Hello-World            0            0   \n",
      "1                EddieHubCommunity/support          271          150   \n",
      "2                           ethereum/aleth            0            0   \n",
      "3                    localstack/localstack            0            0   \n",
      "4                      education/classroom            0          589   \n",
      "...                                    ...          ...          ...   \n",
      "1047              Tyriar/canvas-astar.dart            2            1   \n",
      "1048      ankitkumar70777/github-slideshow            0            0   \n",
      "1049  aitikgupta/interactive_cpu_scheduler            0            5   \n",
      "1050                gwmccubbin/voting_dapp           11            5   \n",
      "1051               gamemann/All_PropHealth            4            3   \n",
      "\n",
      "      issues_count  pull_requests  contributors    language  \n",
      "0              612            316             2         NaN  \n",
      "1              536              6            71         NaN  \n",
      "2              313             27           154         C++  \n",
      "3              290             30           434      Python  \n",
      "4              202             22            67        Ruby  \n",
      "...            ...            ...           ...         ...  \n",
      "1047             1              0             0        Dart  \n",
      "1048             1              0             8        HTML  \n",
      "1049             1              1             7      Python  \n",
      "1050             1              0             0  JavaScript  \n",
      "1051             1              0             0  SourcePawn  \n",
      "\n",
      "[1052 rows x 7 columns]>\n"
     ]
    }
   ],
   "source": [
    "print(df1.info)"
   ]
  },
  {
   "cell_type": "code",
   "execution_count": 57,
   "id": "f953b26b-17a7-4446-9635-77bff87fc925",
   "metadata": {},
   "outputs": [
    {
     "data": {
      "text/plain": [
       "RangeIndex(start=0, stop=1052, step=1)"
      ]
     },
     "execution_count": 57,
     "metadata": {},
     "output_type": "execute_result"
    }
   ],
   "source": [
    "df1.index"
   ]
  },
  {
   "cell_type": "code",
   "execution_count": 10,
   "id": "fd56de16-d488-4798-93bd-e462fc431533",
   "metadata": {},
   "outputs": [
    {
     "data": {
      "text/plain": [
       "Index(['repositories', 'stars_count', 'forks_count', 'issues_count',\n",
       "       'pull_requests', 'contributors', 'language'],\n",
       "      dtype='object')"
      ]
     },
     "execution_count": 10,
     "metadata": {},
     "output_type": "execute_result"
    }
   ],
   "source": [
    "df1.columns"
   ]
  },
  {
   "cell_type": "code",
   "execution_count": 11,
   "id": "dc89631e-2502-425f-917a-42204d547908",
   "metadata": {},
   "outputs": [
    {
     "data": {
      "text/html": [
       "<div>\n",
       "<style scoped>\n",
       "    .dataframe tbody tr th:only-of-type {\n",
       "        vertical-align: middle;\n",
       "    }\n",
       "\n",
       "    .dataframe tbody tr th {\n",
       "        vertical-align: top;\n",
       "    }\n",
       "\n",
       "    .dataframe thead th {\n",
       "        text-align: right;\n",
       "    }\n",
       "</style>\n",
       "<table border=\"1\" class=\"dataframe\">\n",
       "  <thead>\n",
       "    <tr style=\"text-align: right;\">\n",
       "      <th></th>\n",
       "      <th>repositories</th>\n",
       "      <th>stars_count</th>\n",
       "      <th>forks_count</th>\n",
       "      <th>issues_count</th>\n",
       "      <th>pull_requests</th>\n",
       "      <th>contributors</th>\n",
       "      <th>language</th>\n",
       "    </tr>\n",
       "  </thead>\n",
       "  <tbody>\n",
       "    <tr>\n",
       "      <th>0</th>\n",
       "      <td>octocat/Hello-World</td>\n",
       "      <td>0</td>\n",
       "      <td>0</td>\n",
       "      <td>612</td>\n",
       "      <td>316</td>\n",
       "      <td>2</td>\n",
       "      <td>NaN</td>\n",
       "    </tr>\n",
       "    <tr>\n",
       "      <th>1</th>\n",
       "      <td>EddieHubCommunity/support</td>\n",
       "      <td>271</td>\n",
       "      <td>150</td>\n",
       "      <td>536</td>\n",
       "      <td>6</td>\n",
       "      <td>71</td>\n",
       "      <td>NaN</td>\n",
       "    </tr>\n",
       "    <tr>\n",
       "      <th>2</th>\n",
       "      <td>ethereum/aleth</td>\n",
       "      <td>0</td>\n",
       "      <td>0</td>\n",
       "      <td>313</td>\n",
       "      <td>27</td>\n",
       "      <td>154</td>\n",
       "      <td>C++</td>\n",
       "    </tr>\n",
       "    <tr>\n",
       "      <th>3</th>\n",
       "      <td>localstack/localstack</td>\n",
       "      <td>0</td>\n",
       "      <td>0</td>\n",
       "      <td>290</td>\n",
       "      <td>30</td>\n",
       "      <td>434</td>\n",
       "      <td>Python</td>\n",
       "    </tr>\n",
       "    <tr>\n",
       "      <th>4</th>\n",
       "      <td>education/classroom</td>\n",
       "      <td>0</td>\n",
       "      <td>589</td>\n",
       "      <td>202</td>\n",
       "      <td>22</td>\n",
       "      <td>67</td>\n",
       "      <td>Ruby</td>\n",
       "    </tr>\n",
       "  </tbody>\n",
       "</table>\n",
       "</div>"
      ],
      "text/plain": [
       "                repositories  stars_count  forks_count  issues_count  \\\n",
       "0        octocat/Hello-World            0            0           612   \n",
       "1  EddieHubCommunity/support          271          150           536   \n",
       "2             ethereum/aleth            0            0           313   \n",
       "3      localstack/localstack            0            0           290   \n",
       "4        education/classroom            0          589           202   \n",
       "\n",
       "   pull_requests  contributors language  \n",
       "0            316             2      NaN  \n",
       "1              6            71      NaN  \n",
       "2             27           154      C++  \n",
       "3             30           434   Python  \n",
       "4             22            67     Ruby  "
      ]
     },
     "execution_count": 11,
     "metadata": {},
     "output_type": "execute_result"
    }
   ],
   "source": [
    "df1.head()"
   ]
  },
  {
   "cell_type": "code",
   "execution_count": 55,
   "id": "ea3a3597-d4fa-4630-b81c-8d9064a3d85b",
   "metadata": {},
   "outputs": [
    {
     "data": {
      "text/html": [
       "<div>\n",
       "<style scoped>\n",
       "    .dataframe tbody tr th:only-of-type {\n",
       "        vertical-align: middle;\n",
       "    }\n",
       "\n",
       "    .dataframe tbody tr th {\n",
       "        vertical-align: top;\n",
       "    }\n",
       "\n",
       "    .dataframe thead th {\n",
       "        text-align: right;\n",
       "    }\n",
       "</style>\n",
       "<table border=\"1\" class=\"dataframe\">\n",
       "  <thead>\n",
       "    <tr style=\"text-align: right;\">\n",
       "      <th></th>\n",
       "      <th>stars_count</th>\n",
       "      <th>forks_count</th>\n",
       "      <th>issues_count</th>\n",
       "      <th>pull_requests</th>\n",
       "      <th>contributors</th>\n",
       "    </tr>\n",
       "  </thead>\n",
       "  <tbody>\n",
       "    <tr>\n",
       "      <th>count</th>\n",
       "      <td>1052.000000</td>\n",
       "      <td>1052.000000</td>\n",
       "      <td>1052.000000</td>\n",
       "      <td>1052.000000</td>\n",
       "      <td>1052.000000</td>\n",
       "    </tr>\n",
       "    <tr>\n",
       "      <th>mean</th>\n",
       "      <td>81.976236</td>\n",
       "      <td>53.884981</td>\n",
       "      <td>8.656844</td>\n",
       "      <td>4.374525</td>\n",
       "      <td>8.364068</td>\n",
       "    </tr>\n",
       "    <tr>\n",
       "      <th>std</th>\n",
       "      <td>170.403116</td>\n",
       "      <td>127.699729</td>\n",
       "      <td>32.445154</td>\n",
       "      <td>27.913732</td>\n",
       "      <td>37.511807</td>\n",
       "    </tr>\n",
       "    <tr>\n",
       "      <th>min</th>\n",
       "      <td>0.000000</td>\n",
       "      <td>0.000000</td>\n",
       "      <td>1.000000</td>\n",
       "      <td>0.000000</td>\n",
       "      <td>0.000000</td>\n",
       "    </tr>\n",
       "    <tr>\n",
       "      <th>25%</th>\n",
       "      <td>1.000000</td>\n",
       "      <td>1.000000</td>\n",
       "      <td>1.000000</td>\n",
       "      <td>0.000000</td>\n",
       "      <td>0.000000</td>\n",
       "    </tr>\n",
       "    <tr>\n",
       "      <th>50%</th>\n",
       "      <td>12.000000</td>\n",
       "      <td>6.000000</td>\n",
       "      <td>2.000000</td>\n",
       "      <td>0.000000</td>\n",
       "      <td>2.000000</td>\n",
       "    </tr>\n",
       "    <tr>\n",
       "      <th>75%</th>\n",
       "      <td>65.250000</td>\n",
       "      <td>38.250000</td>\n",
       "      <td>6.000000</td>\n",
       "      <td>2.000000</td>\n",
       "      <td>4.000000</td>\n",
       "    </tr>\n",
       "    <tr>\n",
       "      <th>max</th>\n",
       "      <td>995.000000</td>\n",
       "      <td>973.000000</td>\n",
       "      <td>612.000000</td>\n",
       "      <td>567.000000</td>\n",
       "      <td>658.000000</td>\n",
       "    </tr>\n",
       "  </tbody>\n",
       "</table>\n",
       "</div>"
      ],
      "text/plain": [
       "       stars_count  forks_count  issues_count  pull_requests  contributors\n",
       "count  1052.000000  1052.000000   1052.000000    1052.000000   1052.000000\n",
       "mean     81.976236    53.884981      8.656844       4.374525      8.364068\n",
       "std     170.403116   127.699729     32.445154      27.913732     37.511807\n",
       "min       0.000000     0.000000      1.000000       0.000000      0.000000\n",
       "25%       1.000000     1.000000      1.000000       0.000000      0.000000\n",
       "50%      12.000000     6.000000      2.000000       0.000000      2.000000\n",
       "75%      65.250000    38.250000      6.000000       2.000000      4.000000\n",
       "max     995.000000   973.000000    612.000000     567.000000    658.000000"
      ]
     },
     "execution_count": 55,
     "metadata": {},
     "output_type": "execute_result"
    }
   ],
   "source": [
    "df1.describe()"
   ]
  },
  {
   "cell_type": "code",
   "execution_count": 13,
   "id": "6c9ec057-a04a-4aa0-835f-bd9889cac171",
   "metadata": {},
   "outputs": [
    {
     "name": "stdout",
     "output_type": "stream",
     "text": [
      "repositories     1052\n",
      "stars_count      1052\n",
      "forks_count      1052\n",
      "issues_count     1052\n",
      "pull_requests    1052\n",
      "contributors     1052\n",
      "language          907\n",
      "dtype: int64\n"
     ]
    }
   ],
   "source": [
    "print(df1.count())"
   ]
  },
  {
   "cell_type": "code",
   "execution_count": 14,
   "id": "97f250de-be79-41c7-9fbc-0afc743dcd38",
   "metadata": {},
   "outputs": [
    {
     "name": "stdout",
     "output_type": "stream",
     "text": [
      "81.97623574144487\n"
     ]
    }
   ],
   "source": [
    "print(df1.stars_count.mean())"
   ]
  },
  {
   "cell_type": "code",
   "execution_count": 15,
   "id": "89233219-95a1-47cb-acf3-48958d7d7dd0",
   "metadata": {},
   "outputs": [
    {
     "data": {
      "text/plain": [
       "0       False\n",
       "1       False\n",
       "2       False\n",
       "3       False\n",
       "4       False\n",
       "        ...  \n",
       "1047    False\n",
       "1048    False\n",
       "1049    False\n",
       "1050    False\n",
       "1051    False\n",
       "Length: 1052, dtype: bool"
      ]
     },
     "execution_count": 15,
     "metadata": {},
     "output_type": "execute_result"
    }
   ],
   "source": [
    "df1.duplicated(subset=None,keep='first')"
   ]
  },
  {
   "cell_type": "code",
   "execution_count": 16,
   "id": "2ef36eee-0322-4bbf-aeb6-d4f2b4a5a514",
   "metadata": {},
   "outputs": [
    {
     "data": {
      "text/html": [
       "<div>\n",
       "<style scoped>\n",
       "    .dataframe tbody tr th:only-of-type {\n",
       "        vertical-align: middle;\n",
       "    }\n",
       "\n",
       "    .dataframe tbody tr th {\n",
       "        vertical-align: top;\n",
       "    }\n",
       "\n",
       "    .dataframe thead th {\n",
       "        text-align: right;\n",
       "    }\n",
       "</style>\n",
       "<table border=\"1\" class=\"dataframe\">\n",
       "  <thead>\n",
       "    <tr style=\"text-align: right;\">\n",
       "      <th></th>\n",
       "      <th>repositories</th>\n",
       "      <th>stars_count</th>\n",
       "      <th>forks_count</th>\n",
       "      <th>issues_count</th>\n",
       "      <th>pull_requests</th>\n",
       "      <th>contributors</th>\n",
       "      <th>language</th>\n",
       "    </tr>\n",
       "  </thead>\n",
       "  <tbody>\n",
       "    <tr>\n",
       "      <th>0</th>\n",
       "      <td>octocat/Hello-World</td>\n",
       "      <td>0</td>\n",
       "      <td>0</td>\n",
       "      <td>612</td>\n",
       "      <td>316</td>\n",
       "      <td>2</td>\n",
       "      <td>NaN</td>\n",
       "    </tr>\n",
       "    <tr>\n",
       "      <th>1</th>\n",
       "      <td>EddieHubCommunity/support</td>\n",
       "      <td>271</td>\n",
       "      <td>150</td>\n",
       "      <td>536</td>\n",
       "      <td>6</td>\n",
       "      <td>71</td>\n",
       "      <td>NaN</td>\n",
       "    </tr>\n",
       "    <tr>\n",
       "      <th>2</th>\n",
       "      <td>ethereum/aleth</td>\n",
       "      <td>0</td>\n",
       "      <td>0</td>\n",
       "      <td>313</td>\n",
       "      <td>27</td>\n",
       "      <td>154</td>\n",
       "      <td>C++</td>\n",
       "    </tr>\n",
       "    <tr>\n",
       "      <th>3</th>\n",
       "      <td>localstack/localstack</td>\n",
       "      <td>0</td>\n",
       "      <td>0</td>\n",
       "      <td>290</td>\n",
       "      <td>30</td>\n",
       "      <td>434</td>\n",
       "      <td>Python</td>\n",
       "    </tr>\n",
       "    <tr>\n",
       "      <th>4</th>\n",
       "      <td>education/classroom</td>\n",
       "      <td>0</td>\n",
       "      <td>589</td>\n",
       "      <td>202</td>\n",
       "      <td>22</td>\n",
       "      <td>67</td>\n",
       "      <td>Ruby</td>\n",
       "    </tr>\n",
       "    <tr>\n",
       "      <th>...</th>\n",
       "      <td>...</td>\n",
       "      <td>...</td>\n",
       "      <td>...</td>\n",
       "      <td>...</td>\n",
       "      <td>...</td>\n",
       "      <td>...</td>\n",
       "      <td>...</td>\n",
       "    </tr>\n",
       "    <tr>\n",
       "      <th>1047</th>\n",
       "      <td>Tyriar/canvas-astar.dart</td>\n",
       "      <td>2</td>\n",
       "      <td>1</td>\n",
       "      <td>1</td>\n",
       "      <td>0</td>\n",
       "      <td>0</td>\n",
       "      <td>Dart</td>\n",
       "    </tr>\n",
       "    <tr>\n",
       "      <th>1048</th>\n",
       "      <td>ankitkumar70777/github-slideshow</td>\n",
       "      <td>0</td>\n",
       "      <td>0</td>\n",
       "      <td>1</td>\n",
       "      <td>0</td>\n",
       "      <td>8</td>\n",
       "      <td>HTML</td>\n",
       "    </tr>\n",
       "    <tr>\n",
       "      <th>1049</th>\n",
       "      <td>aitikgupta/interactive_cpu_scheduler</td>\n",
       "      <td>0</td>\n",
       "      <td>5</td>\n",
       "      <td>1</td>\n",
       "      <td>1</td>\n",
       "      <td>7</td>\n",
       "      <td>Python</td>\n",
       "    </tr>\n",
       "    <tr>\n",
       "      <th>1050</th>\n",
       "      <td>gwmccubbin/voting_dapp</td>\n",
       "      <td>11</td>\n",
       "      <td>5</td>\n",
       "      <td>1</td>\n",
       "      <td>0</td>\n",
       "      <td>0</td>\n",
       "      <td>JavaScript</td>\n",
       "    </tr>\n",
       "    <tr>\n",
       "      <th>1051</th>\n",
       "      <td>gamemann/All_PropHealth</td>\n",
       "      <td>4</td>\n",
       "      <td>3</td>\n",
       "      <td>1</td>\n",
       "      <td>0</td>\n",
       "      <td>0</td>\n",
       "      <td>SourcePawn</td>\n",
       "    </tr>\n",
       "  </tbody>\n",
       "</table>\n",
       "<p>1052 rows × 7 columns</p>\n",
       "</div>"
      ],
      "text/plain": [
       "                              repositories  stars_count  forks_count  \\\n",
       "0                      octocat/Hello-World            0            0   \n",
       "1                EddieHubCommunity/support          271          150   \n",
       "2                           ethereum/aleth            0            0   \n",
       "3                    localstack/localstack            0            0   \n",
       "4                      education/classroom            0          589   \n",
       "...                                    ...          ...          ...   \n",
       "1047              Tyriar/canvas-astar.dart            2            1   \n",
       "1048      ankitkumar70777/github-slideshow            0            0   \n",
       "1049  aitikgupta/interactive_cpu_scheduler            0            5   \n",
       "1050                gwmccubbin/voting_dapp           11            5   \n",
       "1051               gamemann/All_PropHealth            4            3   \n",
       "\n",
       "      issues_count  pull_requests  contributors    language  \n",
       "0              612            316             2         NaN  \n",
       "1              536              6            71         NaN  \n",
       "2              313             27           154         C++  \n",
       "3              290             30           434      Python  \n",
       "4              202             22            67        Ruby  \n",
       "...            ...            ...           ...         ...  \n",
       "1047             1              0             0        Dart  \n",
       "1048             1              0             8        HTML  \n",
       "1049             1              1             7      Python  \n",
       "1050             1              0             0  JavaScript  \n",
       "1051             1              0             0  SourcePawn  \n",
       "\n",
       "[1052 rows x 7 columns]"
      ]
     },
     "execution_count": 16,
     "metadata": {},
     "output_type": "execute_result"
    }
   ],
   "source": [
    "df1"
   ]
  },
  {
   "cell_type": "code",
   "execution_count": 30,
   "id": "9997139d-bf1c-44ad-9abe-1b7d477fe8f2",
   "metadata": {},
   "outputs": [
    {
     "data": {
      "text/plain": [
       "0       False\n",
       "1       False\n",
       "2        True\n",
       "3        True\n",
       "4        True\n",
       "        ...  \n",
       "1047     True\n",
       "1048     True\n",
       "1049     True\n",
       "1050     True\n",
       "1051     True\n",
       "Length: 1052, dtype: bool"
      ]
     },
     "execution_count": 30,
     "metadata": {},
     "output_type": "execute_result"
    }
   ],
   "source": [
    "df1.duplicated(subset=['stars_count'],keep='first')"
   ]
  },
  {
   "cell_type": "code",
   "execution_count": 18,
   "id": "bf78898e-9ae8-4218-a0e2-b0b714c03217",
   "metadata": {},
   "outputs": [
    {
     "name": "stdout",
     "output_type": "stream",
     "text": [
      "                              repositories  stars_count  forks_count  \\\n",
      "0                      octocat/Hello-World            0            0   \n",
      "1                EddieHubCommunity/support          271          150   \n",
      "2                           ethereum/aleth            0            0   \n",
      "3                    localstack/localstack            0            0   \n",
      "4                      education/classroom            0          589   \n",
      "...                                    ...          ...          ...   \n",
      "1047              Tyriar/canvas-astar.dart            2            1   \n",
      "1048      ankitkumar70777/github-slideshow            0            0   \n",
      "1049  aitikgupta/interactive_cpu_scheduler            0            5   \n",
      "1050                gwmccubbin/voting_dapp           11            5   \n",
      "1051               gamemann/All_PropHealth            4            3   \n",
      "\n",
      "      issues_count  pull_requests  contributors    language  \n",
      "0              612            316             2         NaN  \n",
      "1              536              6            71         NaN  \n",
      "2              313             27           154         C++  \n",
      "3              290             30           434      Python  \n",
      "4              202             22            67        Ruby  \n",
      "...            ...            ...           ...         ...  \n",
      "1047             1              0             0        Dart  \n",
      "1048             1              0             8        HTML  \n",
      "1049             1              1             7      Python  \n",
      "1050             1              0             0  JavaScript  \n",
      "1051             1              0             0  SourcePawn  \n",
      "\n",
      "[1052 rows x 7 columns]\n"
     ]
    }
   ],
   "source": [
    "print(df1)"
   ]
  },
  {
   "cell_type": "code",
   "execution_count": 24,
   "id": "02c541f3-16a3-4083-b69d-5ef272063ebe",
   "metadata": {},
   "outputs": [
    {
     "name": "stdout",
     "output_type": "stream",
     "text": [
      "      repositories  stars_count  forks_count  issues_count  pull_requests  \\\n",
      "0            False        False        False         False          False   \n",
      "1            False        False        False         False          False   \n",
      "2            False        False        False         False          False   \n",
      "3            False        False        False         False          False   \n",
      "4            False        False        False         False          False   \n",
      "...            ...          ...          ...           ...            ...   \n",
      "1047         False        False        False         False          False   \n",
      "1048         False        False        False         False          False   \n",
      "1049         False        False        False         False          False   \n",
      "1050         False        False        False         False          False   \n",
      "1051         False        False        False         False          False   \n",
      "\n",
      "      contributors  language  \n",
      "0            False      True  \n",
      "1            False      True  \n",
      "2            False     False  \n",
      "3            False     False  \n",
      "4            False     False  \n",
      "...            ...       ...  \n",
      "1047         False     False  \n",
      "1048         False     False  \n",
      "1049         False     False  \n",
      "1050         False     False  \n",
      "1051         False     False  \n",
      "\n",
      "[1052 rows x 7 columns]\n"
     ]
    }
   ],
   "source": [
    "print(df1.isnull())"
   ]
  },
  {
   "cell_type": "code",
   "execution_count": 25,
   "id": "a1474d75-ec1e-4f08-8efe-ab2ed4f49114",
   "metadata": {},
   "outputs": [
    {
     "name": "stdout",
     "output_type": "stream",
     "text": [
      "repositories       0\n",
      "stars_count        0\n",
      "forks_count        0\n",
      "issues_count       0\n",
      "pull_requests      0\n",
      "contributors       0\n",
      "language         145\n",
      "dtype: int64\n"
     ]
    }
   ],
   "source": [
    "print(df1.isnull().sum())"
   ]
  },
  {
   "cell_type": "code",
   "execution_count": 28,
   "id": "429e51c8-930c-47ac-94ec-0b86f873fc02",
   "metadata": {},
   "outputs": [
    {
     "name": "stdout",
     "output_type": "stream",
     "text": [
      "Total no of null values are :  145\n"
     ]
    }
   ],
   "source": [
    "print(\"Total no of null values are : \" ,df1.isnull().sum().sum())"
   ]
  },
  {
   "cell_type": "code",
   "execution_count": 32,
   "id": "69681df7-9205-4eff-b964-5701e113a895",
   "metadata": {},
   "outputs": [
    {
     "data": {
      "text/plain": [
       "0       False\n",
       "1       False\n",
       "2       False\n",
       "3       False\n",
       "4       False\n",
       "        ...  \n",
       "1047    False\n",
       "1048    False\n",
       "1049    False\n",
       "1050    False\n",
       "1051    False\n",
       "Length: 1052, dtype: bool"
      ]
     },
     "execution_count": 32,
     "metadata": {},
     "output_type": "execute_result"
    }
   ],
   "source": [
    "df1.duplicated()"
   ]
  },
  {
   "cell_type": "code",
   "execution_count": 37,
   "id": "ceb18dc9-513b-4b33-8c6e-4534dc639dc4",
   "metadata": {},
   "outputs": [
    {
     "name": "stdout",
     "output_type": "stream",
     "text": [
      "81.97623574144487\n"
     ]
    }
   ],
   "source": [
    "print(df1.stars_count.mean())"
   ]
  },
  {
   "cell_type": "code",
   "execution_count": 38,
   "id": "5ce16197-8fb5-40f7-a67f-8ad495a60106",
   "metadata": {},
   "outputs": [
    {
     "data": {
      "text/html": [
       "<div>\n",
       "<style scoped>\n",
       "    .dataframe tbody tr th:only-of-type {\n",
       "        vertical-align: middle;\n",
       "    }\n",
       "\n",
       "    .dataframe tbody tr th {\n",
       "        vertical-align: top;\n",
       "    }\n",
       "\n",
       "    .dataframe thead th {\n",
       "        text-align: right;\n",
       "    }\n",
       "</style>\n",
       "<table border=\"1\" class=\"dataframe\">\n",
       "  <thead>\n",
       "    <tr style=\"text-align: right;\">\n",
       "      <th></th>\n",
       "      <th>repositories</th>\n",
       "      <th>stars_count</th>\n",
       "      <th>forks_count</th>\n",
       "      <th>issues_count</th>\n",
       "      <th>pull_requests</th>\n",
       "      <th>contributors</th>\n",
       "      <th>language</th>\n",
       "    </tr>\n",
       "  </thead>\n",
       "  <tbody>\n",
       "    <tr>\n",
       "      <th>0</th>\n",
       "      <td>octocat/Hello-World</td>\n",
       "      <td>0</td>\n",
       "      <td>0</td>\n",
       "      <td>612</td>\n",
       "      <td>316</td>\n",
       "      <td>2</td>\n",
       "      <td>NaN</td>\n",
       "    </tr>\n",
       "    <tr>\n",
       "      <th>1</th>\n",
       "      <td>EddieHubCommunity/support</td>\n",
       "      <td>271</td>\n",
       "      <td>150</td>\n",
       "      <td>536</td>\n",
       "      <td>6</td>\n",
       "      <td>71</td>\n",
       "      <td>NaN</td>\n",
       "    </tr>\n",
       "    <tr>\n",
       "      <th>2</th>\n",
       "      <td>ethereum/aleth</td>\n",
       "      <td>0</td>\n",
       "      <td>0</td>\n",
       "      <td>313</td>\n",
       "      <td>27</td>\n",
       "      <td>154</td>\n",
       "      <td>C++</td>\n",
       "    </tr>\n",
       "    <tr>\n",
       "      <th>3</th>\n",
       "      <td>localstack/localstack</td>\n",
       "      <td>0</td>\n",
       "      <td>0</td>\n",
       "      <td>290</td>\n",
       "      <td>30</td>\n",
       "      <td>434</td>\n",
       "      <td>Python</td>\n",
       "    </tr>\n",
       "    <tr>\n",
       "      <th>4</th>\n",
       "      <td>education/classroom</td>\n",
       "      <td>0</td>\n",
       "      <td>589</td>\n",
       "      <td>202</td>\n",
       "      <td>22</td>\n",
       "      <td>67</td>\n",
       "      <td>Ruby</td>\n",
       "    </tr>\n",
       "  </tbody>\n",
       "</table>\n",
       "</div>"
      ],
      "text/plain": [
       "                repositories  stars_count  forks_count  issues_count  \\\n",
       "0        octocat/Hello-World            0            0           612   \n",
       "1  EddieHubCommunity/support          271          150           536   \n",
       "2             ethereum/aleth            0            0           313   \n",
       "3      localstack/localstack            0            0           290   \n",
       "4        education/classroom            0          589           202   \n",
       "\n",
       "   pull_requests  contributors language  \n",
       "0            316             2      NaN  \n",
       "1              6            71      NaN  \n",
       "2             27           154      C++  \n",
       "3             30           434   Python  \n",
       "4             22            67     Ruby  "
      ]
     },
     "execution_count": 38,
     "metadata": {},
     "output_type": "execute_result"
    }
   ],
   "source": [
    "df1.head()"
   ]
  },
  {
   "cell_type": "code",
   "execution_count": 39,
   "id": "531eaa4b-78c6-4bae-a360-f240e6548762",
   "metadata": {},
   "outputs": [
    {
     "name": "stdout",
     "output_type": "stream",
     "text": [
      "12.0\n"
     ]
    }
   ],
   "source": [
    "print(df1.stars_count.median())"
   ]
  },
  {
   "cell_type": "code",
   "execution_count": 41,
   "id": "76e18510-cf4a-4d53-9c5d-fa7bc967f8fb",
   "metadata": {},
   "outputs": [
    {
     "name": "stdout",
     "output_type": "stream",
     "text": [
      "170.40311640290673\n"
     ]
    }
   ],
   "source": [
    "print(df1.stars_count.std())"
   ]
  },
  {
   "cell_type": "code",
   "execution_count": 42,
   "id": "aafcaaf0-4106-4e60-a596-653addaedddd",
   "metadata": {},
   "outputs": [
    {
     "name": "stdout",
     "output_type": "stream",
     "text": [
      "8.364068441064639\n"
     ]
    }
   ],
   "source": [
    "print(df1.contributors.mean())"
   ]
  },
  {
   "cell_type": "code",
   "execution_count": 43,
   "id": "a2c11d9a-339b-4d9b-9b5c-eb9884a55235",
   "metadata": {},
   "outputs": [],
   "source": [
    "df2=df1"
   ]
  },
  {
   "cell_type": "code",
   "execution_count": 44,
   "id": "62a2c38f-28e2-4cae-8813-4287e32f74a2",
   "metadata": {},
   "outputs": [
    {
     "data": {
      "text/html": [
       "<div>\n",
       "<style scoped>\n",
       "    .dataframe tbody tr th:only-of-type {\n",
       "        vertical-align: middle;\n",
       "    }\n",
       "\n",
       "    .dataframe tbody tr th {\n",
       "        vertical-align: top;\n",
       "    }\n",
       "\n",
       "    .dataframe thead th {\n",
       "        text-align: right;\n",
       "    }\n",
       "</style>\n",
       "<table border=\"1\" class=\"dataframe\">\n",
       "  <thead>\n",
       "    <tr style=\"text-align: right;\">\n",
       "      <th></th>\n",
       "      <th>repositories</th>\n",
       "      <th>stars_count</th>\n",
       "      <th>forks_count</th>\n",
       "      <th>issues_count</th>\n",
       "      <th>pull_requests</th>\n",
       "      <th>contributors</th>\n",
       "      <th>language</th>\n",
       "    </tr>\n",
       "  </thead>\n",
       "  <tbody>\n",
       "    <tr>\n",
       "      <th>0</th>\n",
       "      <td>octocat/Hello-World</td>\n",
       "      <td>0</td>\n",
       "      <td>0</td>\n",
       "      <td>612</td>\n",
       "      <td>316</td>\n",
       "      <td>2</td>\n",
       "      <td>NaN</td>\n",
       "    </tr>\n",
       "    <tr>\n",
       "      <th>1</th>\n",
       "      <td>EddieHubCommunity/support</td>\n",
       "      <td>271</td>\n",
       "      <td>150</td>\n",
       "      <td>536</td>\n",
       "      <td>6</td>\n",
       "      <td>71</td>\n",
       "      <td>NaN</td>\n",
       "    </tr>\n",
       "    <tr>\n",
       "      <th>2</th>\n",
       "      <td>ethereum/aleth</td>\n",
       "      <td>0</td>\n",
       "      <td>0</td>\n",
       "      <td>313</td>\n",
       "      <td>27</td>\n",
       "      <td>154</td>\n",
       "      <td>C++</td>\n",
       "    </tr>\n",
       "    <tr>\n",
       "      <th>3</th>\n",
       "      <td>localstack/localstack</td>\n",
       "      <td>0</td>\n",
       "      <td>0</td>\n",
       "      <td>290</td>\n",
       "      <td>30</td>\n",
       "      <td>434</td>\n",
       "      <td>Python</td>\n",
       "    </tr>\n",
       "    <tr>\n",
       "      <th>4</th>\n",
       "      <td>education/classroom</td>\n",
       "      <td>0</td>\n",
       "      <td>589</td>\n",
       "      <td>202</td>\n",
       "      <td>22</td>\n",
       "      <td>67</td>\n",
       "      <td>Ruby</td>\n",
       "    </tr>\n",
       "    <tr>\n",
       "      <th>...</th>\n",
       "      <td>...</td>\n",
       "      <td>...</td>\n",
       "      <td>...</td>\n",
       "      <td>...</td>\n",
       "      <td>...</td>\n",
       "      <td>...</td>\n",
       "      <td>...</td>\n",
       "    </tr>\n",
       "    <tr>\n",
       "      <th>1047</th>\n",
       "      <td>Tyriar/canvas-astar.dart</td>\n",
       "      <td>2</td>\n",
       "      <td>1</td>\n",
       "      <td>1</td>\n",
       "      <td>0</td>\n",
       "      <td>0</td>\n",
       "      <td>Dart</td>\n",
       "    </tr>\n",
       "    <tr>\n",
       "      <th>1048</th>\n",
       "      <td>ankitkumar70777/github-slideshow</td>\n",
       "      <td>0</td>\n",
       "      <td>0</td>\n",
       "      <td>1</td>\n",
       "      <td>0</td>\n",
       "      <td>8</td>\n",
       "      <td>HTML</td>\n",
       "    </tr>\n",
       "    <tr>\n",
       "      <th>1049</th>\n",
       "      <td>aitikgupta/interactive_cpu_scheduler</td>\n",
       "      <td>0</td>\n",
       "      <td>5</td>\n",
       "      <td>1</td>\n",
       "      <td>1</td>\n",
       "      <td>7</td>\n",
       "      <td>Python</td>\n",
       "    </tr>\n",
       "    <tr>\n",
       "      <th>1050</th>\n",
       "      <td>gwmccubbin/voting_dapp</td>\n",
       "      <td>11</td>\n",
       "      <td>5</td>\n",
       "      <td>1</td>\n",
       "      <td>0</td>\n",
       "      <td>0</td>\n",
       "      <td>JavaScript</td>\n",
       "    </tr>\n",
       "    <tr>\n",
       "      <th>1051</th>\n",
       "      <td>gamemann/All_PropHealth</td>\n",
       "      <td>4</td>\n",
       "      <td>3</td>\n",
       "      <td>1</td>\n",
       "      <td>0</td>\n",
       "      <td>0</td>\n",
       "      <td>SourcePawn</td>\n",
       "    </tr>\n",
       "  </tbody>\n",
       "</table>\n",
       "<p>1052 rows × 7 columns</p>\n",
       "</div>"
      ],
      "text/plain": [
       "                              repositories  stars_count  forks_count  \\\n",
       "0                      octocat/Hello-World            0            0   \n",
       "1                EddieHubCommunity/support          271          150   \n",
       "2                           ethereum/aleth            0            0   \n",
       "3                    localstack/localstack            0            0   \n",
       "4                      education/classroom            0          589   \n",
       "...                                    ...          ...          ...   \n",
       "1047              Tyriar/canvas-astar.dart            2            1   \n",
       "1048      ankitkumar70777/github-slideshow            0            0   \n",
       "1049  aitikgupta/interactive_cpu_scheduler            0            5   \n",
       "1050                gwmccubbin/voting_dapp           11            5   \n",
       "1051               gamemann/All_PropHealth            4            3   \n",
       "\n",
       "      issues_count  pull_requests  contributors    language  \n",
       "0              612            316             2         NaN  \n",
       "1              536              6            71         NaN  \n",
       "2              313             27           154         C++  \n",
       "3              290             30           434      Python  \n",
       "4              202             22            67        Ruby  \n",
       "...            ...            ...           ...         ...  \n",
       "1047             1              0             0        Dart  \n",
       "1048             1              0             8        HTML  \n",
       "1049             1              1             7      Python  \n",
       "1050             1              0             0  JavaScript  \n",
       "1051             1              0             0  SourcePawn  \n",
       "\n",
       "[1052 rows x 7 columns]"
      ]
     },
     "execution_count": 44,
     "metadata": {},
     "output_type": "execute_result"
    }
   ],
   "source": [
    "df2"
   ]
  },
  {
   "cell_type": "code",
   "execution_count": 49,
   "id": "a84192ed-5f09-4043-a234-a67d90df06ab",
   "metadata": {},
   "outputs": [
    {
     "data": {
      "text/html": [
       "<div>\n",
       "<style scoped>\n",
       "    .dataframe tbody tr th:only-of-type {\n",
       "        vertical-align: middle;\n",
       "    }\n",
       "\n",
       "    .dataframe tbody tr th {\n",
       "        vertical-align: top;\n",
       "    }\n",
       "\n",
       "    .dataframe thead th {\n",
       "        text-align: right;\n",
       "    }\n",
       "</style>\n",
       "<table border=\"1\" class=\"dataframe\">\n",
       "  <thead>\n",
       "    <tr style=\"text-align: right;\">\n",
       "      <th></th>\n",
       "      <th>repositories</th>\n",
       "      <th>stars_count</th>\n",
       "      <th>issues_count</th>\n",
       "      <th>pull_requests</th>\n",
       "      <th>contributors</th>\n",
       "      <th>language</th>\n",
       "    </tr>\n",
       "  </thead>\n",
       "  <tbody>\n",
       "    <tr>\n",
       "      <th>0</th>\n",
       "      <td>octocat/Hello-World</td>\n",
       "      <td>0</td>\n",
       "      <td>612</td>\n",
       "      <td>316</td>\n",
       "      <td>2</td>\n",
       "      <td>NaN</td>\n",
       "    </tr>\n",
       "    <tr>\n",
       "      <th>1</th>\n",
       "      <td>EddieHubCommunity/support</td>\n",
       "      <td>271</td>\n",
       "      <td>536</td>\n",
       "      <td>6</td>\n",
       "      <td>71</td>\n",
       "      <td>NaN</td>\n",
       "    </tr>\n",
       "    <tr>\n",
       "      <th>2</th>\n",
       "      <td>ethereum/aleth</td>\n",
       "      <td>0</td>\n",
       "      <td>313</td>\n",
       "      <td>27</td>\n",
       "      <td>154</td>\n",
       "      <td>C++</td>\n",
       "    </tr>\n",
       "    <tr>\n",
       "      <th>3</th>\n",
       "      <td>localstack/localstack</td>\n",
       "      <td>0</td>\n",
       "      <td>290</td>\n",
       "      <td>30</td>\n",
       "      <td>434</td>\n",
       "      <td>Python</td>\n",
       "    </tr>\n",
       "    <tr>\n",
       "      <th>4</th>\n",
       "      <td>education/classroom</td>\n",
       "      <td>0</td>\n",
       "      <td>202</td>\n",
       "      <td>22</td>\n",
       "      <td>67</td>\n",
       "      <td>Ruby</td>\n",
       "    </tr>\n",
       "    <tr>\n",
       "      <th>...</th>\n",
       "      <td>...</td>\n",
       "      <td>...</td>\n",
       "      <td>...</td>\n",
       "      <td>...</td>\n",
       "      <td>...</td>\n",
       "      <td>...</td>\n",
       "    </tr>\n",
       "    <tr>\n",
       "      <th>1047</th>\n",
       "      <td>Tyriar/canvas-astar.dart</td>\n",
       "      <td>2</td>\n",
       "      <td>1</td>\n",
       "      <td>0</td>\n",
       "      <td>0</td>\n",
       "      <td>Dart</td>\n",
       "    </tr>\n",
       "    <tr>\n",
       "      <th>1048</th>\n",
       "      <td>ankitkumar70777/github-slideshow</td>\n",
       "      <td>0</td>\n",
       "      <td>1</td>\n",
       "      <td>0</td>\n",
       "      <td>8</td>\n",
       "      <td>HTML</td>\n",
       "    </tr>\n",
       "    <tr>\n",
       "      <th>1049</th>\n",
       "      <td>aitikgupta/interactive_cpu_scheduler</td>\n",
       "      <td>0</td>\n",
       "      <td>1</td>\n",
       "      <td>1</td>\n",
       "      <td>7</td>\n",
       "      <td>Python</td>\n",
       "    </tr>\n",
       "    <tr>\n",
       "      <th>1050</th>\n",
       "      <td>gwmccubbin/voting_dapp</td>\n",
       "      <td>11</td>\n",
       "      <td>1</td>\n",
       "      <td>0</td>\n",
       "      <td>0</td>\n",
       "      <td>JavaScript</td>\n",
       "    </tr>\n",
       "    <tr>\n",
       "      <th>1051</th>\n",
       "      <td>gamemann/All_PropHealth</td>\n",
       "      <td>4</td>\n",
       "      <td>1</td>\n",
       "      <td>0</td>\n",
       "      <td>0</td>\n",
       "      <td>SourcePawn</td>\n",
       "    </tr>\n",
       "  </tbody>\n",
       "</table>\n",
       "<p>1052 rows × 6 columns</p>\n",
       "</div>"
      ],
      "text/plain": [
       "                              repositories  stars_count  issues_count  \\\n",
       "0                      octocat/Hello-World            0           612   \n",
       "1                EddieHubCommunity/support          271           536   \n",
       "2                           ethereum/aleth            0           313   \n",
       "3                    localstack/localstack            0           290   \n",
       "4                      education/classroom            0           202   \n",
       "...                                    ...          ...           ...   \n",
       "1047              Tyriar/canvas-astar.dart            2             1   \n",
       "1048      ankitkumar70777/github-slideshow            0             1   \n",
       "1049  aitikgupta/interactive_cpu_scheduler            0             1   \n",
       "1050                gwmccubbin/voting_dapp           11             1   \n",
       "1051               gamemann/All_PropHealth            4             1   \n",
       "\n",
       "      pull_requests  contributors    language  \n",
       "0               316             2         NaN  \n",
       "1                 6            71         NaN  \n",
       "2                27           154         C++  \n",
       "3                30           434      Python  \n",
       "4                22            67        Ruby  \n",
       "...             ...           ...         ...  \n",
       "1047              0             0        Dart  \n",
       "1048              0             8        HTML  \n",
       "1049              1             7      Python  \n",
       "1050              0             0  JavaScript  \n",
       "1051              0             0  SourcePawn  \n",
       "\n",
       "[1052 rows x 6 columns]"
      ]
     },
     "execution_count": 49,
     "metadata": {},
     "output_type": "execute_result"
    }
   ],
   "source": [
    "df3=df2.drop(columns=['forks_count'])\n",
    "df3"
   ]
  },
  {
   "cell_type": "code",
   "execution_count": 51,
   "id": "ceab95aa-11db-4662-a612-2a555273f4d4",
   "metadata": {},
   "outputs": [
    {
     "name": "stdout",
     "output_type": "stream",
     "text": [
      "\n",
      "Duplicate Rows: 80\n"
     ]
    }
   ],
   "source": [
    "duplicates = df1.duplicated().sum()\n",
    "print(\"\\nDuplicate Rows:\", duplicates)\n"
   ]
  },
  {
   "cell_type": "code",
   "execution_count": 53,
   "id": "b4ebd519-509d-47c7-ae64-b213f18a7b55",
   "metadata": {},
   "outputs": [
    {
     "name": "stdout",
     "output_type": "stream",
     "text": [
      "\n",
      "Missing Values:\n",
      "145\n"
     ]
    }
   ],
   "source": [
    "print(\"\\nMissing Values:\")\n",
    "print(df1.isnull().sum().sum())\n"
   ]
  },
  {
   "cell_type": "code",
   "execution_count": 54,
   "id": "d88c6271-690c-4636-aed1-c4e413dd7049",
   "metadata": {},
   "outputs": [
    {
     "name": "stdout",
     "output_type": "stream",
     "text": [
      "\n",
      "Numerical Summary:\n",
      "       stars_count  forks_count  issues_count  pull_requests  contributors\n",
      "count  1052.000000  1052.000000   1052.000000    1052.000000   1052.000000\n",
      "mean     81.976236    53.884981      8.656844       4.374525      8.364068\n",
      "std     170.403116   127.699729     32.445154      27.913732     37.511807\n",
      "min       0.000000     0.000000      1.000000       0.000000      0.000000\n",
      "25%       1.000000     1.000000      1.000000       0.000000      0.000000\n",
      "50%      12.000000     6.000000      2.000000       0.000000      2.000000\n",
      "75%      65.250000    38.250000      6.000000       2.000000      4.000000\n",
      "max     995.000000   973.000000    612.000000     567.000000    658.000000\n"
     ]
    }
   ],
   "source": [
    "print(\"\\nNumerical Summary:\")\n",
    "print(df1.describe())\n"
   ]
  },
  {
   "cell_type": "code",
   "execution_count": 58,
   "id": "78f8beee-cac5-4618-b4cd-11bdd627e8f9",
   "metadata": {},
   "outputs": [
    {
     "name": "stdout",
     "output_type": "stream",
     "text": [
      "\n",
      "Categorical Summary:\n",
      "repositories: 972 unique values\n",
      "repositories\n",
      "iamshaunjp/css-grid-layouts                           2\n",
      "carloscuesta/gitmoji                                  2\n",
      "iamshaunjp/django-playlist                            2\n",
      "kameshsampath/ansible-collection-kubernetes-spices    2\n",
      "jgthms/bulma-website                                  2\n",
      "Name: count, dtype: int64\n",
      "\n",
      "language: 51 unique values\n",
      "language\n",
      "JavaScript    253\n",
      "Python        155\n",
      "HTML           72\n",
      "Java           44\n",
      "CSS            37\n",
      "Name: count, dtype: int64\n",
      "\n"
     ]
    }
   ],
   "source": [
    "print(\"\\nCategorical Summary:\")\n",
    "categorical_cols = df1.select_dtypes(include=['object']).columns\n",
    "for col in categorical_cols:\n",
    "    print(f\"{col}: {df1[col].nunique()} unique values\")\n",
    "    print(df1[col].value_counts().head())\n",
    "    print()\n"
   ]
  },
  {
   "cell_type": "code",
   "execution_count": 59,
   "id": "5dc06c40-2431-4030-a4bc-2a40e4bdd4a0",
   "metadata": {},
   "outputs": [
    {
     "data": {
      "text/plain": [
       "51"
      ]
     },
     "execution_count": 59,
     "metadata": {},
     "output_type": "execute_result"
    }
   ],
   "source": [
    "df1[col].nunique()"
   ]
  },
  {
   "cell_type": "code",
   "execution_count": 60,
   "id": "43493164-eb08-4b5c-9876-33c59ccf91a8",
   "metadata": {},
   "outputs": [
    {
     "data": {
      "text/plain": [
       "language\n",
       "JavaScript          253\n",
       "Python              155\n",
       "HTML                 72\n",
       "Java                 44\n",
       "CSS                  37\n",
       "TypeScript           37\n",
       "Dart                 36\n",
       "Jupyter Notebook     29\n",
       "C++                  29\n",
       "Ruby                 28\n",
       "C                    26\n",
       "Shell                25\n",
       "PHP                  16\n",
       "Go                   15\n",
       "Rust                 10\n",
       "Swift                10\n",
       "Objective-C           8\n",
       "C#                    8\n",
       "Kotlin                7\n",
       "Makefile              6\n",
       "Jinja                 5\n",
       "SCSS                  4\n",
       "AutoHotkey            3\n",
       "Perl                  3\n",
       "CoffeeScript          3\n",
       "Solidity              3\n",
       "Dockerfile            3\n",
       "Pawn                  2\n",
       "Vue                   2\n",
       "Vim Script            2\n",
       "Hack                  2\n",
       "Elixir                2\n",
       "CodeQL                2\n",
       "PowerShell            2\n",
       "Assembly              2\n",
       "Haskell               1\n",
       "PureBasic             1\n",
       "Less                  1\n",
       "QML                   1\n",
       "Svelte                1\n",
       "Smarty                1\n",
       "R                     1\n",
       "HCL                   1\n",
       "Roff                  1\n",
       "ActionScript          1\n",
       "CMake                 1\n",
       "Oz                    1\n",
       "Gherkin               1\n",
       "QMake                 1\n",
       "Cuda                  1\n",
       "SourcePawn            1\n",
       "Name: count, dtype: int64"
      ]
     },
     "execution_count": 60,
     "metadata": {},
     "output_type": "execute_result"
    }
   ],
   "source": [
    "df1[col].value_counts()"
   ]
  },
  {
   "cell_type": "code",
   "execution_count": null,
   "id": "969f81ad-1b27-4dd5-b88a-915978ba20bb",
   "metadata": {},
   "outputs": [],
   "source": []
  }
 ],
 "metadata": {
  "kernelspec": {
   "display_name": "Python 3 (ipykernel)",
   "language": "python",
   "name": "python3"
  },
  "language_info": {
   "codemirror_mode": {
    "name": "ipython",
    "version": 3
   },
   "file_extension": ".py",
   "mimetype": "text/x-python",
   "name": "python",
   "nbconvert_exporter": "python",
   "pygments_lexer": "ipython3",
   "version": "3.12.9"
  },
  "widgets": {
   "application/vnd.jupyter.widget-state+json": {
    "state": {},
    "version_major": 2,
    "version_minor": 0
   }
  }
 },
 "nbformat": 4,
 "nbformat_minor": 5
}
