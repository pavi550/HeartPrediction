{
 "cells": [
  {
   "cell_type": "markdown",
   "id": "6aab3249-559b-4b47-b2bc-d1d2440369ec",
   "metadata": {},
   "source": [
    "# EDA Project: Heart Prediction Dataset Analysis\n",
    "# Name of group Members -- Praveen,Janani,Monisha,Varsha.Vishwa\n",
    "# Group - 11th Group \n",
    "# Name of the file Heart Prediction Dataset.ipynb\n",
    "## I. Project Setup\n",
    "\n",
    "### Import Libraries\n"
   ]
  },
  {
   "cell_type": "code",
   "execution_count": 1,
   "id": "93e8ff50-70e8-4c95-9aaa-181a09bc1af9",
   "metadata": {},
   "outputs": [],
   "source": [
    "import pandas as pd\n",
    "import numpy as np\n",
    "import matplotlib.pyplot as plt\n",
    "import seaborn as sns"
   ]
  },
  {
   "cell_type": "markdown",
   "id": "10eaab46-141b-4f6f-a8a1-af095523758a",
   "metadata": {},
   "source": [
    "### Load the Dataset"
   ]
  },
  {
   "cell_type": "code",
   "execution_count": 2,
   "id": "0be87a9c-1088-46ac-9c72-4d4c21ad83e2",
   "metadata": {},
   "outputs": [],
   "source": [
    "#Load the Heart Attack prediction data set \n",
    "df1=pd.read_csv(\"Heart Prediction Quantum Dataset.csv\")"
   ]
  },
  {
   "cell_type": "markdown",
   "id": "87772dad-49a2-427c-b71f-b669f20fea53",
   "metadata": {},
   "source": [
    "## II. Data Import and Cleaning"
   ]
  },
  {
   "cell_type": "markdown",
   "id": "0888dc00-4ef6-4482-aa4a-1a81a56ea007",
   "metadata": {},
   "source": [
    "### Initial Data Inspection"
   ]
  },
  {
   "cell_type": "markdown",
   "id": "0f4e36a3-dc20-4284-98d6-407ac9ddfd3c",
   "metadata": {},
   "source": [
    "# shape of the dataset # data types # Summary # first 5 rows "
   ]
  },
  {
   "cell_type": "code",
   "execution_count": 3,
   "id": "c051e82c-9100-47eb-9210-8a1ada3b384b",
   "metadata": {},
   "outputs": [
    {
     "name": "stdout",
     "output_type": "stream",
     "text": [
      "Checking the shape of the dataset : \n"
     ]
    },
    {
     "data": {
      "text/plain": [
       "(504, 7)"
      ]
     },
     "execution_count": 3,
     "metadata": {},
     "output_type": "execute_result"
    }
   ],
   "source": [
    "print(\"Checking the shape of the dataset : \")\n",
    "df1.shape"
   ]
  },
  {
   "cell_type": "code",
   "execution_count": 4,
   "id": "1f1712de-dfef-42ad-90e8-fb3312872f54",
   "metadata": {},
   "outputs": [
    {
     "name": "stdout",
     "output_type": "stream",
     "text": [
      "Type of the datatype is :  <class 'pandas.core.frame.DataFrame'>\n"
     ]
    }
   ],
   "source": [
    "print(\"Type of the datatype is : \",type(df1))"
   ]
  },
  {
   "cell_type": "code",
   "execution_count": 5,
   "id": "bd75a5f8-7824-4647-a814-2350c0a7a40d",
   "metadata": {},
   "outputs": [
    {
     "name": "stdout",
     "output_type": "stream",
     "text": [
      "<class 'pandas.core.frame.DataFrame'>\n",
      "RangeIndex: 504 entries, 0 to 503\n",
      "Data columns (total 7 columns):\n",
      " #   Column                 Non-Null Count  Dtype  \n",
      "---  ------                 --------------  -----  \n",
      " 0   Age                    504 non-null    int64  \n",
      " 1   Gender                 504 non-null    object \n",
      " 2   BloodPressure          503 non-null    float64\n",
      " 3   Cholesterol            504 non-null    int64  \n",
      " 4   HeartRate              504 non-null    int64  \n",
      " 5   QuantumPatternFeature  504 non-null    float64\n",
      " 6   HeartDisease           504 non-null    object \n",
      "dtypes: float64(2), int64(3), object(2)\n",
      "memory usage: 27.7+ KB\n",
      "None\n"
     ]
    }
   ],
   "source": [
    "print(df1.info())"
   ]
  },
  {
   "cell_type": "code",
   "execution_count": 6,
   "id": "363cc63a-c6fa-421c-9f29-3f2bfe038dc1",
   "metadata": {},
   "outputs": [
    {
     "name": "stdout",
     "output_type": "stream",
     "text": [
      "              Age  BloodPressure  Cholesterol  HeartRate  \\\n",
      "count  504.000000     503.000000   504.000000  504.00000   \n",
      "mean    54.837302     132.821074   221.289683   88.85119   \n",
      "std     14.293199      26.404149    44.051608   17.38603   \n",
      "min     30.000000      90.000000   150.000000   60.00000   \n",
      "25%     43.000000     111.000000   182.750000   73.00000   \n",
      "50%     55.000000     132.000000   221.000000   89.00000   \n",
      "75%     66.000000     155.000000   258.250000  103.25000   \n",
      "max     79.000000     179.000000   299.000000  119.00000   \n",
      "\n",
      "       QuantumPatternFeature  \n",
      "count             504.000000  \n",
      "mean                8.312299  \n",
      "std                 0.920742  \n",
      "min                 6.164692  \n",
      "25%                 7.663130  \n",
      "50%                 8.323064  \n",
      "75%                 8.935999  \n",
      "max                10.784886  \n"
     ]
    }
   ],
   "source": [
    "print(df1.describe())"
   ]
  },
  {
   "cell_type": "code",
   "execution_count": 7,
   "id": "14188142-f09e-4a51-823c-5f511323707d",
   "metadata": {},
   "outputs": [
    {
     "name": "stdout",
     "output_type": "stream",
     "text": [
      "\n",
      "First 5 Rows:\n"
     ]
    },
    {
     "data": {
      "text/html": [
       "<div>\n",
       "<style scoped>\n",
       "    .dataframe tbody tr th:only-of-type {\n",
       "        vertical-align: middle;\n",
       "    }\n",
       "\n",
       "    .dataframe tbody tr th {\n",
       "        vertical-align: top;\n",
       "    }\n",
       "\n",
       "    .dataframe thead th {\n",
       "        text-align: right;\n",
       "    }\n",
       "</style>\n",
       "<table border=\"1\" class=\"dataframe\">\n",
       "  <thead>\n",
       "    <tr style=\"text-align: right;\">\n",
       "      <th></th>\n",
       "      <th>Age</th>\n",
       "      <th>Gender</th>\n",
       "      <th>BloodPressure</th>\n",
       "      <th>Cholesterol</th>\n",
       "      <th>HeartRate</th>\n",
       "      <th>QuantumPatternFeature</th>\n",
       "      <th>HeartDisease</th>\n",
       "    </tr>\n",
       "  </thead>\n",
       "  <tbody>\n",
       "    <tr>\n",
       "      <th>0</th>\n",
       "      <td>68</td>\n",
       "      <td>Male</td>\n",
       "      <td>105.0</td>\n",
       "      <td>191</td>\n",
       "      <td>107</td>\n",
       "      <td>8.362241</td>\n",
       "      <td>Yes</td>\n",
       "    </tr>\n",
       "    <tr>\n",
       "      <th>1</th>\n",
       "      <td>58</td>\n",
       "      <td>Female</td>\n",
       "      <td>97.0</td>\n",
       "      <td>249</td>\n",
       "      <td>89</td>\n",
       "      <td>9.249002</td>\n",
       "      <td>No</td>\n",
       "    </tr>\n",
       "    <tr>\n",
       "      <th>2</th>\n",
       "      <td>44</td>\n",
       "      <td>Female</td>\n",
       "      <td>93.0</td>\n",
       "      <td>190</td>\n",
       "      <td>82</td>\n",
       "      <td>7.942542</td>\n",
       "      <td>Yes</td>\n",
       "    </tr>\n",
       "    <tr>\n",
       "      <th>3</th>\n",
       "      <td>72</td>\n",
       "      <td>Male</td>\n",
       "      <td>93.0</td>\n",
       "      <td>183</td>\n",
       "      <td>101</td>\n",
       "      <td>6.495155</td>\n",
       "      <td>Yes</td>\n",
       "    </tr>\n",
       "    <tr>\n",
       "      <th>4</th>\n",
       "      <td>37</td>\n",
       "      <td>Female</td>\n",
       "      <td>145.0</td>\n",
       "      <td>166</td>\n",
       "      <td>103</td>\n",
       "      <td>7.653900</td>\n",
       "      <td>Yes</td>\n",
       "    </tr>\n",
       "  </tbody>\n",
       "</table>\n",
       "</div>"
      ],
      "text/plain": [
       "   Age  Gender  BloodPressure  Cholesterol  HeartRate  QuantumPatternFeature  \\\n",
       "0   68    Male          105.0          191        107               8.362241   \n",
       "1   58  Female           97.0          249         89               9.249002   \n",
       "2   44  Female           93.0          190         82               7.942542   \n",
       "3   72    Male           93.0          183        101               6.495155   \n",
       "4   37  Female          145.0          166        103               7.653900   \n",
       "\n",
       "  HeartDisease  \n",
       "0          Yes  \n",
       "1           No  \n",
       "2          Yes  \n",
       "3          Yes  \n",
       "4          Yes  "
      ]
     },
     "execution_count": 7,
     "metadata": {},
     "output_type": "execute_result"
    }
   ],
   "source": [
    "print(\"\\nFirst 5 Rows:\")\n",
    "df1.head() #top five data in the dataset "
   ]
  },
  {
   "cell_type": "code",
   "execution_count": 8,
   "id": "f760f3f5-6a6c-41d9-8df0-12d24552b325",
   "metadata": {},
   "outputs": [
    {
     "name": "stdout",
     "output_type": "stream",
     "text": [
      "Corelationship between the data <bound method DataFrame.corr of      Age  Gender  BloodPressure  Cholesterol  HeartRate  \\\n",
      "0     68    Male          105.0          191        107   \n",
      "1     58  Female           97.0          249         89   \n",
      "2     44  Female           93.0          190         82   \n",
      "3     72    Male           93.0          183        101   \n",
      "4     37  Female          145.0          166        103   \n",
      "..   ...     ...            ...          ...        ...   \n",
      "499   55  Female          174.0          249         89   \n",
      "500   72  Female          135.0          152         91   \n",
      "501   66  Female          105.0          276         98   \n",
      "502   41  Female          164.0          248        114   \n",
      "503   59  Female          107.0          157        101   \n",
      "\n",
      "     QuantumPatternFeature HeartDisease  \n",
      "0                 8.362241          Yes  \n",
      "1                 9.249002           No  \n",
      "2                 7.942542          Yes  \n",
      "3                 6.495155          Yes  \n",
      "4                 7.653900          Yes  \n",
      "..                     ...          ...  \n",
      "499              10.492950           No  \n",
      "500               6.515717          Yes  \n",
      "501               9.159122           No  \n",
      "502               9.067889           No  \n",
      "503               7.337650          Yes  \n",
      "\n",
      "[504 rows x 7 columns]>\n"
     ]
    }
   ],
   "source": [
    "print(\"Corelationship between the data\",df1.corr)"
   ]
  },
  {
   "cell_type": "markdown",
   "id": "211a3361-0b51-417c-816f-afe61151f63a",
   "metadata": {},
   "source": [
    "### Missing Values Handling"
   ]
  },
  {
   "cell_type": "code",
   "execution_count": 9,
   "id": "0ae2d8ea-a65b-465a-881c-53dfdcf4735e",
   "metadata": {},
   "outputs": [
    {
     "name": "stdout",
     "output_type": "stream",
     "text": [
      "checking the null values or missing values  Age                      0\n",
      "Gender                   0\n",
      "BloodPressure            1\n",
      "Cholesterol              0\n",
      "HeartRate                0\n",
      "QuantumPatternFeature    0\n",
      "HeartDisease             0\n",
      "dtype: int64\n"
     ]
    }
   ],
   "source": [
    "print(\"checking the null values or missing values \",df1.isnull().sum() )"
   ]
  },
  {
   "cell_type": "code",
   "execution_count": 10,
   "id": "032f9b3c-a16e-4e96-978a-32a31499ebd6",
   "metadata": {},
   "outputs": [
    {
     "name": "stdout",
     "output_type": "stream",
     "text": [
      "Updated dataset :      Age  Gender  BloodPressure  Cholesterol  HeartRate  \\\n",
      "0     68    Male          105.0          191        107   \n",
      "1     58  Female           97.0          249         89   \n",
      "2     44  Female           93.0          190         82   \n",
      "3     72    Male           93.0          183        101   \n",
      "4     37  Female          145.0          166        103   \n",
      "..   ...     ...            ...          ...        ...   \n",
      "499   55  Female          174.0          249         89   \n",
      "500   72  Female          135.0          152         91   \n",
      "501   66  Female          105.0          276         98   \n",
      "502   41  Female          164.0          248        114   \n",
      "503   59  Female          107.0          157        101   \n",
      "\n",
      "     QuantumPatternFeature HeartDisease  \n",
      "0                 8.362241          Yes  \n",
      "1                 9.249002           No  \n",
      "2                 7.942542          Yes  \n",
      "3                 6.495155          Yes  \n",
      "4                 7.653900          Yes  \n",
      "..                     ...          ...  \n",
      "499              10.492950           No  \n",
      "500               6.515717          Yes  \n",
      "501               9.159122           No  \n",
      "502               9.067889           No  \n",
      "503               7.337650          Yes  \n",
      "\n",
      "[504 rows x 7 columns]\n"
     ]
    }
   ],
   "source": [
    "df1['BloodPressure'].fillna(df1['BloodPressure'].mean())\n",
    "print(\"Updated dataset :\",df1)"
   ]
  },
  {
   "cell_type": "markdown",
   "id": "110c8bc3-d592-4688-b591-624358ed64ee",
   "metadata": {},
   "source": [
    "### Duplicate Rows Removal"
   ]
  },
  {
   "cell_type": "code",
   "execution_count": 11,
   "id": "114e3a9e-a7da-4a5a-aca1-6c85033202f5",
   "metadata": {},
   "outputs": [
    {
     "name": "stdout",
     "output_type": "stream",
     "text": [
      "\n",
      " Duplicate rows:\n",
      "5\n"
     ]
    }
   ],
   "source": [
    "print(\"\\n Duplicate rows:\")\n",
    "print(df1.duplicated().sum())\n",
    "df1.drop_duplicates(inplace=True)  #Dropping the duplicate rows "
   ]
  },
  {
   "cell_type": "markdown",
   "id": "7299eb61-e05f-48ff-b727-0a07f90c2517",
   "metadata": {},
   "source": [
    "### Data Type Conversion "
   ]
  },
  {
   "cell_type": "code",
   "execution_count": 12,
   "id": "10c83660-1538-4a94-87b3-4833fd577a24",
   "metadata": {},
   "outputs": [],
   "source": [
    "# its is not required since we have not used the datatime format "
   ]
  },
  {
   "cell_type": "markdown",
   "id": "d1147180-ea76-4908-911e-2416222ef8eb",
   "metadata": {},
   "source": [
    "## III. Exploratory Data Analysis (EDA)"
   ]
  },
  {
   "cell_type": "markdown",
   "id": "9e4566e1-d7a5-4b09-9377-57c4de7ea2a1",
   "metadata": {},
   "source": [
    "### Descriptive Statistics"
   ]
  },
  {
   "cell_type": "markdown",
   "id": "8e7409e5-2faa-46ce-850a-7337eafaf02f",
   "metadata": {},
   "source": [
    "#### numerical columns "
   ]
  },
  {
   "cell_type": "code",
   "execution_count": 13,
   "id": "6a55ec17-b484-458c-a8a5-76fb38416e0e",
   "metadata": {},
   "outputs": [
    {
     "name": "stdout",
     "output_type": "stream",
     "text": [
      "\n",
      "Numerical Summary:\n"
     ]
    },
    {
     "data": {
      "text/html": [
       "<div>\n",
       "<style scoped>\n",
       "    .dataframe tbody tr th:only-of-type {\n",
       "        vertical-align: middle;\n",
       "    }\n",
       "\n",
       "    .dataframe tbody tr th {\n",
       "        vertical-align: top;\n",
       "    }\n",
       "\n",
       "    .dataframe thead th {\n",
       "        text-align: right;\n",
       "    }\n",
       "</style>\n",
       "<table border=\"1\" class=\"dataframe\">\n",
       "  <thead>\n",
       "    <tr style=\"text-align: right;\">\n",
       "      <th></th>\n",
       "      <th>Age</th>\n",
       "      <th>BloodPressure</th>\n",
       "      <th>Cholesterol</th>\n",
       "      <th>HeartRate</th>\n",
       "      <th>QuantumPatternFeature</th>\n",
       "    </tr>\n",
       "  </thead>\n",
       "  <tbody>\n",
       "    <tr>\n",
       "      <th>count</th>\n",
       "      <td>499.000000</td>\n",
       "      <td>498.000000</td>\n",
       "      <td>499.000000</td>\n",
       "      <td>499.000000</td>\n",
       "      <td>499.000000</td>\n",
       "    </tr>\n",
       "    <tr>\n",
       "      <th>mean</th>\n",
       "      <td>54.853707</td>\n",
       "      <td>132.823293</td>\n",
       "      <td>221.276553</td>\n",
       "      <td>88.781563</td>\n",
       "      <td>8.313367</td>\n",
       "    </tr>\n",
       "    <tr>\n",
       "      <th>std</th>\n",
       "      <td>14.298055</td>\n",
       "      <td>26.451065</td>\n",
       "      <td>43.952736</td>\n",
       "      <td>17.405464</td>\n",
       "      <td>0.919856</td>\n",
       "    </tr>\n",
       "    <tr>\n",
       "      <th>min</th>\n",
       "      <td>30.000000</td>\n",
       "      <td>90.000000</td>\n",
       "      <td>150.000000</td>\n",
       "      <td>60.000000</td>\n",
       "      <td>6.164692</td>\n",
       "    </tr>\n",
       "    <tr>\n",
       "      <th>25%</th>\n",
       "      <td>43.000000</td>\n",
       "      <td>111.000000</td>\n",
       "      <td>183.000000</td>\n",
       "      <td>73.000000</td>\n",
       "      <td>7.667603</td>\n",
       "    </tr>\n",
       "    <tr>\n",
       "      <th>50%</th>\n",
       "      <td>55.000000</td>\n",
       "      <td>131.500000</td>\n",
       "      <td>221.000000</td>\n",
       "      <td>89.000000</td>\n",
       "      <td>8.319011</td>\n",
       "    </tr>\n",
       "    <tr>\n",
       "      <th>75%</th>\n",
       "      <td>66.000000</td>\n",
       "      <td>155.000000</td>\n",
       "      <td>258.000000</td>\n",
       "      <td>103.500000</td>\n",
       "      <td>8.933010</td>\n",
       "    </tr>\n",
       "    <tr>\n",
       "      <th>max</th>\n",
       "      <td>79.000000</td>\n",
       "      <td>179.000000</td>\n",
       "      <td>299.000000</td>\n",
       "      <td>119.000000</td>\n",
       "      <td>10.784886</td>\n",
       "    </tr>\n",
       "  </tbody>\n",
       "</table>\n",
       "</div>"
      ],
      "text/plain": [
       "              Age  BloodPressure  Cholesterol   HeartRate  \\\n",
       "count  499.000000     498.000000   499.000000  499.000000   \n",
       "mean    54.853707     132.823293   221.276553   88.781563   \n",
       "std     14.298055      26.451065    43.952736   17.405464   \n",
       "min     30.000000      90.000000   150.000000   60.000000   \n",
       "25%     43.000000     111.000000   183.000000   73.000000   \n",
       "50%     55.000000     131.500000   221.000000   89.000000   \n",
       "75%     66.000000     155.000000   258.000000  103.500000   \n",
       "max     79.000000     179.000000   299.000000  119.000000   \n",
       "\n",
       "       QuantumPatternFeature  \n",
       "count             499.000000  \n",
       "mean                8.313367  \n",
       "std                 0.919856  \n",
       "min                 6.164692  \n",
       "25%                 7.667603  \n",
       "50%                 8.319011  \n",
       "75%                 8.933010  \n",
       "max                10.784886  "
      ]
     },
     "execution_count": 13,
     "metadata": {},
     "output_type": "execute_result"
    }
   ],
   "source": [
    "print(\"\\nNumerical Summary:\")\n",
    "df1.describe() # count to check no of non empty values #Min #Max #stats of data "
   ]
  },
  {
   "cell_type": "code",
   "execution_count": 14,
   "id": "e8e8be91-1c36-4f1f-b96d-449eada13a65",
   "metadata": {},
   "outputs": [
    {
     "name": "stdout",
     "output_type": "stream",
     "text": [
      "\n",
      "Medians for numerical columns:\n",
      "Age                       55.000000\n",
      "BloodPressure            131.500000\n",
      "Cholesterol              221.000000\n",
      "HeartRate                 89.000000\n",
      "QuantumPatternFeature      8.319011\n",
      "dtype: float64\n"
     ]
    }
   ],
   "source": [
    "print(\"\\nMedians for numerical columns:\")\n",
    "print(df1.median(numeric_only=True))"
   ]
  },
  {
   "cell_type": "code",
   "execution_count": 15,
   "id": "71d5a1cd-8472-43ec-9694-6fb30c3120da",
   "metadata": {},
   "outputs": [
    {
     "name": "stdout",
     "output_type": "stream",
     "text": [
      "\n",
      " mean for numerical columns:\n",
      "Age                       54.853707\n",
      "BloodPressure            132.823293\n",
      "Cholesterol              221.276553\n",
      "HeartRate                 88.781563\n",
      "QuantumPatternFeature      8.313367\n",
      "dtype: float64\n"
     ]
    }
   ],
   "source": [
    "print(\"\\n mean for numerical columns:\")\n",
    "print(df1.mean(numeric_only=True))"
   ]
  },
  {
   "cell_type": "code",
   "execution_count": 17,
   "id": "ab097d27-fc65-4b73-94d4-80e81b611498",
   "metadata": {},
   "outputs": [
    {
     "name": "stdout",
     "output_type": "stream",
     "text": [
      "\n",
      "  skewness of the numerical columns:\n",
      "Age                     -0.108460\n",
      "BloodPressure            0.080164\n",
      "Cholesterol              0.103386\n",
      "HeartRate               -0.007654\n",
      "QuantumPatternFeature    0.081781\n",
      "dtype: float64\n"
     ]
    }
   ],
   "source": [
    "print(\"\\n  skewness of the numerical columns:\")\n",
    "print(df1.skew(numeric_only=True))"
   ]
  },
  {
   "cell_type": "markdown",
   "id": "e939bc2d-6739-4158-bd42-acd00752267f",
   "metadata": {},
   "source": [
    "#### categorical columns "
   ]
  },
  {
   "cell_type": "code",
   "execution_count": null,
   "id": "3c7cf908-64c4-48a4-ad93-c5c29f0c3954",
   "metadata": {},
   "outputs": [],
   "source": [
    "#not working need to check it \n",
    "print(\"\\nCategorical Summary:\")\n",
    "for col in df1.select_dtypes(include=['object']).columns:\n",
    "    print(f\"\\nValue counts for column '{col}':\\n{df1[col].value_counts()}\")"
   ]
  },
  {
   "cell_type": "code",
   "execution_count": null,
   "id": "8c803bc3-c52f-4ef5-9c0b-19b600da7a04",
   "metadata": {},
   "outputs": [],
   "source": [
    "HeartDisease_counts = df1['HeartDisease'].value_counts()"
   ]
  },
  {
   "cell_type": "markdown",
   "id": "1c563cbb-e9d6-4bdd-b72a-366ab6bb18bb",
   "metadata": {},
   "source": [
    "### Data Visualization"
   ]
  },
  {
   "cell_type": "markdown",
   "id": "13124dee-9fb3-4d81-b246-2b115cc24572",
   "metadata": {},
   "source": [
    "#### histograms or density plots for numerical"
   ]
  },
  {
   "cell_type": "markdown",
   "id": "1f3d2b27-aa00-40ee-b29a-0634d666b977",
   "metadata": {},
   "source": [
    "##### HISTOGRAM"
   ]
  },
  {
   "cell_type": "code",
   "execution_count": null,
   "id": "d929e62c-ed19-4ec5-9f52-97c42ed58367",
   "metadata": {},
   "outputs": [],
   "source": [
    "df1.hist(figsize=(12,10))\n",
    "plt.show()"
   ]
  },
  {
   "cell_type": "markdown",
   "id": "6eab6649-bdd8-4c99-a0cb-f3fc1a11478b",
   "metadata": {},
   "source": [
    "##### Bar plots"
   ]
  },
  {
   "cell_type": "code",
   "execution_count": null,
   "id": "60e10a53-0dc2-4e0d-a1e6-9a2b2dd97636",
   "metadata": {},
   "outputs": [],
   "source": [
    "print(\"\\n Bar plots of categorical features:\")\n",
    "for col in df1.select_dtypes(include=['object']).columns:\n",
    "    sns.countplot(x=col, data=df1)\n",
    "    plt.title(f'Bar Plot of {col}')\n",
    "    plt.show()"
   ]
  },
  {
   "cell_type": "code",
   "execution_count": null,
   "id": "3540b263-5ca6-4cf9-979e-b0600b3f0b11",
   "metadata": {},
   "outputs": [],
   "source": [
    "print(\"\\n Bar plots of categorical features:\")\n",
    "for col in df1.select_dtypes(include=['object']).columns:\n",
    "    sns.countplot(x=col, data=df1)\n",
    "    plt.title(f'Bar Plot of  Numerical features {col}')\n",
    "    plt.show()"
   ]
  },
  {
   "cell_type": "markdown",
   "id": "2d34107d-584c-44f0-a616-9d410317098d",
   "metadata": {},
   "source": [
    "##### Box Plots (Outlier Detection):"
   ]
  },
  {
   "cell_type": "code",
   "execution_count": null,
   "id": "aedf9a67-974c-4f7a-9d53-63d640c1695e",
   "metadata": {},
   "outputs": [],
   "source": [
    "print(\"\\n Box plots to find outlayers finding : \")\n",
    "sns.boxplot(data=df1[['Age','Cholesterol','BloodPressure','HeartRate','QuantumPatternFeature']],palette='coolwarm')\n",
    "plt.xticks(rotation=90)\n",
    "plt.title(\"Box Plot of features\")\n",
    "plt.show()"
   ]
  },
  {
   "cell_type": "markdown",
   "id": "b649e4c4-2ac0-4fe2-a80c-d3643ecf91bf",
   "metadata": {},
   "source": [
    "##### Scatter Plots (Relationship between Numerical Features)"
   ]
  },
  {
   "cell_type": "code",
   "execution_count": null,
   "id": "e7af9b85-e171-48b4-9b16-4bced9f5abe5",
   "metadata": {},
   "outputs": [],
   "source": [
    "print(\"\\n Scatter plot of age and cholesterol:\")\n",
    "print(sns.scatterplot(data=df1,x='Age',y='Cholesterol'))"
   ]
  },
  {
   "cell_type": "code",
   "execution_count": null,
   "id": "41739508-3910-48a2-954f-583ad416a931",
   "metadata": {},
   "outputs": [],
   "source": [
    "print(\"\\n Scatter plot of Blood Pressure  and  Cholesterol:\")\n",
    "print(sns.scatterplot(data=df1,x='BloodPressure',y='Cholesterol'))"
   ]
  },
  {
   "cell_type": "code",
   "execution_count": 18,
   "id": "cc86859a-2b91-4693-9369-57013280aabb",
   "metadata": {},
   "outputs": [
    {
     "name": "stdout",
     "output_type": "stream",
     "text": [
      "\n",
      " Heatmap of correlation map:\n"
     ]
    },
    {
     "data": {
      "image/png": "[encoded data removed]",
      "text/plain": [
       "<Figure size 640x480 with 2 Axes>"
      ]
     },
     "metadata": {},
     "output_type": "display_data"
    }
   ],
   "source": [
    "print(\"\\n Heatmap of correlation map:\")\n",
    "map=df1.corr(numeric_only=True)\n",
    "sns.heatmap(map,annot=True,cmap='coolwarm')\n",
    "plt.title('Feature Correlation Heatmap')\n",
    "plt.show()"
   ]
  },
  {
   "cell_type": "markdown",
   "id": "3218224f-a1fe-4d70-a1e9-f1960dd3239c",
   "metadata": {},
   "source": [
    "### Group Analysis"
   ]
  },
  {
   "cell_type": "code",
   "execution_count": 19,
   "id": "fa5886a3-ca3b-4688-85ea-3342f6e469ea",
   "metadata": {},
   "outputs": [
    {
     "name": "stdout",
     "output_type": "stream",
     "text": [
      "\n",
      " Group analysis by gender:\n",
      "Gender\n",
      "Female    55.075472\n",
      "Male      54.602564\n",
      "Name: Age, dtype: float64\n"
     ]
    }
   ],
   "source": [
    "print(\"\\n Group analysis by gender:\")\n",
    "print(df1.groupby('Gender')['Age'].mean())"
   ]
  },
  {
   "cell_type": "code",
   "execution_count": null,
   "id": "a2a36eea-1b14-4800-9fce-320f888d7a8d",
   "metadata": {},
   "outputs": [],
   "source": [
    "print(\"\\n Group analysis by Cholesterol:\")\n",
    "print(df1.groupby('Cholesterol')['Age'].mean())"
   ]
  },
  {
   "cell_type": "code",
   "execution_count": null,
   "id": "49a81eea-6228-499a-8b0e-4f5d75adf151",
   "metadata": {},
   "outputs": [],
   "source": [
    "print(\"\\n Group analysis by BloodPressure:\")\n",
    "print(df1.groupby('BloodPressure')['Age'].mean())"
   ]
  },
  {
   "cell_type": "code",
   "execution_count": null,
   "id": "3d5b7dfe-5707-4f81-8757-327af38994b5",
   "metadata": {},
   "outputs": [],
   "source": [
    "print(\"\\n### Group analysis by HeartDisease:\")\n",
    "print(df1.groupby('HeartDisease')['Age'].mean())"
   ]
  },
  {
   "cell_type": "code",
   "execution_count": null,
   "id": "e65000a4-6847-4b71-add9-ecda9aaf2131",
   "metadata": {},
   "outputs": [],
   "source": [
    "print(\"\\n### Group analysis by HeartDisease:\")\n",
    "print(df1.groupby('HeartDisease')['Cholesterol'].mean())"
   ]
  },
  {
   "cell_type": "code",
   "execution_count": null,
   "id": "efc4df48-f81b-42bd-90f8-b8026cd2a71f",
   "metadata": {},
   "outputs": [],
   "source": [
    "table = pd.pivot_table(df1, values=['Gender', 'Age'], index=['Cholesterol', 'QuantumPatternFeature'],aggfunc={'Gender': \"mean\",'Age': [\"min\", \"max\", \"mean\"]})\n",
    "print(\"\\n Pivot table:\")\n",
    "print(table)"
   ]
  },
  {
   "cell_type": "markdown",
   "id": "e60ae8b8-5c8a-42dc-b6dc-ed54b54ead7a",
   "metadata": {},
   "source": [
    "#### Feature Analysis"
   ]
  },
  {
   "cell_type": "markdown",
   "id": "67e5115d-7be9-4685-986d-5c6035a59445",
   "metadata": {},
   "source": [
    "##### pair plot "
   ]
  },
  {
   "cell_type": "code",
   "execution_count": null,
   "id": "bddf8b71-15c9-47d9-be36-183b615e7c96",
   "metadata": {},
   "outputs": [],
   "source": [
    "print (\"\\n Pairplot:\",sns.pairplot(df1[['Age','Cholesterol','HeartDisease','BloodPressure']],height=1.5))"
   ]
  },
  {
   "cell_type": "code",
   "execution_count": null,
   "id": "82343c1c-0358-4f3c-b2c8-90722d211006",
   "metadata": {},
   "outputs": [],
   "source": [
    "plt.figure(figsize=(8, 6))\n",
    "sns.boxplot(x='QuantumPatternFeature', y='Age', data=df1)\n",
    "plt.title(\"Box Plot of Age vs. QuantumPatternFeature\")\n",
    "plt.show()"
   ]
  },
  {
   "cell_type": "code",
   "execution_count": 22,
   "id": "d13c0715-132c-47b2-97e9-9c7d886b0324",
   "metadata": {},
   "outputs": [
    {
     "name": "stdout",
     "output_type": "stream",
     "text": [
      "Cholesterol              1.000000\n",
      "QuantumPatternFeature    0.552027\n",
      "HeartRate                0.012421\n",
      "Age                     -0.015937\n",
      "BloodPressure           -0.031048\n",
      "Name: Cholesterol, dtype: float64\n"
     ]
    }
   ],
   "source": [
    "correlation_matrix = df1.corr(numeric_only=True)\n",
    "print(correlation_matrix['Cholesterol'].sort_values(ascending=False))"
   ]
  },
  {
   "cell_type": "code",
   "execution_count": null,
   "id": "670f6a32-c5ac-4af3-bbe4-b01814fd4e04",
   "metadata": {},
   "outputs": [],
   "source": [
    "# Age Distribution\n",
    "plt.figure(figsize=(8, 6))\n",
    "sns.histplot(df1['Age'], kde=True)\n",
    "plt.title('Age Distribution')\n",
    "plt.show()"
   ]
  },
  {
   "cell_type": "code",
   "execution_count": null,
   "id": "b187d3ac-51a3-47b5-bae7-4c7170de90d4",
   "metadata": {},
   "outputs": [],
   "source": [
    "# Gender Distribution\n",
    "plt.figure(figsize=(6, 4))\n",
    "sns.countplot(x='Gender', data=df1)\n",
    "plt.title('Gender Distribution')\n",
    "plt.show()"
   ]
  },
  {
   "cell_type": "code",
   "execution_count": null,
   "id": "ecc7d4aa-1ff8-41eb-b7ee-0c82351d3b81",
   "metadata": {},
   "outputs": [],
   "source": [
    "# Quantum Pattern Feature Distribution\n",
    "plt.figure(figsize=(8, 6))\n",
    "sns.histplot(df1['QuantumPatternFeature'], kde=True)\n",
    "plt.title('Quantum Pattern Feature Distribution')\n",
    "plt.show()"
   ]
  },
  {
   "cell_type": "code",
   "execution_count": null,
   "id": "adad4ada-da00-4dec-a508-04cb23c69354",
   "metadata": {},
   "outputs": [],
   "source": [
    "# Target Variable Distribution (Heart Disease)\n",
    "plt.figure(figsize=(6, 4))\n",
    "sns.countplot(x='HeartDisease', data=df1)\n",
    "plt.title('Heart Disease Distribution')\n",
    "plt.show()"
   ]
  },
  {
   "cell_type": "code",
   "execution_count": null,
   "id": "1b594d7a-e84d-464c-99ed-2bf05b6bf5fd",
   "metadata": {},
   "outputs": [],
   "source": [
    "# Relationship between features and target variable\n",
    "sns.pairplot(df1, hue='HeartDisease')\n",
    "plt.show()"
   ]
  },
  {
   "cell_type": "code",
   "execution_count": 20,
   "id": "799e026f-318e-4760-958c-22ce3e2f5f83",
   "metadata": {},
   "outputs": [
    {
     "name": "stdout",
     "output_type": "stream",
     "text": [
      "\n",
      "Feature Details:\n",
      "\n",
      "Feature: Age\n",
      "  - Data Type: int64\n",
      "  - Unique Values: 50\n",
      "  - Unique Value Examples: [68 58 44 72 37]\n",
      "  - Min: 30\n",
      "  - Max: 79\n",
      "  - Mean: 54.85370741482966\n",
      "  - Standard Deviation: 14.298055070454728\n",
      "\n",
      "Feature: Gender\n",
      "  - Data Type: object\n",
      "  - Unique Values: 2\n",
      "  - Unique Value Examples: ['Male' 'Female']\n",
      "\n",
      "Feature: BloodPressure\n",
      "  - Data Type: float64\n",
      "  - Unique Values: 89\n",
      "  - Unique Value Examples: [105.  97.  93. 145. 114.]\n",
      "  - Min: 90.0\n",
      "  - Max: 179.0\n",
      "  - Mean: 132.82329317269077\n",
      "  - Standard Deviation: 26.451065247257656\n",
      "\n",
      "Feature: Cholesterol\n",
      "  - Data Type: int64\n",
      "  - Unique Values: 142\n",
      "  - Unique Value Examples: [191 249 190 183 166]\n",
      "  - Min: 150\n",
      "  - Max: 299\n",
      "  - Mean: 221.27655310621242\n",
      "  - Standard Deviation: 43.95273647358891\n",
      "\n",
      "Feature: HeartRate\n",
      "  - Data Type: int64\n",
      "  - Unique Values: 60\n",
      "  - Unique Value Examples: [107  89  82 101 103]\n",
      "  - Min: 60\n",
      "  - Max: 119\n",
      "  - Mean: 88.78156312625251\n",
      "  - Standard Deviation: 17.405464127321423\n",
      "\n",
      "Feature: QuantumPatternFeature\n",
      "  - Data Type: float64\n",
      "  - Unique Values: 498\n",
      "  - Unique Value Examples: [8.36224069 9.24900153 7.94254206 6.49515512 7.65390012]\n",
      "  - Min: 6.164692103\n",
      "  - Max: 10.78488616\n",
      "  - Mean: 8.313367311687374\n",
      "  - Standard Deviation: 0.9198556284439269\n",
      "\n",
      "Feature: HeartDisease\n",
      "  - Data Type: object\n",
      "  - Unique Values: 2\n",
      "  - Unique Value Examples: ['Yes' 'No']\n"
     ]
    }
   ],
   "source": [
    "# Feature Details:\n",
    "\n",
    "print(\"\\nFeature Details:\")\n",
    "for col in df1.columns:\n",
    "    print(f\"\\nFeature: {col}\")\n",
    "    print(f\"  - Data Type: {df1[col].dtype}\")\n",
    "    print(f\"  - Unique Values: {df1[col].nunique()}\")\n",
    "    print(f\"  - Unique Value Examples: {df1[col].unique()[:5]}\") # Display first 5 unique values\n",
    "    if df1[col].dtype != 'object': #avoid statistical details for object datatypes.\n",
    "        print(f\"  - Min: {df1[col].min()}\")\n",
    "        print(f\"  - Max: {df1[col].max()}\")\n",
    "        print(f\"  - Mean: {df1[col].mean()}\")\n",
    "        print(f\"  - Standard Deviation: {df1[col].std()}\")"
   ]
  },
  {
   "cell_type": "code",
   "execution_count": null,
   "id": "2edec5a3-5953-4702-9877-2ec71ebf8aa3",
   "metadata": {},
   "outputs": [],
   "source": []
  }
 ],
 "metadata": {
  "kernelspec": {
   "display_name": "Python 3 (ipykernel)",
   "language": "python",
   "name": "python3"
  },
  "language_info": {
   "codemirror_mode": {
    "name": "ipython",
    "version": 3
   },
   "file_extension": ".py",
   "mimetype": "text/x-python",
   "name": "python",
   "nbconvert_exporter": "python",
   "pygments_lexer": "ipython3",
   "version": "3.12.9"
  }
 },
 "nbformat": 4,
 "nbformat_minor": 5
}
